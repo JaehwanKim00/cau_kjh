{
  "cells": [
    {
      "cell_type": "markdown",
      "metadata": {
        "id": "PisS4SaRp0Ey"
      },
      "source": [
        "This is a companion notebook for the book [Deep Learning with Python, Second Edition](https://www.manning.com/books/deep-learning-with-python-second-edition?a_aid=keras&a_bid=76564dff). For readability, it only contains runnable code blocks and section titles, and omits everything else in the book: text paragraphs, figures, and pseudocode.\n",
        "\n",
        "**If you want to be able to follow what's going on, I recommend reading the notebook side by side with your copy of the book.**\n",
        "\n",
        "This notebook was generated for TensorFlow 2.6."
      ]
    },
    {
      "cell_type": "markdown",
      "metadata": {
        "id": "ZrK6Aa4Hp0E3"
      },
      "source": [
        "# Introduction to Keras and TensorFlow"
      ]
    },
    {
      "cell_type": "markdown",
      "metadata": {
        "id": "bY0lMANpp0E4"
      },
      "source": [
        "## What's TensorFlow?"
      ]
    },
    {
      "cell_type": "markdown",
      "metadata": {
        "id": "ZayrfByfp0E5"
      },
      "source": [
        "## What's Keras?"
      ]
    },
    {
      "cell_type": "markdown",
      "metadata": {
        "id": "hgNkvRM9p0E6"
      },
      "source": [
        "## Keras and TensorFlow: A brief history"
      ]
    },
    {
      "cell_type": "markdown",
      "metadata": {
        "id": "t4Pa5a4Cp0E6"
      },
      "source": [
        "## Setting up a deep-learning workspace"
      ]
    },
    {
      "cell_type": "markdown",
      "metadata": {
        "id": "3XH3J_GHp0E7"
      },
      "source": [
        "### Jupyter notebooks: The preferred way to run deep-learning experiments"
      ]
    },
    {
      "cell_type": "markdown",
      "metadata": {
        "id": "hnD4ANkgp0E8"
      },
      "source": [
        "### Using Colaboratory"
      ]
    },
    {
      "cell_type": "markdown",
      "metadata": {
        "id": "tZySlwyqp0E9"
      },
      "source": [
        "#### First steps with Colaboratory"
      ]
    },
    {
      "cell_type": "markdown",
      "metadata": {
        "id": "Yt7QLUTPp0E9"
      },
      "source": [
        "#### Installing packages with pip"
      ]
    },
    {
      "cell_type": "markdown",
      "metadata": {
        "id": "pK1i5cOHp0E-"
      },
      "source": [
        "#### Using the GPU runtime"
      ]
    },
    {
      "cell_type": "markdown",
      "metadata": {
        "id": "oHE3WqC8p0E-"
      },
      "source": [
        "## First steps with TensorFlow"
      ]
    },
    {
      "cell_type": "markdown",
      "metadata": {
        "id": "NP_5jR00p0E_"
      },
      "source": [
        "#### Constant tensors and variables"
      ]
    },
    {
      "cell_type": "markdown",
      "metadata": {
        "id": "PMNl2y_Wp0E_"
      },
      "source": [
        "**All-ones or all-zeros tensors**"
      ]
    },
    {
      "cell_type": "code",
      "execution_count": 1,
      "metadata": {
        "id": "ngTe4xkIp0FA",
        "outputId": "7b1ceff6-1117-441c-da82-6bfed51cde6f",
        "colab": {
          "base_uri": "https://localhost:8080/"
        }
      },
      "outputs": [
        {
          "output_type": "stream",
          "name": "stdout",
          "text": [
            "tf.Tensor(\n",
            "[[1.]\n",
            " [1.]], shape=(2, 1), dtype=float32)\n"
          ]
        }
      ],
      "source": [
        "import tensorflow as tf\n",
        "x = tf.ones(shape=(2, 1))\n",
        "print(x)"
      ]
    },
    {
      "cell_type": "code",
      "execution_count": 2,
      "metadata": {
        "id": "fAkYS60Np0FC",
        "outputId": "c1e76c59-24c3-4feb-9a0e-f2192450dff0",
        "colab": {
          "base_uri": "https://localhost:8080/"
        }
      },
      "outputs": [
        {
          "output_type": "stream",
          "name": "stdout",
          "text": [
            "tf.Tensor(\n",
            "[[0.]\n",
            " [0.]], shape=(2, 1), dtype=float32)\n"
          ]
        }
      ],
      "source": [
        "x = tf.zeros(shape=(2, 1))\n",
        "print(x)"
      ]
    },
    {
      "cell_type": "markdown",
      "metadata": {
        "id": "_X24FBPOp0FD"
      },
      "source": [
        "**Random tensors**"
      ]
    },
    {
      "cell_type": "code",
      "execution_count": 3,
      "metadata": {
        "id": "alPl_WfFp0FD",
        "outputId": "15285c12-2b4a-4d49-87b2-8f5842e33afd",
        "colab": {
          "base_uri": "https://localhost:8080/"
        }
      },
      "outputs": [
        {
          "output_type": "stream",
          "name": "stdout",
          "text": [
            "tf.Tensor(\n",
            "[[ 1.1185532 ]\n",
            " [ 1.9900709 ]\n",
            " [-0.12856834]], shape=(3, 1), dtype=float32)\n"
          ]
        }
      ],
      "source": [
        "x = tf.random.normal(shape=(3, 1), mean=0., stddev=1.)\n",
        "print(x)"
      ]
    },
    {
      "cell_type": "code",
      "execution_count": 4,
      "metadata": {
        "id": "mK96nzh-p0FE",
        "outputId": "ca7f369c-278f-4739-8b29-50e382c70d56",
        "colab": {
          "base_uri": "https://localhost:8080/"
        }
      },
      "outputs": [
        {
          "output_type": "stream",
          "name": "stdout",
          "text": [
            "tf.Tensor(\n",
            "[[0.48493493]\n",
            " [0.7262447 ]\n",
            " [0.9877124 ]], shape=(3, 1), dtype=float32)\n"
          ]
        }
      ],
      "source": [
        "x = tf.random.uniform(shape=(3, 1), minval=0., maxval=1.)  # 0에서 1까지\n",
        "print(x)"
      ]
    },
    {
      "cell_type": "markdown",
      "metadata": {
        "id": "9uRhbji_p0FE"
      },
      "source": [
        "**NumPy arrays are assignable**"
      ]
    },
    {
      "cell_type": "code",
      "execution_count": 6,
      "metadata": {
        "id": "Zocg2oVVp0FF",
        "outputId": "82bea082-c3ae-441d-a478-5ee54ae63ee5",
        "colab": {
          "base_uri": "https://localhost:8080/"
        }
      },
      "outputs": [
        {
          "output_type": "stream",
          "name": "stdout",
          "text": [
            "[[0. 1.]\n",
            " [1. 1.]]\n"
          ]
        }
      ],
      "source": [
        "import numpy as np\n",
        "x = np.ones(shape=(2, 2))\n",
        "x[0, 0] = 0.\n",
        "print(x)"
      ]
    },
    {
      "cell_type": "markdown",
      "metadata": {
        "id": "EmMfEuQyp0FG"
      },
      "source": [
        "**Creating a TensorFlow variable**"
      ]
    },
    {
      "cell_type": "code",
      "execution_count": 7,
      "metadata": {
        "id": "hBS05_hwp0FG",
        "outputId": "2ca60623-e8d7-44f1-bfa8-d89eefc89de9",
        "colab": {
          "base_uri": "https://localhost:8080/"
        }
      },
      "outputs": [
        {
          "output_type": "stream",
          "name": "stdout",
          "text": [
            "<tf.Variable 'Variable:0' shape=(3, 1) dtype=float32, numpy=\n",
            "array([[ 1.0453777 ],\n",
            "       [-0.44027913],\n",
            "       [ 0.5215913 ]], dtype=float32)>\n"
          ]
        }
      ],
      "source": [
        "v = tf.Variable(initial_value=tf.random.normal(shape=(3, 1)))\n",
        "print(v)\n",
        "# 위 코드는 TensorFlow를 사용하여 shape가 (3, 1)이고 값이 0과 1 사이의 균등분포에서 랜덤으로 선택된 값으로 이루어진 텐서 x를 생성하고, shape가 (3, 1)이고 \n",
        "# 값이 평균 0, 표준편차 1인 정규분포에서 랜덤으로 선택된 값으로 이루어진 TensorFlow 변수 v를 생성하는 코드입니다."
      ]
    },
    {
      "cell_type": "markdown",
      "metadata": {
        "id": "_GX7_-5Xp0FH"
      },
      "source": [
        "**Assigning a value to a TensorFlow variable**"
      ]
    },
    {
      "cell_type": "code",
      "execution_count": 8,
      "metadata": {
        "id": "15QkJsibp0FI",
        "outputId": "b9be1c9c-e3a0-4788-d3a6-d22ecd47301e",
        "colab": {
          "base_uri": "https://localhost:8080/"
        }
      },
      "outputs": [
        {
          "output_type": "execute_result",
          "data": {
            "text/plain": [
              "<tf.Variable 'UnreadVariable' shape=(3, 1) dtype=float32, numpy=\n",
              "array([[1.],\n",
              "       [1.],\n",
              "       [1.]], dtype=float32)>"
            ]
          },
          "metadata": {},
          "execution_count": 8
        }
      ],
      "source": [
        "v.assign(tf.ones((3, 1)))"
      ]
    },
    {
      "cell_type": "markdown",
      "metadata": {
        "id": "XNiRrSEQp0FI"
      },
      "source": [
        "**Assigning a value to a subset of a TensorFlow variable**"
      ]
    },
    {
      "cell_type": "code",
      "execution_count": 9,
      "metadata": {
        "id": "qa7Dl9Vep0FJ",
        "outputId": "b00323e3-1152-441c-eea1-2b570fb023e8",
        "colab": {
          "base_uri": "https://localhost:8080/"
        }
      },
      "outputs": [
        {
          "output_type": "execute_result",
          "data": {
            "text/plain": [
              "<tf.Variable 'UnreadVariable' shape=(3, 1) dtype=float32, numpy=\n",
              "array([[3.],\n",
              "       [1.],\n",
              "       [1.]], dtype=float32)>"
            ]
          },
          "metadata": {},
          "execution_count": 9
        }
      ],
      "source": [
        "v[0, 0].assign(3.)"
      ]
    },
    {
      "cell_type": "markdown",
      "metadata": {
        "id": "cfbW4PZXp0FJ"
      },
      "source": [
        "**Using `assign_add`**"
      ]
    },
    {
      "cell_type": "code",
      "execution_count": 10,
      "metadata": {
        "id": "eOKc5fvxp0FK",
        "outputId": "115fa992-3fcd-4984-ae62-5370b50bc546",
        "colab": {
          "base_uri": "https://localhost:8080/"
        }
      },
      "outputs": [
        {
          "output_type": "execute_result",
          "data": {
            "text/plain": [
              "<tf.Variable 'UnreadVariable' shape=(3, 1) dtype=float32, numpy=\n",
              "array([[4.],\n",
              "       [2.],\n",
              "       [2.]], dtype=float32)>"
            ]
          },
          "metadata": {},
          "execution_count": 10
        }
      ],
      "source": [
        "v.assign_add(tf.ones((3, 1))) # 1씩 더함"
      ]
    },
    {
      "cell_type": "markdown",
      "metadata": {
        "id": "w4G5eFoDp0FK"
      },
      "source": [
        "#### Tensor operations: Doing math in TensorFlow"
      ]
    },
    {
      "cell_type": "markdown",
      "metadata": {
        "id": "8mjRMfrLp0FL"
      },
      "source": [
        "**A few basic math operations**"
      ]
    },
    {
      "cell_type": "code",
      "execution_count": 12,
      "metadata": {
        "id": "IpeJU0Onp0FL",
        "outputId": "d4bc01ad-bc5d-4461-b1ca-c38e2683dced",
        "colab": {
          "base_uri": "https://localhost:8080/"
        }
      },
      "outputs": [
        {
          "output_type": "stream",
          "name": "stdout",
          "text": [
            "tf.Tensor(\n",
            "[[1. 1.]\n",
            " [1. 1.]], shape=(2, 2), dtype=float32)\n",
            "tf.Tensor(\n",
            "[[1. 1.]\n",
            " [1. 1.]], shape=(2, 2), dtype=float32)\n",
            "tf.Tensor(\n",
            "[[1. 1.]\n",
            " [1. 1.]], shape=(2, 2), dtype=float32)\n",
            "tf.Tensor(\n",
            "[[2. 2.]\n",
            " [2. 2.]], shape=(2, 2), dtype=float32)\n",
            "tf.Tensor(\n",
            "[[4. 4.]\n",
            " [4. 4.]], shape=(2, 2), dtype=float32)\n"
          ]
        }
      ],
      "source": [
        "a = tf.ones((2, 2))\n",
        "b = tf.square(a)\n",
        "c = tf.sqrt(a)\n",
        "d = b + c\n",
        "e = tf.matmul(a, b)\n",
        "e *= d\n",
        "print(a)\n",
        "print(b)\n",
        "print(c)\n",
        "print(d)\n",
        "print(e)"
      ]
    },
    {
      "cell_type": "markdown",
      "metadata": {
        "id": "qTObLIDTp0FN"
      },
      "source": [
        "#### A second look at the GradientTape API"
      ]
    },
    {
      "cell_type": "markdown",
      "metadata": {
        "id": "Tq4nK-pyp0FN"
      },
      "source": [
        "**Using the `GradientTape`**"
      ]
    },
    {
      "cell_type": "code",
      "execution_count": 15,
      "metadata": {
        "id": "TCJHL_HBp0FO",
        "outputId": "0e5f3ab7-7ddc-4d76-f54d-a09813beea6a",
        "colab": {
          "base_uri": "https://localhost:8080/"
        }
      },
      "outputs": [
        {
          "output_type": "stream",
          "name": "stdout",
          "text": [
            "tf.Tensor(6.0, shape=(), dtype=float32)\n"
          ]
        }
      ],
      "source": [
        "input_var = tf.Variable(initial_value=3.)\n",
        "with tf.GradientTape() as tape:\n",
        "   result = tf.square(input_var)\n",
        "gradient = tape.gradient(result, input_var)\n",
        "print(gradient)\n",
        "# 이 코드는 변수 input_var에 대해 tf.square()를 취한 결과를 계산하고, 이를 변수 result에 할당합니다. \n",
        "# 그 다음 tf.GradientTape() 내에서 result를 input_var에 대해 미분하면서 기울기를 계산합니다. 이를 gradient에 할당합니다.\n",
        "# 즉, gradient는 result를 input_var에 대해 미분한 값, 즉 2 * input_var 입니다."
      ]
    },
    {
      "cell_type": "markdown",
      "metadata": {
        "id": "UB9nVC-Pp0FP"
      },
      "source": [
        "**Using `GradientTape` with constant tensor inputs**"
      ]
    },
    {
      "cell_type": "code",
      "execution_count": 16,
      "metadata": {
        "id": "mstjbL88p0FP",
        "outputId": "96648437-91b2-46dc-87ae-1304cbe84ada",
        "colab": {
          "base_uri": "https://localhost:8080/"
        }
      },
      "outputs": [
        {
          "output_type": "stream",
          "name": "stdout",
          "text": [
            "tf.Tensor(6.0, shape=(), dtype=float32)\n"
          ]
        }
      ],
      "source": [
        "input_const = tf.constant(3.)\n",
        "with tf.GradientTape() as tape:\n",
        "   tape.watch(input_const)\n",
        "   result = tf.square(input_const)\n",
        "gradient = tape.gradient(result, input_const)\n",
        "print(gradient)\n",
        "# 이 코드는 상수 텐서(input_const)의 변화에 대한 그래디언트를 구하기 위해 tape.watch() 메서드를 사용합니다. \n",
        "# tape.watch() 메서드는 해당 텐서를 감시하도록 지시합니다. \n",
        "# 그래서 input_const를 감싸면 tape.gradient() 메서드에서 그래디언트를 구할 때 해당 텐서에 대한 그래디언트를 계산합니다. \n",
        "# 따라서 이 코드에서는 input_const에 대한 그래디언트를 구할 수 있습니다."
      ]
    },
    {
      "cell_type": "markdown",
      "metadata": {
        "id": "6s_yLtSgp0FQ"
      },
      "source": [
        "**Using nested gradient tapes to compute second-order gradients**"
      ]
    },
    {
      "cell_type": "code",
      "execution_count": 19,
      "metadata": {
        "id": "0Dx1K5C3p0FQ",
        "outputId": "bc829085-837a-4af7-b493-72f4e64fc6e4",
        "colab": {
          "base_uri": "https://localhost:8080/"
        }
      },
      "outputs": [
        {
          "output_type": "stream",
          "name": "stdout",
          "text": [
            "tf.Tensor(9.8, shape=(), dtype=float32)\n",
            "tf.Tensor(0.0, shape=(), dtype=float32)\n"
          ]
        }
      ],
      "source": [
        "time = tf.Variable(0.)\n",
        "with tf.GradientTape() as outer_tape:\n",
        "    with tf.GradientTape() as inner_tape:\n",
        "        position =  4.9 * time ** 2\n",
        "    speed = inner_tape.gradient(position, time)\n",
        "acceleration = outer_tape.gradient(speed, time)\n",
        "print(acceleration)\n",
        "print(speed)\n",
        "\n",
        "# 위 코드는 물리학에서 자주 사용되는 운동학적인 개념을 TensorFlow의 GradientTape을 사용하여 미분하는 방법을 보여줍니다.\n",
        "# time이라는 변수를 0으로 초기화한 후, outer_tape과 inner_tape을 이용해 각각 가속도(acceleration)와 속도(speed)의 변화율을 계산합니다.\n",
        "#inner_tape는 position을 time에 대해 미분하여 speed를 계산하고, outer_tape는 speed를 time에 대해 미분하여 acceleration을 계산합니다.\n"
      ]
    },
    {
      "cell_type": "markdown",
      "metadata": {
        "id": "hgrfwt_tp0FR"
      },
      "source": [
        "#### An end-to-end example: A linear classifier in pure TensorFlow"
      ]
    },
    {
      "cell_type": "markdown",
      "metadata": {
        "id": "2by0g-JCp0FR"
      },
      "source": [
        "**Generating two classes of random points in a 2D plane**"
      ]
    },
    {
      "cell_type": "code",
      "execution_count": 23,
      "metadata": {
        "id": "ytngn0CDp0FS"
      },
      "outputs": [],
      "source": [
        "num_samples_per_class = 1000\n",
        "negative_samples = np.random.multivariate_normal(\n",
        "    mean=[0, 3],\n",
        "    cov=[[1, 0.5],[0.5, 1]],\n",
        "    size=num_samples_per_class)\n",
        "positive_samples = np.random.multivariate_normal(\n",
        "    mean=[3, 0],\n",
        "    cov=[[1, 0.5],[0.5, 1]],\n",
        "    size=num_samples_per_class)\n",
        "\n",
        "# 이 코드는 numpy를 사용하여 두 개의 다변량 정규 분포로부터 샘플을 생성합니다.\n",
        "# negative_samples는 평균이 [0, 3]이고 공분산이 [[1, 0.5],[0.5, 1]]인 다변량 정규 분포에서 num_samples_per_class 수의 샘플을 추출합니다.\n",
        "# positive_samples는 평균이 [3, 0]이고 공분산이 [[1, 0.5],[0.5, 1]]인 다변량 정규 분포에서 num_samples_per_class 수의 샘플을 추출합니다.\n",
        "# 이러한 샘플은 이후 분류 문제에서 데이터 세트를 구성하는 데 사용됩니다."
      ]
    },
    {
      "cell_type": "markdown",
      "metadata": {
        "id": "xyyHi9bHp0FS"
      },
      "source": [
        "**Stacking the two classes into an array with shape (2000, 2)**"
      ]
    },
    {
      "cell_type": "code",
      "execution_count": 24,
      "metadata": {
        "id": "HZUgk0Psp0FS"
      },
      "outputs": [],
      "source": [
        "inputs = np.vstack((negative_samples, positive_samples)).astype(np.float32)\n",
        "\n",
        "# inputs는 negative_samples와 positive_samples를 수직으로 쌓아서 만든 NumPy 배열입니다. \n",
        "# negative_samples와 positive_samples는 각각 2차원 NumPy 배열이고, inputs는 이 둘을 쌓아서 만든 2차원 NumPy 배열입니다. \n",
        "# astype(np.float32)는 모든 원소를 32비트 부동소수점형으로 변환하는 것입니다.\n",
        "# 즉, inputs는 negative_samples와 positive_samples를 쌓아서 만든 2차원 NumPy 배열이고, 모든 원소가 32비트 부동소수점형입니다."
      ]
    },
    {
      "cell_type": "markdown",
      "metadata": {
        "id": "l0Rn5qnTp0FT"
      },
      "source": [
        "**Generating the corresponding targets (0 and 1)**"
      ]
    },
    {
      "cell_type": "code",
      "execution_count": 25,
      "metadata": {
        "id": "3hl-Yogxp0FT"
      },
      "outputs": [],
      "source": [
        "targets = np.vstack((np.zeros((num_samples_per_class, 1), dtype=\"float32\"),\n",
        "                     np.ones((num_samples_per_class, 1), dtype=\"float32\")))\n",
        "# targets는 레이블을 나타내는 변수로, inputs의 각 샘플이 양성(positive)인지 음성(negative)인지를 나타냅니다. \n",
        "# 여기서는 negative_samples에 대한 레이블은 0, positive_samples에 대한 레이블은 1로 지정하였습니다. \n",
        "# np.vstack() 함수를 사용하여 두 개의 데이터셋을 수직으로 쌓아서 하나의 배열로 만들었습니다. 이때 데이터 타입을 float32로 지정했습니다."
      ]
    },
    {
      "cell_type": "markdown",
      "metadata": {
        "id": "Qa2GOavRp0FU"
      },
      "source": [
        "**Plotting the two point classes**"
      ]
    },
    {
      "cell_type": "code",
      "execution_count": 26,
      "metadata": {
        "id": "ZlHFBaidp0FU",
        "outputId": "a5736545-86aa-4168-c58b-25ea8485de94",
        "colab": {
          "base_uri": "https://localhost:8080/",
          "height": 430
        }
      },
      "outputs": [
        {
          "output_type": "display_data",
          "data": {
            "text/plain": [
              "<Figure size 640x480 with 1 Axes>"
            ],
            "image/png": "[encoded data removed]"
          },
          "metadata": {}
        }
      ],
      "source": [
        "import matplotlib.pyplot as plt\n",
        "plt.scatter(inputs[:, 0], inputs[:, 1], c=targets[:, 0])\n",
        "plt.show()\n",
        "# 위 코드는 2차원 공간상에 negative 클래스와 positive 클래스를 각각 파란색과 빨간색으로 나타내는 산점도 그래프를 출력하는 코드입니다. \n",
        "# inputs는 데이터 포인트들의 2차원 좌표를 담은 배열이고, targets는 각 데이터 포인트가 negative 클래스인지 positive 클래스인지를 나타내는 레이블을 담은 배열입니다. \n",
        "# plt.scatter 함수는 inputs 배열의 x좌표와 y좌표를 각각 x, y 축으로 하여 산점도 그래프를 출력합니다.\n",
        "# c 인자를 이용하여 targets 배열을 산점도 그래프의 색상으로 설정합니다. 마지막으로 plt.show() 함수를 호출하여 그래프를 출력합니다."
      ]
    },
    {
      "cell_type": "markdown",
      "metadata": {
        "id": "OQuRUjjDp0FV"
      },
      "source": [
        "**Creating the linear classifier variables**"
      ]
    },
    {
      "cell_type": "code",
      "execution_count": 28,
      "metadata": {
        "id": "KKLWGjsxp0FV"
      },
      "outputs": [],
      "source": [
        "input_dim = 2\n",
        "output_dim = 1\n",
        "W = tf.Variable(initial_value=tf.random.uniform(shape=(input_dim, output_dim)))\n",
        "b = tf.Variable(initial_value=tf.zeros(shape=(output_dim,)))\n",
        "\n",
        "# 주어진 입력 데이터에 대한 이진 분류 문제를 풀기 위해 입력 차원(input_dim) 크기의 가중치 행렬(W)과 출력 차원(output_dim) 크기의 편향(b) 벡터를 변수로 선언하였습니다. \n",
        "# 가중치 행렬(W)의 초기값은 입력 차원과 출력 차원의 크기에 맞게 균등 분포에서 임의로 추출하여 할당하였으며, 편향(b) 벡터의 초기값은 모든 요소가 0인 벡터로 할당하였습니다."
      ]
    },
    {
      "cell_type": "markdown",
      "metadata": {
        "id": "BDbSmf42p0FV"
      },
      "source": [
        "**The forward pass function**"
      ]
    },
    {
      "cell_type": "code",
      "execution_count": 32,
      "metadata": {
        "id": "YrQdjr66p0FW"
      },
      "outputs": [],
      "source": [
        "def model(inputs):\n",
        "    return tf.matmul(inputs, W) + b\n",
        "\n",
        "# 이 모델은 입력 벡터와 가중치 행렬 W의 행렬 곱을 계산한 뒤, 절편 b를 더하여 출력 벡터를 계산하는 단순한 선형 모델입니다. \n",
        "# 이 모델은 입력 벡터의 각 차원과 가중치 행렬의 각 열 간에 선형 관계를 모델링합니다."
      ]
    },
    {
      "cell_type": "markdown",
      "metadata": {
        "id": "lwIPY3CVp0FW"
      },
      "source": [
        "**The mean squared error loss function**"
      ]
    },
    {
      "cell_type": "code",
      "execution_count": 33,
      "metadata": {
        "id": "wKWyi5Gjp0FX"
      },
      "outputs": [],
      "source": [
        "def square_loss(targets, predictions):\n",
        "    per_sample_losses = tf.square(targets - predictions)\n",
        "    return tf.reduce_mean(per_sample_losses)\n",
        "\n",
        "# 이 함수는 타겟과 예측값 간 차이의 제곱을 계산하고, 이를 모든 샘플에 대해 평균을 내어 반환합니다. \n",
        "# 즉, 모델의 예측과 실제 타겟 값 사이의 평균 제곱 오차(mean squared error)를 계산합니다."
      ]
    },
    {
      "cell_type": "markdown",
      "metadata": {
        "id": "vUtnL0lqp0FX"
      },
      "source": [
        "**The training step function**"
      ]
    },
    {
      "cell_type": "code",
      "execution_count": 34,
      "metadata": {
        "id": "QeM5kfmBp0FX"
      },
      "outputs": [],
      "source": [
        "learning_rate = 0.1\n",
        "\n",
        "def training_step(inputs, targets):\n",
        "    with tf.GradientTape() as tape:\n",
        "        predictions = model(inputs)\n",
        "        loss = square_loss(targets, predictions)\n",
        "    grad_loss_wrt_W, grad_loss_wrt_b = tape.gradient(loss, [W, b])\n",
        "    W.assign_sub(grad_loss_wrt_W * learning_rate)\n",
        "    b.assign_sub(grad_loss_wrt_b * learning_rate)\n",
        "    return loss\n",
        "\n",
        "# 이 코드는 단일 뉴런(single neuron)을 사용하여 이진 분류(binary classification)를 위한 훈련 단계(training step)을 구현합니다.\n",
        "\n",
        "# learning_rate는 학습률(learning rate)로, 가중치(weight)와 편향(bias)의 업데이트를 제어합니다.\n",
        "\n",
        "# training_step 함수는 입력(inputs)과 타겟(targets)을 인수로 받습니다. 이 함수는 다음 단계를 수행합니다:\n",
        "\n",
        "# 입력(inputs)을 모델(model)에 전달하여 예측(predictions)을 생성합니다.\n",
        "# 손실 함수(loss function) square_loss를 호출하여 타겟(targets)과 예측(predictions) 사이의 손실(loss)을 계산합니다.\n",
        "# tf.GradientTape을 사용하여 손실(loss)에 대한 가중치(weight)와 편향(bias)의 기울기(gradient)를 계산합니다.\n",
        "# 기울기(gradient)를 사용하여 가중치(weight)와 편향(bias)을 업데이트합니다.\n",
        "# 손실(loss)을 반환합니다.\n",
        "# 가중치(weight) W와 편향(bias) b는 tf.Variable로 초기화됩니다. W는 무작위로 초기화되고 b는 0으로 초기화됩니다.\n",
        "\n",
        "# 모델(model)은 입력(inputs)을 행렬곱(matmul)과 편향(bias) 더하기(add)를 사용하여 예측(predictions)을 생성하는 단일 뉴런(single neuron)입니다.\n",
        "\n",
        "# 손실 함수(loss function) square_loss는 예측(predictions)과 타겟(targets) 사이의 평균 제곱 오차(mean squared error)를 계산합니다.\n",
        "\n",
        "# 가중치(weight)와 편향(bias)의 업데이트는 각각 W.assign_sub(grad_loss_wrt_W * learning_rate)와 b.assign_sub(grad_loss_wrt_b * learning_rate) 코드로 이루어집니다. \n",
        "# 이 코드는 현재 가중치(weight)와 편향(bias)에서 기울기(gradient)에 학습률(learning rate)을 곱한 값을 빼서 가중치(weight)와 편향(bias)을 업데이트합니다.    "
      ]
    },
    {
      "cell_type": "markdown",
      "metadata": {
        "id": "kGJHRMjIp0FY"
      },
      "source": [
        "**The batch training loop**"
      ]
    },
    {
      "cell_type": "code",
      "execution_count": 36,
      "metadata": {
        "id": "cTI_gaU5p0FY",
        "outputId": "54b07241-ecfc-4aa8-9c84-b1da08f51914",
        "colab": {
          "base_uri": "https://localhost:8080/"
        }
      },
      "outputs": [
        {
          "output_type": "stream",
          "name": "stdout",
          "text": [
            "Loss at step 0: 0.0288\n",
            "Loss at step 1: 0.0284\n",
            "Loss at step 2: 0.0280\n",
            "Loss at step 3: 0.0277\n",
            "Loss at step 4: 0.0274\n",
            "Loss at step 5: 0.0272\n",
            "Loss at step 6: 0.0269\n",
            "Loss at step 7: 0.0267\n",
            "Loss at step 8: 0.0265\n",
            "Loss at step 9: 0.0264\n",
            "Loss at step 10: 0.0262\n",
            "Loss at step 11: 0.0261\n",
            "Loss at step 12: 0.0259\n",
            "Loss at step 13: 0.0258\n",
            "Loss at step 14: 0.0257\n",
            "Loss at step 15: 0.0256\n",
            "Loss at step 16: 0.0255\n",
            "Loss at step 17: 0.0254\n",
            "Loss at step 18: 0.0254\n",
            "Loss at step 19: 0.0253\n",
            "Loss at step 20: 0.0252\n",
            "Loss at step 21: 0.0252\n",
            "Loss at step 22: 0.0251\n",
            "Loss at step 23: 0.0251\n",
            "Loss at step 24: 0.0250\n",
            "Loss at step 25: 0.0250\n",
            "Loss at step 26: 0.0250\n",
            "Loss at step 27: 0.0249\n",
            "Loss at step 28: 0.0249\n",
            "Loss at step 29: 0.0249\n",
            "Loss at step 30: 0.0249\n",
            "Loss at step 31: 0.0248\n",
            "Loss at step 32: 0.0248\n",
            "Loss at step 33: 0.0248\n",
            "Loss at step 34: 0.0248\n",
            "Loss at step 35: 0.0248\n",
            "Loss at step 36: 0.0248\n",
            "Loss at step 37: 0.0248\n",
            "Loss at step 38: 0.0247\n",
            "Loss at step 39: 0.0247\n"
          ]
        }
      ],
      "source": [
        "for step in range(40):\n",
        "    loss = training_step(inputs, targets)\n",
        "    print(f\"Loss at step {step}: {loss:.4f}\")\n",
        "\n",
        "# 위 코드는 입력 데이터 inputs와 목표값 targets를 사용하여 모델을 학습시키는 반복문입니다. 반복문은 40회 수행됩니다.\n",
        "# 각 반복에서는 training_step 함수를 호출하여 입력 데이터를 모델에 전달하고, 예측값과 목표값의 차이를 계산하여 손실을 구합니다. \n",
        "# 그 후, 손실을 최소화하기 위해 경사하강법을 사용하여 모델의 가중치 W와 편향 b를 업데이트합니다.\n",
        "# 매 반복에서 손실값이 출력됩니다. 이 값을 통해 학습이 진행되는 동안 손실이 어떻게 변화하는지를 확인할 수 있습니다.    "
      ]
    },
    {
      "cell_type": "code",
      "execution_count": 37,
      "metadata": {
        "id": "5Eja_fR-p0FZ",
        "outputId": "bf587854-33a4-47fb-e797-c586790b0013",
        "colab": {
          "base_uri": "https://localhost:8080/",
          "height": 430
        }
      },
      "outputs": [
        {
          "output_type": "display_data",
          "data": {
            "text/plain": [
              "<Figure size 640x480 with 1 Axes>"
            ],
            "image/png": "[encoded data removed]"
          },
          "metadata": {}
        }
      ],
      "source": [
        "predictions = model(inputs)\n",
        "plt.scatter(inputs[:, 0], inputs[:, 1], c=predictions[:, 0] > 0.5)\n",
        "plt.show()\n",
        "\n",
        "# 위 코드는 모델의 예측 결과를 산점도로 시각화하는 코드입니다. \n",
        "# model(inputs)를 통해 입력 데이터에 대한 예측 값을 얻은 후, predictions[:, 0] > 0.5를 통해 예측 값이 0.5보다 큰 경우를 True로 표시하고, \n",
        "# 그렇지 않은 경우를 False로 표시합니다.\n",
        "# 이를 산점도로 표현하여, 분류 결과가 시각적으로 확인 가능하게 합니다."
      ]
    },
    {
      "cell_type": "code",
      "execution_count": 38,
      "metadata": {
        "id": "9dNcoRV-p0FZ",
        "outputId": "901b34b6-e5ef-4f8a-c83b-b34ae3e0300a",
        "colab": {
          "base_uri": "https://localhost:8080/",
          "height": 449
        }
      },
      "outputs": [
        {
          "output_type": "execute_result",
          "data": {
            "text/plain": [
              "<matplotlib.collections.PathCollection at 0x7f2ad3f9af40>"
            ]
          },
          "metadata": {},
          "execution_count": 38
        },
        {
          "output_type": "display_data",
          "data": {
            "text/plain": [
              "<Figure size 640x480 with 1 Axes>"
            ],
            "image/png": "[encoded data removed]"
          },
          "metadata": {}
        }
      ],
      "source": [
        "x = np.linspace(-1, 4, 100)\n",
        "y = - W[0] /  W[1] * x + (0.5 - b) / W[1]\n",
        "plt.plot(x, y, \"-r\")\n",
        "plt.scatter(inputs[:, 0], inputs[:, 1], c=predictions[:, 0] > 0.5)\n",
        "\n",
        "# 이 코드는 모델의 경계선을 시각화하는 코드입니다. x는 -1부터 4까지 100개의 점으로 이루어진 배열이고, y는 W[0] / W[1] * x + (0.5 - b) / W[1]으로 계산됩니다. \n",
        "# 이 때, W[0]은 가중치 행렬 W의 첫 번째 값, W[1]은 두 번째 값입니다. 이를 통해 x값에 대한 y값을 계산하고, 이를 이용하여 경계선을 그립니다. \n",
        "# plt.plot(x, y, \"-r\")는 x값과 y값을 이용하여 빨간색 실선으로 경계선을 그리는 코드입니다. \n",
        "# plt.scatter(inputs[:, 0], inputs[:, 1], c=predictions[:, 0] > 0.5)는 산점도를 그리는 코드이며, \n",
        "# predictions[:, 0] > 0.5는 모델이 예측한 값이 0.5보다 큰지 여부에 따라 점의 색상을 결정하는 코드입니다."
      ]
    },
    {
      "cell_type": "markdown",
      "metadata": {
        "id": "077SnxqJp0Fa"
      },
      "source": [
        "## Anatomy of a neural network: Understanding core Keras APIs"
      ]
    },
    {
      "cell_type": "markdown",
      "metadata": {
        "id": "HWpgyNxWp0Fa"
      },
      "source": [
        "### Layers: The building blocks of deep learning"
      ]
    },
    {
      "cell_type": "markdown",
      "metadata": {
        "id": "cOOhsP05p0Fa"
      },
      "source": [
        "#### The base Layer class in Keras"
      ]
    },
    {
      "cell_type": "markdown",
      "metadata": {
        "id": "QE3l2enIp0Fb"
      },
      "source": [
        "**A `Dense` layer implemented as a `Layer` subclass**"
      ]
    },
    {
      "cell_type": "code",
      "execution_count": 41,
      "metadata": {
        "id": "nJAt6xmGp0Fb"
      },
      "outputs": [],
      "source": [
        "from tensorflow import keras\n",
        "\n",
        "class SimpleDense(keras.layers.Layer):\n",
        "\n",
        "    def __init__(self, units, activation=None):\n",
        "        super().__init__()\n",
        "        self.units = units\n",
        "        self.activation = activation\n",
        "\n",
        "    def build(self, input_shape):\n",
        "        input_dim = input_shape[-1]\n",
        "        self.W = self.add_weight(shape=(input_dim, self.units),\n",
        "                                 initializer=\"random_normal\")\n",
        "        self.b = self.add_weight(shape=(self.units,),\n",
        "                                 initializer=\"zeros\")\n",
        "\n",
        "    def call(self, inputs):\n",
        "        y = tf.matmul(inputs, self.W) + self.b\n",
        "        if self.activation is not None:\n",
        "            y = self.activation(y)\n",
        "        return y\n",
        "\n",
        "# 이 코드는 TensorFlow 2.x를 사용하여 간단한 Dense layer를 만드는 예제입니다.\n",
        "# SimpleDense 클래스는 keras.layers.Layer를 상속받습니다. __init__ 함수에서는 Dense layer의 뉴런 수(units)와 활성화 함수(activation)를 받습니다.\n",
        "# build 함수에서는 input shape을 이용하여 weight를 초기화하고(self.W, self.b) 설정합니다. call 함수에서는 input과 weight의 행렬곱을 계산하고, \n",
        "# 필요한 경우 활성화 함수를 적용하여 출력을 반환합니다.\n",
        "# 이렇게 만든 SimpleDense 클래스는 다른 층들과 함께 Sequential 모델이나 Functional API를 이용하여 모델을 구성할 수 있습니다."
      ]
    },
    {
      "cell_type": "code",
      "execution_count": 42,
      "metadata": {
        "id": "iQ7YskIZp0Fc",
        "outputId": "1d9c783d-7ae2-42d0-8196-572ce8364284",
        "colab": {
          "base_uri": "https://localhost:8080/"
        }
      },
      "outputs": [
        {
          "output_type": "stream",
          "name": "stdout",
          "text": [
            "(2, 32)\n"
          ]
        }
      ],
      "source": [
        "my_dense = SimpleDense(units=32, activation=tf.nn.relu)\n",
        "input_tensor = tf.ones(shape=(2, 784))\n",
        "output_tensor = my_dense(input_tensor)\n",
        "print(output_tensor.shape)\n",
        "\n",
        "\n",
        "# 위 코드는 SimpleDense 클래스를 이용하여 뉴런 네트워크를 정의하고, 2x784 크기의 입력 텐서 input_tensor를 my_dense 층에 통과시키는 과정입니다.\n",
        "# SimpleDense 클래스는 keras.layers.Layer 클래스를 상속하고 있으므로, build 메소드를 이용해 모델 가중치를 초기화하고, call 메소드에서 입력을 받아 출력값을 계산합니다.\n",
        "# 여기서 my_dense는 SimpleDense 클래스의 객체입니다. units 인수를 32로 설정하고, 활성화 함수로는 tf.nn.relu를 사용합니다.\n",
        "# input_tensor는 2x784 크기의 모든 값이 1인 텐서입니다.\n",
        "# my_dense(input_tensor)은 call 메소드를 호출하는 것과 같습니다. 이를 통해 입력 텐서 input_tensor가 my_dense 층에 통과하고, 출력 텐서 output_tensor이 생성됩니다. \n",
        "# 출력 텐서의 크기는 (2, 32)입니다."
      ]
    },
    {
      "cell_type": "markdown",
      "metadata": {
        "id": "J72U1_hBp0Fd"
      },
      "source": [
        "#### Automatic shape inference: Building layers on the fly"
      ]
    },
    {
      "cell_type": "code",
      "execution_count": 49,
      "metadata": {
        "id": "fVnhzPp1p0Fd"
      },
      "outputs": [],
      "source": [
        "from tensorflow.keras import layers\n",
        "layer = layers.Dense(32, activation=\"relu\")\n",
        "\n",
        "# 위 코드는 tensorflow.keras 모듈에서 layers 서브모듈을 불러와서 Dense 클래스를 사용하여 뉴런 32개가 있는 fully connected layer를 생성하는 코드입니다.\n",
        "#  활성화 함수로는 ReLU 함수가 사용되며, 이를 activation 인자를 통해 지정합니다."
      ]
    },
    {
      "cell_type": "code",
      "execution_count": 50,
      "metadata": {
        "id": "FM4I_OZTp0Fd"
      },
      "outputs": [],
      "source": [
        "from tensorflow.keras import models\n",
        "from tensorflow.keras import layers\n",
        "model = models.Sequential([\n",
        "    layers.Dense(32, activation=\"relu\"),\n",
        "    layers.Dense(32)\n",
        "])\n",
        "\n",
        "# 위 코드는 TensorFlow의 Keras API를 사용하여, Sequential 모델을 생성하는 코드입니다. 이 모델은 두 개의 층으로 이루어져 있습니다.\n",
        "# 첫 번째 층은 32개의 노드를 가지며, 활성화 함수로 ReLU를 사용합니다. 이 층은 입력 데이터의 차원을 유지합니다.\n",
        "# 두 번째 층은 32개의 노드를 가지며, 활성화 함수를 지정하지 않았습니다. 따라서 이 층은 입력 데이터의 차원을 줄이지 않고 출력 데이터를 만들어 냅니다.\n",
        "# Sequential 모델은 입력 데이터를 첫 번째 층에 넣어 출력 데이터를 생성하고, 이를 다시 두 번째 층에 넣어 최종 출력 데이터를 생성합니다.\n",
        "#  즉, 이 모델은 입력 데이터를 받아 출력 데이터를 생성하는 함수와 같습니다."
      ]
    },
    {
      "cell_type": "code",
      "execution_count": 51,
      "metadata": {
        "id": "T966q1k_p0Fe"
      },
      "outputs": [],
      "source": [
        "model = keras.Sequential([\n",
        "    SimpleDense(32, activation=\"relu\"),\n",
        "    SimpleDense(64, activation=\"relu\"),\n",
        "    SimpleDense(32, activation=\"relu\"),\n",
        "    SimpleDense(10, activation=\"softmax\")\n",
        "])\n",
        "\n",
        "# 위의 코드는 4개의 SimpleDense 레이어로 이루어진 신경망 모델을 정의하는 코드입니다. \n",
        "# 이 모델은 입력값으로 input_shape가 주어졌을 때, 32개의 출력값을 갖는 첫 번째 레이어, 64개의 출력값을 갖는 두 번째 레이어, \n",
        "# 32개의 출력값을 갖는 세 번째 레이어, 그리고 10개의 출력값을 갖는 출력 레이어로 이루어져 있습니다. \n",
        "# 첫 번째, 두 번째, 세 번째 레이어는 relu 활성화 함수를 사용하며, 출력 레이어는 softmax 활성화 함수를 사용합니다. \n",
        "# 이 모델은 각 레이어의 연산 결과를 이어주는 것이 자동으로 처리되어 순차적인 모델을 구성할 때 편리하게 사용할 수 있도록 Sequential 모델을 사용하여 정의되었습니다."
      ]
    },
    {
      "cell_type": "markdown",
      "metadata": {
        "id": "Z0iONwj0p0Ff"
      },
      "source": [
        "### From layers to models"
      ]
    },
    {
      "cell_type": "markdown",
      "metadata": {
        "id": "cMZJGKVmp0Ff"
      },
      "source": [
        "### The \"compile\" step: Configuring the learning process"
      ]
    },
    {
      "cell_type": "code",
      "execution_count": 52,
      "metadata": {
        "id": "Q97a_zk4p0Ff"
      },
      "outputs": [],
      "source": [
        "model = keras.Sequential([keras.layers.Dense(1)])\n",
        "model.compile(optimizer=\"rmsprop\",\n",
        "              loss=\"mean_squared_error\",\n",
        "              metrics=[\"accuracy\"])\n",
        "\n",
        "# 위 코드는 keras.Sequential API를 사용하여 단일 뉴런을 가진 모델을 만들고, rmsprop 옵티마이저와 mean_squared_error 손실 함수를 사용하여 모델을 컴파일한 것입니다. \n",
        "# 또한, 모델이 평가될 때 정확도(accuracy)도 측정하도록 설정했습니다.\n",
        "# 여기서 rmsprop은 경사 하강법을 사용하는 최적화 알고리즘 중 하나이며, mean_squared_error는 회귀 문제에서 많이 사용되는 손실 함수 중 하나입니다. \n",
        "# accuracy는 분류 문제에서 모델의 성능을 측정할 때 사용되는 지표 중 하나입니다."
      ]
    },
    {
      "cell_type": "code",
      "execution_count": 53,
      "metadata": {
        "id": "48RwyMJVp0Fg"
      },
      "outputs": [],
      "source": [
        "model.compile(optimizer=keras.optimizers.RMSprop(),\n",
        "              loss=keras.losses.MeanSquaredError(),\n",
        "              metrics=[keras.metrics.BinaryAccuracy()])\n",
        "\n",
        "# 이 코드는 Sequential 모델을 RMSprop optimizer를 사용하여 컴파일하는 코드입니다. \n",
        "# loss로는 Mean Squared Error(MSE)를 사용하고, metrics로는 Binary Accuracy를 사용합니다. \n",
        "# 이 모델은 주어진 입력에 대해 하나의 출력을 예측하는 단순한 모델입니다."
      ]
    },
    {
      "cell_type": "markdown",
      "metadata": {
        "id": "n2cAvRg_p0Fh"
      },
      "source": [
        "### Picking a loss function"
      ]
    },
    {
      "cell_type": "markdown",
      "metadata": {
        "id": "UzRUyPXlp0Fh"
      },
      "source": [
        "### Understanding the fit() method"
      ]
    },
    {
      "cell_type": "markdown",
      "metadata": {
        "id": "nTvmTZk-p0Fh"
      },
      "source": [
        "**Calling `fit()` with NumPy data**"
      ]
    },
    {
      "cell_type": "code",
      "execution_count": null,
      "metadata": {
        "id": "LiOkX557p0Fi"
      },
      "outputs": [],
      "source": [
        "history = model.fit(\n",
        "    inputs,\n",
        "    targets,\n",
        "    epochs=5,\n",
        "    batch_size=128\n",
        ")\n",
        "\n",
        "# model.fit() 메소드는 입력 데이터와 타겟 데이터를 받아서, 이를 사용하여 모델을 학습시킵니다. \n",
        "# epochs는 전체 학습 데이터를 몇 번 사용하여 학습을 진행할지를 나타내는 하이퍼파라미터이고, batch_size는 한 번의 forward/backward pass에 사용할 샘플 수를 결정합니다.\n",
        "# model.fit() 메소드는 학습 과정에서 발생하는 loss와 metric 값을 반환합니다. 이 값들은 히스토리 객체에 저장됩니다.\n",
        "# 따라서 위 코드에서 inputs와 targets 데이터를 사용하여 모델을 5 epoch 동안 학습시키고, 이 과정에서 발생하는 loss와 binary accuracy 값을 저장한 history 객체가 생성됩니다."
      ]
    },
    {
      "cell_type": "code",
      "execution_count": null,
      "metadata": {
        "id": "uB5ZzaGSp0Fi"
      },
      "outputs": [],
      "source": [
        "history.history\n",
        "\n",
        "# history.history는 딕셔너리 형태의 객체로, 모델 훈련 시 epoch마다의 손실(loss)과 지표(metrics) 값들이 저장되어 있습니다.\n",
        "# history.history 객체의 키(key) 값으로는 'loss', 'accuracy' 등이 주로 사용됩니다. 이들은 model.compile() 메서드에서 지정한 손실 함수와 지표 함수에 대한 키 값입니다."
      ]
    },
    {
      "cell_type": "markdown",
      "metadata": {
        "id": "hZj4CZFgp0Fi"
      },
      "source": [
        "### Monitoring loss and metrics on validation data"
      ]
    },
    {
      "cell_type": "markdown",
      "metadata": {
        "id": "TfzJzW-kp0Fj"
      },
      "source": [
        "**Using the `validation_data` argument**"
      ]
    },
    {
      "cell_type": "code",
      "execution_count": null,
      "metadata": {
        "id": "c7Z2gJXop0Fj"
      },
      "outputs": [],
      "source": [
        "model = keras.Sequential([keras.layers.Dense(1)])\n",
        "model.compile(optimizer=keras.optimizers.RMSprop(learning_rate=0.1),\n",
        "              loss=keras.losses.MeanSquaredError(),\n",
        "              metrics=[keras.metrics.BinaryAccuracy()])\n",
        "\n",
        "indices_permutation = np.random.permutation(len(inputs))\n",
        "shuffled_inputs = inputs[indices_permutation]\n",
        "shuffled_targets = targets[indices_permutation]\n",
        "\n",
        "num_validation_samples = int(0.3 * len(inputs))\n",
        "val_inputs = shuffled_inputs[:num_validation_samples]\n",
        "val_targets = shuffled_targets[:num_validation_samples]\n",
        "training_inputs = shuffled_inputs[num_validation_samples:]\n",
        "training_targets = shuffled_targets[num_validation_samples:]\n",
        "model.fit(\n",
        "    training_inputs,\n",
        "    training_targets,\n",
        "    epochs=5,\n",
        "    batch_size=16,\n",
        "    validation_data=(val_inputs, val_targets)\n",
        ")\n",
        "\n",
        "\n",
        "# 1. 단일 Dense 레이어를 가진 Sequential 모델을 정의합니다.\n",
        "# 2. RMSprop 옵티마이저와 MSE 손실 함수를 사용하여 모델을 컴파일합니다.\n",
        "# 3. 입력과 대상 데이터를 섞은 다음, 훈련 데이터와 검증 데이터로 나눕니다.\n",
        "# 4. 훈련 데이터로 모델을 훈련하고, 검증 데이터로 검증합니다.\n",
        "\n",
        "\n",
        "# 위 코드는 TensorFlow를 사용하여 신경망 모델을 학습하는 코드입니다.\n",
        "\n",
        "# 먼저 keras.Sequential을 사용하여 모델을 정의하고, model.compile을 사용하여 모델의 옵티마이저, 손실 함수 및 메트릭을 설정합니다.\n",
        "\n",
        "# 그 후, 입력 데이터와 목표 변수를 무작위로 섞은 다음, train-validation-test 데이터셋으로 분리합니다. 이 때 validation_data 매개변수를 사용하여 검증 데이터셋을 설정합니다.\n",
        "\n",
        "# 마지막으로 model.fit을 호출하여 모델을 학습합니다. epochs 매개변수를 사용하여 전체 데이터셋에서 몇 번의 반복을 수행할지 지정하고,\n",
        "# batch_size 매개변수를 사용하여 각 반복마다 몇 개의 샘플을 사용할지 지정합니다.\n",
        "\n",
        "# 학습 후 history.history를 통해 학습 결과를 확인할 수 있습니다."
      ]
    },
    {
      "cell_type": "markdown",
      "metadata": {
        "id": "40hkRQHUp0Fj"
      },
      "source": [
        "### Inference: Using a model after training"
      ]
    },
    {
      "cell_type": "code",
      "execution_count": null,
      "metadata": {
        "id": "YGay-_zkp0Fk"
      },
      "outputs": [],
      "source": [
        "predictions = model.predict(val_inputs, batch_size=128)\n",
        "print(predictions[:10])\n",
        "\n",
        "# model.predict(val_inputs, batch_size=128)는 val_inputs 데이터에 대한 모델의 예측값을 반환합니다. 이 때, batch_size는 한 번에 처리할 데이터 샘플 수를 의미합니다. \n",
        "# 따라서, predictions 변수에는 val_inputs 데이터의 처음 10개 샘플에 대한 예측값이 저장됩니다. print(predictions[:10])은 이 값을 출력하는 코드입니다."
      ]
    },
    {
      "cell_type": "markdown",
      "metadata": {
        "id": "fpp3qZQxp0Fk"
      },
      "source": [
        "## Summary"
      ]
    }
  ],
  "metadata": {
    "colab": {
      "name": "chapter03_introduction-to-keras-and-tf.i",
      "provenance": [],
      "toc_visible": true
    },
    "kernelspec": {
      "display_name": "Python 3",
      "language": "python",
      "name": "python3"
    },
    "language_info": {
      "codemirror_mode": {
        "name": "ipython",
        "version": 3
      },
      "file_extension": ".py",
      "mimetype": "text/x-python",
      "name": "python",
      "nbconvert_exporter": "python",
      "pygments_lexer": "ipython3",
      "version": "3.7.0"
    },
    "accelerator": "GPU",
    "gpuClass": "standard"
  },
  "nbformat": 4,
  "nbformat_minor": 0
}