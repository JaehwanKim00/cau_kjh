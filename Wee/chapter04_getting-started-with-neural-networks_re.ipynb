{
  "cells": [
    {
      "cell_type": "markdown",
      "metadata": {
        "id": "ADo48hF5CRrR"
      },
      "source": [
        "This is a companion notebook for the book [Deep Learning with Python, Second Edition](https://www.manning.com/books/deep-learning-with-python-second-edition?a_aid=keras&a_bid=76564dff). For readability, it only contains runnable code blocks and section titles, and omits everything else in the book: text paragraphs, figures, and pseudocode.\n",
        "\n",
        "**If you want to be able to follow what's going on, I recommend reading the notebook side by side with your copy of the book.**\n",
        "\n",
        "This notebook was generated for TensorFlow 2.6."
      ]
    },
    {
      "cell_type": "markdown",
      "metadata": {
        "id": "ZDQ_IrqQCRrT"
      },
      "source": [
        "# Getting started with neural networks: Classification and regression"
      ]
    },
    {
      "cell_type": "markdown",
      "metadata": {
        "id": "rV9OxeFLCRrT"
      },
      "source": [
        "## Classifying movie reviews: A binary classification example"
      ]
    },
    {
      "cell_type": "markdown",
      "metadata": {
        "id": "GyjIimLBCRrT"
      },
      "source": [
        "### The IMDB dataset"
      ]
    },
    {
      "cell_type": "markdown",
      "metadata": {
        "id": "P_3_9IeoCRrT"
      },
      "source": [
        "**Loading the IMDB dataset**"
      ]
    },
    {
      "cell_type": "code",
      "execution_count": 1,
      "metadata": {
        "id": "vxwoUAlCCRrT",
        "outputId": "32dc655d-17f5-43eb-8ef8-270ca7f8e0f9",
        "colab": {
          "base_uri": "https://localhost:8080/"
        }
      },
      "outputs": [
        {
          "output_type": "stream",
          "name": "stdout",
          "text": [
            "Downloading data from https://storage.googleapis.com/tensorflow/tf-keras-datasets/imdb.npz\n",
            "17464789/17464789 [==============================] - 0s 0us/step\n"
          ]
        }
      ],
      "source": [
        "from tensorflow.keras.datasets import imdb\n",
        "(train_data, train_labels), (test_data, test_labels) = imdb.load_data(\n",
        "    num_words=10000)\n",
        "\n",
        "# 위 코드는 tensorflow.keras.datasets 모듈에서 imdb 데이터셋을 로드하는 코드입니다. imdb 데이터셋은 50,000개의 영화 리뷰로 구성되어 있으며, \n",
        "# 이 중 25,000개는 훈련용으로, 나머지 25,000개는 테스트용으로 나뉘어져 있습니다. 각 리뷰는 긍정(positive) 혹은 부정(negative)의 감성을 나타내는 이진 분류 문제입니다.\n",
        "# load_data() 함수의 num_words 매개변수는 훈련 데이터에서 가장 자주 등장하는 단어 10,000개만 사용하겠다는 의미입니다. \n",
        "# 이를 통해 모델 학습에 사용되는 단어의 수를 제한하고, 모델의 복잡도를 줄일 수 있습니다."
      ]
    },
    {
      "cell_type": "code",
      "execution_count": 2,
      "metadata": {
        "id": "LGOo-vh7CRrU",
        "outputId": "a5e69a57-a6fd-43ba-d700-3e4d058f939d",
        "colab": {
          "base_uri": "https://localhost:8080/"
        }
      },
      "outputs": [
        {
          "output_type": "execute_result",
          "data": {
            "text/plain": [
              "[1,\n",
              " 14,\n",
              " 22,\n",
              " 16,\n",
              " 43,\n",
              " 530,\n",
              " 973,\n",
              " 1622,\n",
              " 1385,\n",
              " 65,\n",
              " 458,\n",
              " 4468,\n",
              " 66,\n",
              " 3941,\n",
              " 4,\n",
              " 173,\n",
              " 36,\n",
              " 256,\n",
              " 5,\n",
              " 25,\n",
              " 100,\n",
              " 43,\n",
              " 838,\n",
              " 112,\n",
              " 50,\n",
              " 670,\n",
              " 2,\n",
              " 9,\n",
              " 35,\n",
              " 480,\n",
              " 284,\n",
              " 5,\n",
              " 150,\n",
              " 4,\n",
              " 172,\n",
              " 112,\n",
              " 167,\n",
              " 2,\n",
              " 336,\n",
              " 385,\n",
              " 39,\n",
              " 4,\n",
              " 172,\n",
              " 4536,\n",
              " 1111,\n",
              " 17,\n",
              " 546,\n",
              " 38,\n",
              " 13,\n",
              " 447,\n",
              " 4,\n",
              " 192,\n",
              " 50,\n",
              " 16,\n",
              " 6,\n",
              " 147,\n",
              " 2025,\n",
              " 19,\n",
              " 14,\n",
              " 22,\n",
              " 4,\n",
              " 1920,\n",
              " 4613,\n",
              " 469,\n",
              " 4,\n",
              " 22,\n",
              " 71,\n",
              " 87,\n",
              " 12,\n",
              " 16,\n",
              " 43,\n",
              " 530,\n",
              " 38,\n",
              " 76,\n",
              " 15,\n",
              " 13,\n",
              " 1247,\n",
              " 4,\n",
              " 22,\n",
              " 17,\n",
              " 515,\n",
              " 17,\n",
              " 12,\n",
              " 16,\n",
              " 626,\n",
              " 18,\n",
              " 2,\n",
              " 5,\n",
              " 62,\n",
              " 386,\n",
              " 12,\n",
              " 8,\n",
              " 316,\n",
              " 8,\n",
              " 106,\n",
              " 5,\n",
              " 4,\n",
              " 2223,\n",
              " 5244,\n",
              " 16,\n",
              " 480,\n",
              " 66,\n",
              " 3785,\n",
              " 33,\n",
              " 4,\n",
              " 130,\n",
              " 12,\n",
              " 16,\n",
              " 38,\n",
              " 619,\n",
              " 5,\n",
              " 25,\n",
              " 124,\n",
              " 51,\n",
              " 36,\n",
              " 135,\n",
              " 48,\n",
              " 25,\n",
              " 1415,\n",
              " 33,\n",
              " 6,\n",
              " 22,\n",
              " 12,\n",
              " 215,\n",
              " 28,\n",
              " 77,\n",
              " 52,\n",
              " 5,\n",
              " 14,\n",
              " 407,\n",
              " 16,\n",
              " 82,\n",
              " 2,\n",
              " 8,\n",
              " 4,\n",
              " 107,\n",
              " 117,\n",
              " 5952,\n",
              " 15,\n",
              " 256,\n",
              " 4,\n",
              " 2,\n",
              " 7,\n",
              " 3766,\n",
              " 5,\n",
              " 723,\n",
              " 36,\n",
              " 71,\n",
              " 43,\n",
              " 530,\n",
              " 476,\n",
              " 26,\n",
              " 400,\n",
              " 317,\n",
              " 46,\n",
              " 7,\n",
              " 4,\n",
              " 2,\n",
              " 1029,\n",
              " 13,\n",
              " 104,\n",
              " 88,\n",
              " 4,\n",
              " 381,\n",
              " 15,\n",
              " 297,\n",
              " 98,\n",
              " 32,\n",
              " 2071,\n",
              " 56,\n",
              " 26,\n",
              " 141,\n",
              " 6,\n",
              " 194,\n",
              " 7486,\n",
              " 18,\n",
              " 4,\n",
              " 226,\n",
              " 22,\n",
              " 21,\n",
              " 134,\n",
              " 476,\n",
              " 26,\n",
              " 480,\n",
              " 5,\n",
              " 144,\n",
              " 30,\n",
              " 5535,\n",
              " 18,\n",
              " 51,\n",
              " 36,\n",
              " 28,\n",
              " 224,\n",
              " 92,\n",
              " 25,\n",
              " 104,\n",
              " 4,\n",
              " 226,\n",
              " 65,\n",
              " 16,\n",
              " 38,\n",
              " 1334,\n",
              " 88,\n",
              " 12,\n",
              " 16,\n",
              " 283,\n",
              " 5,\n",
              " 16,\n",
              " 4472,\n",
              " 113,\n",
              " 103,\n",
              " 32,\n",
              " 15,\n",
              " 16,\n",
              " 5345,\n",
              " 19,\n",
              " 178,\n",
              " 32]"
            ]
          },
          "metadata": {},
          "execution_count": 2
        }
      ],
      "source": [
        "train_data[0]"
      ]
    },
    {
      "cell_type": "code",
      "execution_count": 3,
      "metadata": {
        "id": "RChxrXQRCRrU",
        "outputId": "551f7196-abe4-4ab6-808b-1560a38d5a54",
        "colab": {
          "base_uri": "https://localhost:8080/"
        }
      },
      "outputs": [
        {
          "output_type": "execute_result",
          "data": {
            "text/plain": [
              "1"
            ]
          },
          "metadata": {},
          "execution_count": 3
        }
      ],
      "source": [
        "train_labels[0]"
      ]
    },
    {
      "cell_type": "code",
      "execution_count": 4,
      "metadata": {
        "id": "qHzm6vT1CRrV",
        "outputId": "6848fa65-cd31-454c-cca9-766fa0f43b45",
        "colab": {
          "base_uri": "https://localhost:8080/"
        }
      },
      "outputs": [
        {
          "output_type": "execute_result",
          "data": {
            "text/plain": [
              "9999"
            ]
          },
          "metadata": {},
          "execution_count": 4
        }
      ],
      "source": [
        "# 가장 자주 등장하는 단어 1만 개로 제한\n",
        "max([max(sequence) for sequence in train_data])"
      ]
    },
    {
      "cell_type": "markdown",
      "metadata": {
        "id": "xYFnABuGCRrV"
      },
      "source": [
        "**Decoding reviews back to text**"
      ]
    },
    {
      "cell_type": "code",
      "execution_count": 6,
      "metadata": {
        "id": "nmBdiHH5CRrV",
        "outputId": "d6df4461-9d3e-49c0-dfba-6fdc90cfa9f7",
        "colab": {
          "base_uri": "https://localhost:8080/",
          "height": 129
        }
      },
      "outputs": [
        {
          "output_type": "execute_result",
          "data": {
            "text/plain": [
              "\"? this film was just brilliant casting location scenery story direction everyone's really suited the part they played and you could just imagine being there robert ? is an amazing actor and now the same being director ? father came from the same scottish island as myself so i loved the fact there was a real connection with this film the witty remarks throughout the film were great it was just brilliant so much that i bought the film as soon as it was released for ? and would recommend it to everyone to watch and the fly fishing was amazing really cried at the end it was so sad and you know what they say if you cry at a film it must have been good and this definitely was also ? to the two little boy's that played the ? of norman and paul they were just brilliant children are often left out of the ? list i think because the stars that play them all grown up are such a big profile for the whole film but these children are amazing and should be praised for what they have done don't you think the whole story was so lovely because it was true and was someone's life after all that was shared with us all\""
            ],
            "application/vnd.google.colaboratory.intrinsic+json": {
              "type": "string"
            }
          },
          "metadata": {},
          "execution_count": 6
        }
      ],
      "source": [
        "# 리뷰데이터 영단어로 변경\n",
        "word_index = imdb.get_word_index()\n",
        "reverse_word_index = dict(\n",
        "    [(value, key) for (key, value) in word_index.items()])\n",
        "decoded_review = \" \".join(\n",
        "    [reverse_word_index.get(i - 3, \"?\") for i in train_data[0]])\n",
        "\n",
        "\n",
        "\n",
        "# IMDB 데이터셋으로부터 가져온 리뷰 데이터는 정수 리스트로 이루어져 있습니다. \n",
        "# 이 리스트는 사전에 저장된 각 단어들의 인덱스들을 담고 있습니다. \n",
        "# 이때, get_word_index 함수를 이용해 단어와 해당 단어의 인덱스를 딕셔너리 형태로 가져옵니다.\n",
        "# 그 후, 이 딕셔너리를 이용해 리뷰 데이터를 사람이 읽을 수 있는 형태로 변환합니다. \n",
        "# 이를 위해서, 딕셔너리를 뒤집어서 단어의 인덱스와 단어를 매핑한 새로운 딕셔너리를 생성합니다. \n",
        "# 그리고 나서 train_data[0] 에는 첫번째 리뷰 데이터가 저장되어 있습니다. \n",
        "# 이 데이터를 for loop 를 이용하여 단어 인덱스들을 이용해 사람이 읽을 수 있는 문장으로 변환합니다. \n",
        "# 만약 단어 인덱스가 딕셔너리에 없을 경우 \"?\" 로 표기됩니다. 변환된 문장은 decoded_review 변수에 저장됩니다."
      ]
    },
    {
      "cell_type": "markdown",
      "metadata": {
        "id": "7hwAMGs1CRrW"
      },
      "source": [
        "### Preparing the data"
      ]
    },
    {
      "cell_type": "markdown",
      "metadata": {
        "id": "GNCzLj_sCRrW"
      },
      "source": [
        "**Encoding the integer sequences via multi-hot encoding**"
      ]
    },
    {
      "cell_type": "code",
      "execution_count": 7,
      "metadata": {
        "id": "V9NP3mfTCRrW"
      },
      "outputs": [],
      "source": [
        "import numpy as np\n",
        "def vectorize_sequences(sequences, dimension=10000):\n",
        "    results = np.zeros((len(sequences), dimension))\n",
        "    for i, sequence in enumerate(sequences):\n",
        "        for j in sequence:\n",
        "            results[i, j] = 1.\n",
        "    return results\n",
        "x_train = vectorize_sequences(train_data)\n",
        "x_test = vectorize_sequences(test_data)\n",
        "\n",
        "# 이 함수는 입력 시퀀스를 dimension 크기의 영벡터로 변환합니다. \n",
        "# 이 때, 입력 시퀀스의 원소는 정수 값으로 이루어져 있으며, 이를 원-핫 인코딩 방식으로 벡터화합니다. \n",
        "# 예를 들어, 1번 시퀀스에서 3번 원소가 존재한다면, 이를 10,000차원의 영벡터에 대응하는 3번째 원소의 값을 1로 만들어 결과 벡터에 반영합니다. \n",
        "# 이렇게 변환된 벡터는 각 원소가 0 또는 1의 값을 갖는 이진 벡터가 됩니다.\n",
        "# 최종적으로 vectorize_sequences() 함수는 변환된 벡터들을 담은 넘파이 배열을 반환합니다. 이 배열은 x_train과 x_test 변수에 저장됩니다."
      ]
    },
    {
      "cell_type": "code",
      "execution_count": 8,
      "metadata": {
        "id": "5TC7lIj6CRrX",
        "outputId": "8f5facc2-ca7a-4d61-871f-a1bd131acaea",
        "colab": {
          "base_uri": "https://localhost:8080/"
        }
      },
      "outputs": [
        {
          "output_type": "execute_result",
          "data": {
            "text/plain": [
              "array([0., 1., 1., ..., 0., 0., 0.])"
            ]
          },
          "metadata": {},
          "execution_count": 8
        }
      ],
      "source": [
        "x_train[0]"
      ]
    },
    {
      "cell_type": "code",
      "execution_count": 9,
      "metadata": {
        "id": "Vcz9gQu3CRrX"
      },
      "outputs": [],
      "source": [
        "y_train = np.asarray(train_labels).astype(\"float32\")\n",
        "y_test = np.asarray(test_labels).astype(\"float32\")\n",
        "\n",
        "# IMDB 데이터셋에서 각 리뷰는 긍정(positive) 또는 부정(negative)을 나타내는 레이블(label)이 포함되어 있습니다. \n",
        "# 이 레이블을 훈련 및 테스트 세트에서 부동 소수점 배열(float32)로 변환하는 작업을 수행하고 있습니다. \n",
        "# 이를 위해 numpy 라이브러리의 asarray 함수를 사용하고 있습니다. \n",
        "# astype 함수를 사용하여 int에서 float32로 데이터 타입을 변환하고 있습니다. \n",
        "# 이는 신경망에서 출력값으로 사용할 확률(0~1) 값의 범위와 일치하도록 하기 위함입니다."
      ]
    },
    {
      "cell_type": "markdown",
      "metadata": {
        "id": "cwUQbtboCRrX"
      },
      "source": [
        "### Building your model"
      ]
    },
    {
      "cell_type": "markdown",
      "metadata": {
        "id": "oK5_1yiPCRrY"
      },
      "source": [
        "**Model definition**"
      ]
    },
    {
      "cell_type": "code",
      "execution_count": 12,
      "metadata": {
        "id": "v4f0xv89CRrY"
      },
      "outputs": [],
      "source": [
        "from tensorflow import keras\n",
        "from tensorflow.keras import layers\n",
        "\n",
        "model = keras.Sequential([\n",
        "    layers.Dense(16, activation=\"relu\"),\n",
        "    layers.Dense(16, activation=\"relu\"),\n",
        "    layers.Dense(1, activation=\"sigmoid\")\n",
        "])\n",
        "\n",
        "# 위 코드는 케라스를 사용하여 신경망 모델을 정의하는 코드입니다.\n",
        "\n",
        "# Sequential 모델은 여러 개의 레이어를 쌓아서 사용할 수 있습니다. 여기서는 3개의 레이어를 사용하여 모델을 구성합니다.\n",
        "\n",
        "# 첫 번째와 두 번째 레이어는 Dense 레이어입니다. Dense 레이어는 입력 뉴런과 출력 뉴런을 모두 연결해줍니다. \n",
        "# 이 레이어에서는 16개의 뉴런을 사용하며, 활성화 함수로 relu를 사용합니다. relu 함수는 음수 값을 0으로 만들어주는 함수로, 이를 통해 비선형성을 추가합니다.\n",
        "\n",
        "# 세 번째 레이어는 출력 레이어로, sigmoid 활성화 함수를 사용합니다. sigmoid 함수는 출력이 이진 클래스(0 또는 1)일 때 사용합니다. \n",
        "# 따라서 이 모델은 이진 분류 모델이며, 출력은 0 또는 1 중 하나입니다."
      ]
    },
    {
      "cell_type": "markdown",
      "metadata": {
        "id": "NrsOYAvZCRrY"
      },
      "source": [
        "**Compiling the model**"
      ]
    },
    {
      "cell_type": "code",
      "execution_count": 13,
      "metadata": {
        "id": "byma5djKCRrY"
      },
      "outputs": [],
      "source": [
        "# 확률을 출력할 때는 loss=\"binary_crossentropy\"\n",
        "model.compile(optimizer=\"rmsprop\",\n",
        "              loss=\"binary_crossentropy\",\n",
        "              metrics=[\"accuracy\"])\n",
        "\n",
        "# model.compile은 학습과정을 설정하는 메서드입니다. 이 메서드를 통해 모델이 학습을 할 때 사용될 optimizer, loss function, 그리고 평가지표(metric)를 정의할 수 있습니다.\n",
        "# 위 코드에서는 optimizer로 \"rmsprop\"을, loss로 \"binary_crossentropy\"을, metrics으로 \"accuracy\"를 사용하도록 설정했습니다. \n",
        "# 이러한 설정은 이진 분류 문제를 풀 때 일반적으로 사용됩니다. \n",
        "# \"rmsprop\"은 RMSprop 알고리즘을 사용한 optimizer이며, \"binary_crossentropy\"은 이진 분류 문제에서 사용되는 cross-entropy loss function입니다. \n",
        "# \"accuracy\"는 분류 모델의 성능을 평가할 때 사용되는 지표입니다."
      ]
    },
    {
      "cell_type": "markdown",
      "metadata": {
        "id": "88DEYFdFCRrY"
      },
      "source": [
        "### Validating your approach"
      ]
    },
    {
      "cell_type": "markdown",
      "metadata": {
        "id": "3fwGSHMUCRrZ"
      },
      "source": [
        "**Setting aside a validation set**"
      ]
    },
    {
      "cell_type": "code",
      "execution_count": 14,
      "metadata": {
        "id": "EoiycwlWCRrZ"
      },
      "outputs": [],
      "source": [
        "# 검증세트 준비\n",
        "x_val = x_train[:10000]\n",
        "partial_x_train = x_train[10000:]\n",
        "y_val = y_train[:10000]\n",
        "partial_y_train = y_train[10000:]"
      ]
    },
    {
      "cell_type": "markdown",
      "metadata": {
        "id": "MKUUBWlrCRrZ"
      },
      "source": [
        "**Training your model**"
      ]
    },
    {
      "cell_type": "code",
      "execution_count": 15,
      "metadata": {
        "id": "-RKAsfl_CRrZ",
        "outputId": "751f6993-af7f-4a87-ac0c-e3057903db7e",
        "colab": {
          "base_uri": "https://localhost:8080/"
        }
      },
      "outputs": [
        {
          "output_type": "stream",
          "name": "stdout",
          "text": [
            "Epoch 1/20\n",
            "30/30 [==============================] - 2s 35ms/step - loss: 0.5411 - accuracy: 0.7793 - val_loss: 0.4275 - val_accuracy: 0.8547\n",
            "Epoch 2/20\n",
            "30/30 [==============================] - 1s 18ms/step - loss: 0.3471 - accuracy: 0.8899 - val_loss: 0.3379 - val_accuracy: 0.8734\n",
            "Epoch 3/20\n",
            "30/30 [==============================] - 1s 18ms/step - loss: 0.2626 - accuracy: 0.9131 - val_loss: 0.3129 - val_accuracy: 0.8756\n",
            "Epoch 4/20\n",
            "30/30 [==============================] - 1s 17ms/step - loss: 0.2119 - accuracy: 0.9299 - val_loss: 0.2893 - val_accuracy: 0.8843\n",
            "Epoch 5/20\n",
            "30/30 [==============================] - 1s 19ms/step - loss: 0.1777 - accuracy: 0.9428 - val_loss: 0.2936 - val_accuracy: 0.8828\n",
            "Epoch 6/20\n",
            "30/30 [==============================] - 1s 18ms/step - loss: 0.1518 - accuracy: 0.9507 - val_loss: 0.2779 - val_accuracy: 0.8873\n",
            "Epoch 7/20\n",
            "30/30 [==============================] - 1s 44ms/step - loss: 0.1314 - accuracy: 0.9590 - val_loss: 0.2859 - val_accuracy: 0.8866\n",
            "Epoch 8/20\n",
            "30/30 [==============================] - 2s 65ms/step - loss: 0.1110 - accuracy: 0.9677 - val_loss: 0.2982 - val_accuracy: 0.8838\n",
            "Epoch 9/20\n",
            "30/30 [==============================] - 1s 28ms/step - loss: 0.0975 - accuracy: 0.9723 - val_loss: 0.3249 - val_accuracy: 0.8784\n",
            "Epoch 10/20\n",
            "30/30 [==============================] - 1s 19ms/step - loss: 0.0810 - accuracy: 0.9780 - val_loss: 0.3561 - val_accuracy: 0.8753\n",
            "Epoch 11/20\n",
            "30/30 [==============================] - 1s 25ms/step - loss: 0.0696 - accuracy: 0.9829 - val_loss: 0.3800 - val_accuracy: 0.8740\n",
            "Epoch 12/20\n",
            "30/30 [==============================] - 1s 21ms/step - loss: 0.0599 - accuracy: 0.9864 - val_loss: 0.3658 - val_accuracy: 0.8777\n",
            "Epoch 13/20\n",
            "30/30 [==============================] - 1s 18ms/step - loss: 0.0502 - accuracy: 0.9886 - val_loss: 0.3823 - val_accuracy: 0.8775\n",
            "Epoch 14/20\n",
            "30/30 [==============================] - 1s 25ms/step - loss: 0.0422 - accuracy: 0.9910 - val_loss: 0.4089 - val_accuracy: 0.8769\n",
            "Epoch 15/20\n",
            "30/30 [==============================] - 1s 21ms/step - loss: 0.0359 - accuracy: 0.9939 - val_loss: 0.4216 - val_accuracy: 0.8749\n",
            "Epoch 16/20\n",
            "30/30 [==============================] - 1s 18ms/step - loss: 0.0299 - accuracy: 0.9956 - val_loss: 0.4403 - val_accuracy: 0.8728\n",
            "Epoch 17/20\n",
            "30/30 [==============================] - 1s 19ms/step - loss: 0.0256 - accuracy: 0.9967 - val_loss: 0.4694 - val_accuracy: 0.8743\n",
            "Epoch 18/20\n",
            "30/30 [==============================] - 1s 26ms/step - loss: 0.0208 - accuracy: 0.9972 - val_loss: 0.4871 - val_accuracy: 0.8755\n",
            "Epoch 19/20\n",
            "30/30 [==============================] - 1s 19ms/step - loss: 0.0153 - accuracy: 0.9987 - val_loss: 0.5925 - val_accuracy: 0.8606\n",
            "Epoch 20/20\n",
            "30/30 [==============================] - 1s 19ms/step - loss: 0.0122 - accuracy: 0.9994 - val_loss: 0.5480 - val_accuracy: 0.8714\n"
          ]
        }
      ],
      "source": [
        "history = model.fit(partial_x_train,\n",
        "                    partial_y_train,\n",
        "                    epochs=20,\n",
        "                    batch_size=512,\n",
        "                    validation_data=(x_val, y_val))"
      ]
    },
    {
      "cell_type": "code",
      "execution_count": 16,
      "metadata": {
        "id": "hHI4vShUCRrZ",
        "outputId": "c9c48ec3-fda6-498a-ed5b-5a8c60fd3ad8",
        "colab": {
          "base_uri": "https://localhost:8080/"
        }
      },
      "outputs": [
        {
          "output_type": "execute_result",
          "data": {
            "text/plain": [
              "dict_keys(['loss', 'accuracy', 'val_loss', 'val_accuracy'])"
            ]
          },
          "metadata": {},
          "execution_count": 16
        }
      ],
      "source": [
        "history_dict = history.history\n",
        "history_dict.keys()\n",
        "\n",
        "# history_dict는 훈련 과정에서 계산한 측정 지표들의 값을 갖는 딕셔너리입니다. \n",
        "# history_dict.keys()는 이 딕셔너리의 키(key)들을 리스트로 반환합니다. \n",
        "# 예를 들어, loss, accuracy, val_loss, val_accuracy 등이 이 딕셔너리의 키일 수 있습니다"
      ]
    },
    {
      "cell_type": "markdown",
      "metadata": {
        "id": "k12EsXC1CRra"
      },
      "source": [
        "**Plotting the training and validation loss**"
      ]
    },
    {
      "cell_type": "code",
      "execution_count": 17,
      "metadata": {
        "id": "co4uxYMbCRra",
        "outputId": "74ece52a-c312-44b6-afb8-ac20098b5db0",
        "colab": {
          "base_uri": "https://localhost:8080/",
          "height": 472
        }
      },
      "outputs": [
        {
          "output_type": "display_data",
          "data": {
            "text/plain": [
              "<Figure size 640x480 with 1 Axes>"
            ],
            "image/png": "[encoded data removed]"
          },
          "metadata": {}
        }
      ],
      "source": [
        "import matplotlib.pyplot as plt\n",
        "history_dict = history.history\n",
        "loss_values = history_dict[\"loss\"]\n",
        "val_loss_values = history_dict[\"val_loss\"]\n",
        "epochs = range(1, len(loss_values) + 1)\n",
        "plt.plot(epochs, loss_values, \"bo\", label=\"Training loss\")\n",
        "plt.plot(epochs, val_loss_values, \"b\", label=\"Validation loss\")\n",
        "plt.title(\"Training and validation loss\")\n",
        "plt.xlabel(\"Epochs\")\n",
        "plt.ylabel(\"Loss\")\n",
        "plt.legend()\n",
        "plt.show()\n",
        "\n",
        "# 이 코드는 훈련 손실과 검증 손실을 시각화하는 코드입니다.\n",
        "\n",
        "# history_dict에서 손실과 정확도를 담은 딕셔너리를 가져옵니다.\n",
        "# loss_values는 훈련 데이터에서의 손실 값을 저장하고, val_loss_values는 검증 데이터에서의 손실 값을 저장합니다.\n",
        "# epochs는 훈련을 진행한 epoch 수를 저장합니다.\n",
        "# plt.plot() 함수를 이용해 훈련 손실과 검증 손실을 그래프로 나타냅니다.\n",
        "# plt.title(), plt.xlabel(), plt.ylabel(), plt.legend() 함수를 이용해 그래프의 제목, 축 레이블, 범례 등을 설정합니다.\n",
        "# plt.show() 함수를 이용해 그래프를 보여줍니다.\n",
        "# 두 번째 에포크 이후부터 과대적합"
      ]
    },
    {
      "cell_type": "markdown",
      "metadata": {
        "id": "P6wqR8AzCRra"
      },
      "source": [
        "**Plotting the training and validation accuracy**"
      ]
    },
    {
      "cell_type": "code",
      "execution_count": 18,
      "metadata": {
        "id": "mx66qVo9CRra",
        "outputId": "159bb066-fb2a-4402-eb1c-58d74acd8538",
        "colab": {
          "base_uri": "https://localhost:8080/",
          "height": 472
        }
      },
      "outputs": [
        {
          "output_type": "display_data",
          "data": {
            "text/plain": [
              "<Figure size 640x480 with 1 Axes>"
            ],
            "image/png": "[encoded data removed]"
          },
          "metadata": {}
        }
      ],
      "source": [
        "# 훈련과 검증 정확도\n",
        "plt.clf()\n",
        "acc = history_dict[\"accuracy\"]\n",
        "val_acc = history_dict[\"val_accuracy\"]\n",
        "plt.plot(epochs, acc, \"bo\", label=\"Training acc\")\n",
        "plt.plot(epochs, val_acc, \"b\", label=\"Validation acc\")\n",
        "plt.title(\"Training and validation accuracy\")\n",
        "plt.xlabel(\"Epochs\")\n",
        "plt.ylabel(\"Accuracy\")\n",
        "plt.legend()\n",
        "plt.show()\n",
        "\n",
        "\n",
        "# 이 코드는 이전에 학습한 모델의 정확도 변화를 시각화하는 코드입니다. \n",
        "# history.history를 통해 학습 기록을 가져온 후, 훈련 손실값(loss)과 검증 손실값(val_loss)을 시각화합니다. \n",
        "# 그리고 이어서 훈련 정확도(accuracy)와 검증 정확도(val_accuracy)를 시각화합니다. \n",
        "# plt.plot() 함수를 통해 선 그래프를 그리며, 각각의 축에 레이블(xlabel, ylabel)과 제목(title)을 추가하고, 범례(legend)를 생성합니다. \n",
        "# 마지막으로 plt.show() 함수를 호출하여 그래프를 표시합니다.\n",
        "# 두 번째 에포크 이후부터 과대적합"
      ]
    },
    {
      "cell_type": "markdown",
      "metadata": {
        "id": "Ae4uK4TMCRra"
      },
      "source": [
        "**Retraining a model from scratch**"
      ]
    },
    {
      "cell_type": "code",
      "execution_count": 28,
      "metadata": {
        "id": "vIyOQjZTCRrb",
        "outputId": "bd805d50-48bc-430a-db80-7a507ca6b031",
        "colab": {
          "base_uri": "https://localhost:8080/"
        }
      },
      "outputs": [
        {
          "output_type": "stream",
          "name": "stdout",
          "text": [
            "Epoch 1/4\n",
            "49/49 [==============================] - 2s 14ms/step - loss: 0.4575 - accuracy: 0.8111\n",
            "Epoch 2/4\n",
            "49/49 [==============================] - 1s 14ms/step - loss: 0.2672 - accuracy: 0.9053\n",
            "Epoch 3/4\n",
            "49/49 [==============================] - 1s 13ms/step - loss: 0.2069 - accuracy: 0.9250\n",
            "Epoch 4/4\n",
            "49/49 [==============================] - 1s 14ms/step - loss: 0.1748 - accuracy: 0.9384\n",
            "782/782 [==============================] - 1s 2ms/step - loss: 0.2942 - accuracy: 0.8835\n"
          ]
        }
      ],
      "source": [
        "model = keras.Sequential([\n",
        "    layers.Dense(16, activation=\"relu\"),\n",
        "    layers.Dense(16, activation=\"relu\"),\n",
        "    layers.Dense(1, activation=\"sigmoid\")\n",
        "])\n",
        "model.compile(optimizer=\"rmsprop\",\n",
        "              loss=\"binary_crossentropy\",\n",
        "              metrics=[\"accuracy\"])\n",
        "model.fit(x_train, y_train, epochs=4, batch_size=512)\n",
        "results = model.evaluate(x_test, y_test)\n",
        "\n",
        "# 위 코드는 IMDB 데이터셋을 사용하여, 단어 시퀀스를 긍정/부정으로 분류하는 이진 분류 모델을 만들고, 훈련과 평가하는 과정입니다.\n",
        "\n",
        "# Sequential 모델을 생성합니다.\n",
        "# Dense 층을 이용해 모델을 쌓습니다. 총 3개의 층이 사용되었습니다. 첫 번째와 두 번째 층은 relu 활성화 함수를 사용하고, 마지막 층은 sigmoid 활성화 함수를 사용합니다. \n",
        "# 이진 분류 문제에서는 sigmoid 활성화 함수를 출력층에서 사용하는 것이 일반적입니다.\n",
        "# compile 메서드를 사용하여 모델의 손실 함수, 최적화 알고리즘, 평가 지표를 정의합니다.\n",
        "# fit 메서드를 사용하여 모델을 훈련합니다. 훈련 데이터와 검증 데이터를 사용하여 훈련하며, 총 4번의 에포크를 훈련합니다. 배치 크기는 512로 지정합니다.\n",
        "# evaluate 메서드를 사용하여 테스트 데이터에서 모델을 평가합니다. 이진 분류 문제에서는 binary_crossentropy 손실 함수를 사용합니다. 평가 지표로는 accuracy를 사용합니다."
      ]
    },
    {
      "cell_type": "code",
      "execution_count": 29,
      "metadata": {
        "id": "qz8mWUxZCRrb",
        "outputId": "59e0df32-7b58-4a64-e808-8cb61d451b17",
        "colab": {
          "base_uri": "https://localhost:8080/"
        }
      },
      "outputs": [
        {
          "output_type": "execute_result",
          "data": {
            "text/plain": [
              "[0.2941582500934601, 0.8835200071334839]"
            ]
          },
          "metadata": {},
          "execution_count": 29
        }
      ],
      "source": [
        "results"
      ]
    },
    {
      "cell_type": "code",
      "source": [
        "model1 = keras.Sequential([\n",
        "    layers.Dense(16, activation=\"relu\"),\n",
        "    layers.Dense(16, activation=\"relu\"),\n",
        "    layers.Dense(1, activation=\"sigmoid\")\n",
        "])\n",
        "model1.compile(optimizer=\"rmsprop\",\n",
        "              loss=\"binary_crossentropy\",\n",
        "              metrics=[\"accuracy\"])\n",
        "model1.fit(x_train, y_train, epochs=6, batch_size=512)\n",
        "results1 = model1.evaluate(x_test, y_test)"
      ],
      "metadata": {
        "id": "tQ2pm2B5dYtu",
        "outputId": "25abc1a1-da7a-4449-c903-838ce04a151e",
        "colab": {
          "base_uri": "https://localhost:8080/"
        }
      },
      "execution_count": 23,
      "outputs": [
        {
          "output_type": "stream",
          "name": "stdout",
          "text": [
            "Epoch 1/6\n",
            "49/49 [==============================] - 1s 15ms/step - loss: 0.5050 - accuracy: 0.7959\n",
            "Epoch 2/6\n",
            "49/49 [==============================] - 1s 15ms/step - loss: 0.2931 - accuracy: 0.8984\n",
            "Epoch 3/6\n",
            "49/49 [==============================] - 1s 14ms/step - loss: 0.2243 - accuracy: 0.9204\n",
            "Epoch 4/6\n",
            "49/49 [==============================] - 1s 14ms/step - loss: 0.1898 - accuracy: 0.9315\n",
            "Epoch 5/6\n",
            "49/49 [==============================] - 1s 14ms/step - loss: 0.1660 - accuracy: 0.9406\n",
            "Epoch 6/6\n",
            "49/49 [==============================] - 1s 13ms/step - loss: 0.1440 - accuracy: 0.9511\n",
            "782/782 [==============================] - 1s 1ms/step - loss: 0.3088 - accuracy: 0.8820\n"
          ]
        }
      ]
    },
    {
      "cell_type": "code",
      "source": [
        "results1"
      ],
      "metadata": {
        "id": "eldW6v_Qddtq",
        "outputId": "de5549b4-ff47-41f0-b950-ec9deab99a76",
        "colab": {
          "base_uri": "https://localhost:8080/"
        }
      },
      "execution_count": 24,
      "outputs": [
        {
          "output_type": "execute_result",
          "data": {
            "text/plain": [
              "[0.30878564715385437, 0.8820000290870667]"
            ]
          },
          "metadata": {},
          "execution_count": 24
        }
      ]
    },
    {
      "cell_type": "code",
      "source": [
        "model2 = keras.Sequential([\n",
        "    layers.Dense(16, activation=\"relu\"),\n",
        "    layers.Dense(16, activation=\"relu\"),\n",
        "    layers.Dense(1, activation=\"sigmoid\")\n",
        "])\n",
        "model2.compile(optimizer=\"rmsprop\",\n",
        "              loss=\"binary_crossentropy\",\n",
        "              metrics=[\"accuracy\"])\n",
        "model2.fit(x_train, y_train, epochs=10, batch_size=512)\n",
        "results2 = model1.evaluate(x_test, y_test)"
      ],
      "metadata": {
        "id": "B7aqBKWwdrNE",
        "outputId": "c501a6c6-7fdb-4981-be79-5b907bba32da",
        "colab": {
          "base_uri": "https://localhost:8080/"
        }
      },
      "execution_count": 25,
      "outputs": [
        {
          "output_type": "stream",
          "name": "stdout",
          "text": [
            "Epoch 1/10\n",
            "49/49 [==============================] - 1s 15ms/step - loss: 0.5061 - accuracy: 0.8059\n",
            "Epoch 2/10\n",
            "49/49 [==============================] - 1s 14ms/step - loss: 0.3089 - accuracy: 0.8974\n",
            "Epoch 3/10\n",
            "49/49 [==============================] - 1s 14ms/step - loss: 0.2368 - accuracy: 0.9169\n",
            "Epoch 4/10\n",
            "49/49 [==============================] - 1s 13ms/step - loss: 0.1988 - accuracy: 0.9305\n",
            "Epoch 5/10\n",
            "49/49 [==============================] - 1s 14ms/step - loss: 0.1745 - accuracy: 0.9389\n",
            "Epoch 6/10\n",
            "49/49 [==============================] - 1s 13ms/step - loss: 0.1566 - accuracy: 0.9456\n",
            "Epoch 7/10\n",
            "49/49 [==============================] - 1s 13ms/step - loss: 0.1417 - accuracy: 0.9516\n",
            "Epoch 8/10\n",
            "49/49 [==============================] - 1s 14ms/step - loss: 0.1284 - accuracy: 0.9563\n",
            "Epoch 9/10\n",
            "49/49 [==============================] - 1s 13ms/step - loss: 0.1176 - accuracy: 0.9611\n",
            "Epoch 10/10\n",
            "49/49 [==============================] - 1s 13ms/step - loss: 0.1074 - accuracy: 0.9652\n",
            "782/782 [==============================] - 1s 2ms/step - loss: 0.3088 - accuracy: 0.8820\n"
          ]
        }
      ]
    },
    {
      "cell_type": "code",
      "source": [
        "results2"
      ],
      "metadata": {
        "id": "qtSooxPQdyhQ",
        "outputId": "fa87e99b-7692-4b58-e975-d1d9ebb3bc5f",
        "colab": {
          "base_uri": "https://localhost:8080/"
        }
      },
      "execution_count": 26,
      "outputs": [
        {
          "output_type": "execute_result",
          "data": {
            "text/plain": [
              "[0.30878564715385437, 0.8820000290870667]"
            ]
          },
          "metadata": {},
          "execution_count": 26
        }
      ]
    },
    {
      "cell_type": "markdown",
      "metadata": {
        "id": "uNFDivN0CRrb"
      },
      "source": [
        "### Using a trained model to generate predictions on new data"
      ]
    },
    {
      "cell_type": "code",
      "execution_count": 30,
      "metadata": {
        "id": "QpDp9zWZCRrb",
        "outputId": "1c3b8c34-4b58-41c6-dec3-310465c65cf2",
        "colab": {
          "base_uri": "https://localhost:8080/"
        }
      },
      "outputs": [
        {
          "output_type": "stream",
          "name": "stdout",
          "text": [
            "782/782 [==============================] - 1s 1ms/step\n"
          ]
        },
        {
          "output_type": "execute_result",
          "data": {
            "text/plain": [
              "array([[0.25445402],\n",
              "       [0.9997605 ],\n",
              "       [0.94556814],\n",
              "       ...,\n",
              "       [0.11763625],\n",
              "       [0.07184334],\n",
              "       [0.67734313]], dtype=float32)"
            ]
          },
          "metadata": {},
          "execution_count": 30
        }
      ],
      "source": [
        "model.predict(x_test)"
      ]
    },
    {
      "cell_type": "markdown",
      "metadata": {
        "id": "YFb5iPWSCRrc"
      },
      "source": [
        "### Further experiments"
      ]
    },
    {
      "cell_type": "markdown",
      "metadata": {
        "id": "o3Pn-GnKCRrc"
      },
      "source": [
        "### Wrapping up"
      ]
    },
    {
      "cell_type": "markdown",
      "metadata": {
        "id": "Uk3ZaP6dCRrc"
      },
      "source": [
        "## Classifying newswires: A multiclass classification example"
      ]
    },
    {
      "cell_type": "markdown",
      "metadata": {
        "id": "E_wuOxzECRrc"
      },
      "source": [
        "### The Reuters dataset"
      ]
    },
    {
      "cell_type": "markdown",
      "metadata": {
        "id": "7HizFcvACRrc"
      },
      "source": [
        "**Loading the Reuters dataset**"
      ]
    },
    {
      "cell_type": "code",
      "execution_count": 31,
      "metadata": {
        "id": "EEYl1Hb5CRrc",
        "outputId": "31c11c0e-e1fe-4451-bdc7-fd5035c2c0ae",
        "colab": {
          "base_uri": "https://localhost:8080/"
        }
      },
      "outputs": [
        {
          "output_type": "stream",
          "name": "stdout",
          "text": [
            "Downloading data from https://storage.googleapis.com/tensorflow/tf-keras-datasets/reuters.npz\n",
            "2110848/2110848 [==============================] - 0s 0us/step\n"
          ]
        }
      ],
      "source": [
        "from tensorflow.keras.datasets import reuters\n",
        "(train_data, train_labels), (test_data, test_labels) = reuters.load_data(\n",
        "    num_words=10000)"
      ]
    },
    {
      "cell_type": "code",
      "execution_count": 32,
      "metadata": {
        "id": "8WG-JK-JCRrc",
        "outputId": "b6d087b8-500a-48db-de3e-0eeab8935c48",
        "colab": {
          "base_uri": "https://localhost:8080/"
        }
      },
      "outputs": [
        {
          "output_type": "execute_result",
          "data": {
            "text/plain": [
              "8982"
            ]
          },
          "metadata": {},
          "execution_count": 32
        }
      ],
      "source": [
        "len(train_data)"
      ]
    },
    {
      "cell_type": "code",
      "execution_count": 33,
      "metadata": {
        "id": "mvKT1de5CRrd",
        "outputId": "fddaaa98-b44c-43ab-ff44-7f7649409bf9",
        "colab": {
          "base_uri": "https://localhost:8080/"
        }
      },
      "outputs": [
        {
          "output_type": "execute_result",
          "data": {
            "text/plain": [
              "2246"
            ]
          },
          "metadata": {},
          "execution_count": 33
        }
      ],
      "source": [
        "len(test_data)"
      ]
    },
    {
      "cell_type": "code",
      "execution_count": 34,
      "metadata": {
        "id": "wyhKk-HDCRrd",
        "outputId": "be70a9e4-2fa6-4635-feda-749aab5ee07b",
        "colab": {
          "base_uri": "https://localhost:8080/"
        }
      },
      "outputs": [
        {
          "output_type": "execute_result",
          "data": {
            "text/plain": [
              "[1,\n",
              " 245,\n",
              " 273,\n",
              " 207,\n",
              " 156,\n",
              " 53,\n",
              " 74,\n",
              " 160,\n",
              " 26,\n",
              " 14,\n",
              " 46,\n",
              " 296,\n",
              " 26,\n",
              " 39,\n",
              " 74,\n",
              " 2979,\n",
              " 3554,\n",
              " 14,\n",
              " 46,\n",
              " 4689,\n",
              " 4329,\n",
              " 86,\n",
              " 61,\n",
              " 3499,\n",
              " 4795,\n",
              " 14,\n",
              " 61,\n",
              " 451,\n",
              " 4329,\n",
              " 17,\n",
              " 12]"
            ]
          },
          "metadata": {},
          "execution_count": 34
        }
      ],
      "source": [
        "train_data[10]"
      ]
    },
    {
      "cell_type": "markdown",
      "metadata": {
        "id": "iRhAM-OSCRrd"
      },
      "source": [
        "**Decoding newswires back to text**"
      ]
    },
    {
      "cell_type": "code",
      "execution_count": 35,
      "metadata": {
        "id": "xAT-lSXzCRrd",
        "outputId": "137be58f-c6cf-4fad-f502-9db5152515b0",
        "colab": {
          "base_uri": "https://localhost:8080/"
        }
      },
      "outputs": [
        {
          "output_type": "stream",
          "name": "stdout",
          "text": [
            "Downloading data from https://storage.googleapis.com/tensorflow/tf-keras-datasets/reuters_word_index.json\n",
            "550378/550378 [==============================] - 0s 0us/step\n"
          ]
        }
      ],
      "source": [
        "word_index = reuters.get_word_index()\n",
        "reverse_word_index = dict([(value, key) for (key, value) in word_index.items()])\n",
        "decoded_newswire = \" \".join([reverse_word_index.get(i - 3, \"?\") for i in\n",
        "    train_data[0]])\n",
        "\n",
        "\n",
        "# reuters.get_word_index() 함수를 사용하여 로이터 뉴스 데이터셋의 단어 인덱스를 가져옵니다. \n",
        "# 가져온 인덱스를 뒤집어서 reverse_word_index라는 딕셔너리를 만듭니다. reverse_word_index의 키와 값은 각각 단어와 그 단어에 해당하는 인덱스입니다.\n",
        "# 그 다음으로는 train_data 리스트의 첫 번째 원소에 해당하는 문서를 가져옵니다. \n",
        "# 이 문서는 정수 리스트로 되어 있으며, 각 정수는 단어 인덱스를 나타냅니다. \n",
        "# 이 정수 리스트를 반복하면서 각 정수에 해당하는 단어를 reverse_word_index 딕셔너리에서 찾아서 문자열로 변환합니다. \n",
        "# 단어 인덱스에서 3을 빼는 이유는, 0, 1, 2는 패딩, 문서 시작, 사전에 없음을 나타내는 인덱스로 사용되기 때문입니다.\n",
        "# 마지막으로 join() 함수를 사용하여 각 단어 문자열을 하나의 문자열로 합쳐서 decoded_newswire 변수에 저장합니다."
      ]
    },
    {
      "cell_type": "code",
      "execution_count": 36,
      "metadata": {
        "id": "bpyq_o9xCRrd",
        "outputId": "a1e229e7-d84c-4886-e030-e9551821b209",
        "colab": {
          "base_uri": "https://localhost:8080/"
        }
      },
      "outputs": [
        {
          "output_type": "execute_result",
          "data": {
            "text/plain": [
              "3"
            ]
          },
          "metadata": {},
          "execution_count": 36
        }
      ],
      "source": [
        "train_labels[10]"
      ]
    },
    {
      "cell_type": "markdown",
      "metadata": {
        "id": "HjCRJucYCRrd"
      },
      "source": [
        "### Preparing the data"
      ]
    },
    {
      "cell_type": "markdown",
      "metadata": {
        "id": "I1B3csS0CRre"
      },
      "source": [
        "**Encoding the input data**"
      ]
    },
    {
      "cell_type": "code",
      "execution_count": 37,
      "metadata": {
        "id": "a-kM5ATSCRre"
      },
      "outputs": [],
      "source": [
        "x_train = vectorize_sequences(train_data)\n",
        "x_test = vectorize_sequences(test_data)"
      ]
    },
    {
      "cell_type": "markdown",
      "metadata": {
        "id": "pKViJhciCRre"
      },
      "source": [
        "**Encoding the labels**"
      ]
    },
    {
      "cell_type": "code",
      "execution_count": 38,
      "metadata": {
        "id": "zHHZzft_CRre"
      },
      "outputs": [],
      "source": [
        "def to_one_hot(labels, dimension=46):\n",
        "    results = np.zeros((len(labels), dimension))\n",
        "    for i, label in enumerate(labels):\n",
        "        results[i, label] = 1.\n",
        "    return results\n",
        "y_train = to_one_hot(train_labels)\n",
        "y_test = to_one_hot(test_labels)\n",
        "\n",
        "# to_one_hot 함수는 label을 one-hot encoding으로 변환하는 함수입니다. \n",
        "# one-hot encoding은 categorical 데이터의 표현 방법 중 하나로, 해당하는 category의 인덱스에 해당하는 값은 1로 표시하고 나머지 값은 모두 0으로 표시하는 방법입니다.\n",
        "# 이 함수는 labels 리스트를 받아, 이를 len(labels) x dimension 크기의 0으로 채워진 행렬로 만들고, \n",
        "# enumerate 함수를 이용하여 각 레이블에 대한 one-hot encoding 값을 해당하는 행렬 위치에 채워 넣습니다. 이렇게 만들어진 one-hot encoding 행렬을 반환합니다.\n",
        "# 위 코드에서는 train data와 test data의 label을 one-hot encoding으로 변환한 후, y_train과 y_test에 각각 저장한 것을 볼 수 있습니다."
      ]
    },
    {
      "cell_type": "code",
      "execution_count": 39,
      "metadata": {
        "id": "0SdmUoFfCRre"
      },
      "outputs": [],
      "source": [
        "from tensorflow.keras.utils import to_categorical\n",
        "y_train = to_categorical(train_labels)\n",
        "y_test = to_categorical(test_labels)"
      ]
    },
    {
      "cell_type": "markdown",
      "metadata": {
        "id": "VWzO4IKHCRre"
      },
      "source": [
        "### Building your model"
      ]
    },
    {
      "cell_type": "markdown",
      "metadata": {
        "id": "E3dhN0tqCRre"
      },
      "source": [
        "**Model definition**"
      ]
    },
    {
      "cell_type": "code",
      "execution_count": 40,
      "metadata": {
        "id": "cm1xlvMOCRrf"
      },
      "outputs": [],
      "source": [
        "model = keras.Sequential([\n",
        "    layers.Dense(64, activation=\"relu\"),\n",
        "    layers.Dense(64, activation=\"relu\"),\n",
        "    layers.Dense(46, activation=\"softmax\")\n",
        "])"
      ]
    },
    {
      "cell_type": "markdown",
      "metadata": {
        "id": "CYopSIbLCRrf"
      },
      "source": [
        "**Compiling the model**"
      ]
    },
    {
      "cell_type": "code",
      "execution_count": 41,
      "metadata": {
        "id": "Z9rh4OkSCRrf"
      },
      "outputs": [],
      "source": [
        "model.compile(optimizer=\"rmsprop\",\n",
        "              loss=\"categorical_crossentropy\",\n",
        "              metrics=[\"accuracy\"])\n",
        "\n",
        "# 이 모델의 손실함수는 categorical_crossentropy로 설정되어 있습니다. \n",
        "# categorical_crossentropy는 다중 분류 문제에 사용되는 손실함수로, 출력값이 클래스별로 확률값으로 계산되는 경우 적합합니다. \n",
        "# 이 손실함수는 모델이 예측한 확률값과 실제 정답 클래스의 확률값을 비교하여 오차를 계산합니다. \n",
        "# 최적화 알고리즘으로는 rmsprop이 설정되어 있습니다. 모델의 성능을 평가하는 지표로는 accuracy가 설정되어 있습니다."
      ]
    },
    {
      "cell_type": "markdown",
      "metadata": {
        "id": "lju95wPJCRrf"
      },
      "source": [
        "### Validating your approach"
      ]
    },
    {
      "cell_type": "markdown",
      "metadata": {
        "id": "HDEUROzbCRrf"
      },
      "source": [
        "**Setting aside a validation set**"
      ]
    },
    {
      "cell_type": "code",
      "execution_count": 42,
      "metadata": {
        "id": "BS9Zzc0pCRrf"
      },
      "outputs": [],
      "source": [
        "x_val = x_train[:1000]\n",
        "partial_x_train = x_train[1000:]\n",
        "y_val = y_train[:1000]\n",
        "partial_y_train = y_train[1000:]"
      ]
    },
    {
      "cell_type": "markdown",
      "metadata": {
        "id": "ODkqO7DBCRrf"
      },
      "source": [
        "**Training the model**"
      ]
    },
    {
      "cell_type": "code",
      "execution_count": 43,
      "metadata": {
        "id": "4orNxp9xCRrf",
        "outputId": "51de8056-87eb-4626-be63-6ac9530d6367",
        "colab": {
          "base_uri": "https://localhost:8080/"
        }
      },
      "outputs": [
        {
          "output_type": "stream",
          "name": "stdout",
          "text": [
            "Epoch 1/20\n",
            "16/16 [==============================] - 2s 69ms/step - loss: 2.5273 - accuracy: 0.4965 - val_loss: 1.7387 - val_accuracy: 0.6090\n",
            "Epoch 2/20\n",
            "16/16 [==============================] - 1s 53ms/step - loss: 1.4649 - accuracy: 0.6810 - val_loss: 1.3501 - val_accuracy: 0.7000\n",
            "Epoch 3/20\n",
            "16/16 [==============================] - 1s 34ms/step - loss: 1.1475 - accuracy: 0.7437 - val_loss: 1.1831 - val_accuracy: 0.7340\n",
            "Epoch 4/20\n",
            "16/16 [==============================] - 0s 31ms/step - loss: 0.9412 - accuracy: 0.7955 - val_loss: 1.0775 - val_accuracy: 0.7590\n",
            "Epoch 5/20\n",
            "16/16 [==============================] - 1s 33ms/step - loss: 0.7789 - accuracy: 0.8315 - val_loss: 1.0155 - val_accuracy: 0.7740\n",
            "Epoch 6/20\n",
            "16/16 [==============================] - 0s 31ms/step - loss: 0.6480 - accuracy: 0.8569 - val_loss: 0.9572 - val_accuracy: 0.7930\n",
            "Epoch 7/20\n",
            "16/16 [==============================] - 1s 34ms/step - loss: 0.5385 - accuracy: 0.8852 - val_loss: 0.9707 - val_accuracy: 0.7940\n",
            "Epoch 8/20\n",
            "16/16 [==============================] - 1s 33ms/step - loss: 0.4552 - accuracy: 0.9024 - val_loss: 0.9124 - val_accuracy: 0.8130\n",
            "Epoch 9/20\n",
            "16/16 [==============================] - 0s 30ms/step - loss: 0.3794 - accuracy: 0.9191 - val_loss: 0.8954 - val_accuracy: 0.8110\n",
            "Epoch 10/20\n",
            "16/16 [==============================] - 1s 41ms/step - loss: 0.3221 - accuracy: 0.9313 - val_loss: 0.8837 - val_accuracy: 0.8100\n",
            "Epoch 11/20\n",
            "16/16 [==============================] - 1s 34ms/step - loss: 0.2787 - accuracy: 0.9389 - val_loss: 0.8808 - val_accuracy: 0.8160\n",
            "Epoch 12/20\n",
            "16/16 [==============================] - 1s 34ms/step - loss: 0.2455 - accuracy: 0.9440 - val_loss: 0.9043 - val_accuracy: 0.8080\n",
            "Epoch 13/20\n",
            "16/16 [==============================] - 1s 32ms/step - loss: 0.2166 - accuracy: 0.9470 - val_loss: 0.8881 - val_accuracy: 0.8050\n",
            "Epoch 14/20\n",
            "16/16 [==============================] - 1s 33ms/step - loss: 0.1987 - accuracy: 0.9486 - val_loss: 0.8997 - val_accuracy: 0.8060\n",
            "Epoch 15/20\n",
            "16/16 [==============================] - 0s 31ms/step - loss: 0.1746 - accuracy: 0.9533 - val_loss: 1.0014 - val_accuracy: 0.7960\n",
            "Epoch 16/20\n",
            "16/16 [==============================] - 1s 39ms/step - loss: 0.1633 - accuracy: 0.9531 - val_loss: 0.9768 - val_accuracy: 0.8050\n",
            "Epoch 17/20\n",
            "16/16 [==============================] - 0s 31ms/step - loss: 0.1548 - accuracy: 0.9545 - val_loss: 0.9661 - val_accuracy: 0.8070\n",
            "Epoch 18/20\n",
            "16/16 [==============================] - 1s 31ms/step - loss: 0.1483 - accuracy: 0.9554 - val_loss: 0.9193 - val_accuracy: 0.8160\n",
            "Epoch 19/20\n",
            "16/16 [==============================] - 0s 30ms/step - loss: 0.1375 - accuracy: 0.9575 - val_loss: 0.9716 - val_accuracy: 0.8070\n",
            "Epoch 20/20\n",
            "16/16 [==============================] - 1s 34ms/step - loss: 0.1329 - accuracy: 0.9564 - val_loss: 0.9736 - val_accuracy: 0.8060\n"
          ]
        }
      ],
      "source": [
        "history = model.fit(partial_x_train,\n",
        "                    partial_y_train,\n",
        "                    epochs=20,\n",
        "                    batch_size=512,\n",
        "                    validation_data=(x_val, y_val))"
      ]
    },
    {
      "cell_type": "markdown",
      "metadata": {
        "id": "XR8g5ZUsCRrg"
      },
      "source": [
        "**Plotting the training and validation loss**"
      ]
    },
    {
      "cell_type": "code",
      "execution_count": 44,
      "metadata": {
        "id": "_4pwfyCSCRrg",
        "outputId": "b7278acd-7c4f-4f0c-ba1d-4ba1f94f0bd3",
        "colab": {
          "base_uri": "https://localhost:8080/",
          "height": 472
        }
      },
      "outputs": [
        {
          "output_type": "display_data",
          "data": {
            "text/plain": [
              "<Figure size 640x480 with 1 Axes>"
            ],
            "image/png": "[encoded data removed]"
          },
          "metadata": {}
        }
      ],
      "source": [
        "loss = history.history[\"loss\"]\n",
        "val_loss = history.history[\"val_loss\"]\n",
        "epochs = range(1, len(loss) + 1)\n",
        "plt.plot(epochs, loss, \"bo\", label=\"Training loss\")\n",
        "plt.plot(epochs, val_loss, \"b\", label=\"Validation loss\")\n",
        "plt.title(\"Training and validation loss\")\n",
        "plt.xlabel(\"Epochs\")\n",
        "plt.ylabel(\"Loss\")\n",
        "plt.legend()\n",
        "plt.show()\n",
        "# 아홉번째 이후 과대적합"
      ]
    },
    {
      "cell_type": "markdown",
      "metadata": {
        "id": "-byXudD1CRrg"
      },
      "source": [
        "**Plotting the training and validation accuracy**"
      ]
    },
    {
      "cell_type": "code",
      "execution_count": 45,
      "metadata": {
        "id": "Cy_ye7UqCRrg",
        "outputId": "11d14b0d-0831-43c7-d2b8-8f69e0d02e51",
        "colab": {
          "base_uri": "https://localhost:8080/",
          "height": 472
        }
      },
      "outputs": [
        {
          "output_type": "display_data",
          "data": {
            "text/plain": [
              "<Figure size 640x480 with 1 Axes>"
            ],
            "image/png": "[encoded data removed]"
          },
          "metadata": {}
        }
      ],
      "source": [
        "plt.clf()\n",
        "acc = history.history[\"accuracy\"]\n",
        "val_acc = history.history[\"val_accuracy\"]\n",
        "plt.plot(epochs, acc, \"bo\", label=\"Training accuracy\")\n",
        "plt.plot(epochs, val_acc, \"b\", label=\"Validation accuracy\")\n",
        "plt.title(\"Training and validation accuracy\")\n",
        "plt.xlabel(\"Epochs\")\n",
        "plt.ylabel(\"Accuracy\")\n",
        "plt.legend()\n",
        "plt.show()\n",
        "# 아홉번째 이후 과대적합"
      ]
    },
    {
      "cell_type": "markdown",
      "metadata": {
        "id": "FUWwXQEnCRrg"
      },
      "source": [
        "**Retraining a model from scratch**"
      ]
    },
    {
      "cell_type": "code",
      "execution_count": 46,
      "metadata": {
        "id": "X61RYXW_CRrh",
        "outputId": "39eb8157-e744-4683-860a-d0b2b460d8d7",
        "colab": {
          "base_uri": "https://localhost:8080/"
        }
      },
      "outputs": [
        {
          "output_type": "stream",
          "name": "stdout",
          "text": [
            "Epoch 1/9\n",
            "18/18 [==============================] - 1s 32ms/step - loss: 2.7537 - accuracy: 0.4729\n",
            "Epoch 2/9\n",
            "18/18 [==============================] - 0s 28ms/step - loss: 1.5011 - accuracy: 0.6780\n",
            "Epoch 3/9\n",
            "18/18 [==============================] - 1s 28ms/step - loss: 1.1317 - accuracy: 0.7527\n",
            "Epoch 4/9\n",
            "18/18 [==============================] - 0s 27ms/step - loss: 0.9201 - accuracy: 0.8010\n",
            "Epoch 5/9\n",
            "18/18 [==============================] - 1s 28ms/step - loss: 0.7613 - accuracy: 0.8363\n",
            "Epoch 6/9\n",
            "18/18 [==============================] - 0s 27ms/step - loss: 0.6354 - accuracy: 0.8605\n",
            "Epoch 7/9\n",
            "18/18 [==============================] - 1s 29ms/step - loss: 0.5325 - accuracy: 0.8864\n",
            "Epoch 8/9\n",
            "18/18 [==============================] - 0s 27ms/step - loss: 0.4463 - accuracy: 0.9041\n",
            "Epoch 9/9\n",
            "18/18 [==============================] - 1s 28ms/step - loss: 0.3782 - accuracy: 0.9191\n",
            "71/71 [==============================] - 0s 2ms/step - loss: 0.9351 - accuracy: 0.7854\n"
          ]
        }
      ],
      "source": [
        "# 아홉 번 에포크로 새로운 모델\n",
        "model = keras.Sequential([\n",
        "  layers.Dense(64, activation=\"relu\"),\n",
        "  layers.Dense(64, activation=\"relu\"),\n",
        "  layers.Dense(46, activation=\"softmax\")\n",
        "])\n",
        "model.compile(optimizer=\"rmsprop\",\n",
        "              loss=\"categorical_crossentropy\",\n",
        "              metrics=[\"accuracy\"])\n",
        "model.fit(x_train,\n",
        "          y_train,\n",
        "          epochs=9,\n",
        "          batch_size=512)\n",
        "results = model.evaluate(x_test, y_test)"
      ]
    },
    {
      "cell_type": "code",
      "execution_count": 47,
      "metadata": {
        "id": "386vUROZCRrh",
        "outputId": "7ce8a7d1-0b3d-4f7d-82f0-d1f0223394b8",
        "colab": {
          "base_uri": "https://localhost:8080/"
        }
      },
      "outputs": [
        {
          "output_type": "execute_result",
          "data": {
            "text/plain": [
              "[0.9350662231445312, 0.7853962779045105]"
            ]
          },
          "metadata": {},
          "execution_count": 47
        }
      ],
      "source": [
        "results"
      ]
    },
    {
      "cell_type": "code",
      "execution_count": 48,
      "metadata": {
        "id": "Zd30A9i-CRrh",
        "outputId": "f1bf750f-21db-4714-a30a-9b1679b22797",
        "colab": {
          "base_uri": "https://localhost:8080/"
        }
      },
      "outputs": [
        {
          "output_type": "execute_result",
          "data": {
            "text/plain": [
              "0.18165627782724844"
            ]
          },
          "metadata": {},
          "execution_count": 48
        }
      ],
      "source": [
        "import copy\n",
        "test_labels_copy = copy.copy(test_labels)\n",
        "np.random.shuffle(test_labels_copy)\n",
        "hits_array = np.array(test_labels) == np.array(test_labels_copy)\n",
        "hits_array.mean()\n",
        "\n",
        "# 위 코드는 테스트 레이블을 복사한 후, 랜덤하게 섞어서 원래 레이블과 일치하는 경우의 비율을 계산하는 코드입니다.\n",
        "# 이를 통해 모델의 성능이 얼마나 좋은지를 확인할 수 있습니다. 만약 성능이 좋다면, 섞인 레이블과 원래 레이블이 일치할 확률이 높아져 비율은 1에 가까워질 것입니다."
      ]
    },
    {
      "cell_type": "markdown",
      "metadata": {
        "id": "PlsZFfB4CRrh"
      },
      "source": [
        "### Generating predictions on new data"
      ]
    },
    {
      "cell_type": "code",
      "execution_count": 49,
      "metadata": {
        "id": "YXAkxxy7CRrh",
        "outputId": "b689563a-01b5-455c-8790-86338d2bb323",
        "colab": {
          "base_uri": "https://localhost:8080/"
        }
      },
      "outputs": [
        {
          "output_type": "stream",
          "name": "stdout",
          "text": [
            "71/71 [==============================] - 0s 2ms/step\n"
          ]
        }
      ],
      "source": [
        "predictions = model.predict(x_test)"
      ]
    },
    {
      "cell_type": "code",
      "execution_count": 50,
      "metadata": {
        "id": "y8aJKWzkCRrh",
        "outputId": "4ad1caf4-ed9c-4120-c745-be553159ee40",
        "colab": {
          "base_uri": "https://localhost:8080/"
        }
      },
      "outputs": [
        {
          "output_type": "execute_result",
          "data": {
            "text/plain": [
              "(46,)"
            ]
          },
          "metadata": {},
          "execution_count": 50
        }
      ],
      "source": [
        "predictions[0].shape"
      ]
    },
    {
      "cell_type": "code",
      "execution_count": 51,
      "metadata": {
        "id": "9a0CBXyLCRri",
        "outputId": "eedf760a-975c-4513-eed2-cc8618f0faa5",
        "colab": {
          "base_uri": "https://localhost:8080/"
        }
      },
      "outputs": [
        {
          "output_type": "execute_result",
          "data": {
            "text/plain": [
              "1.0000001"
            ]
          },
          "metadata": {},
          "execution_count": 51
        }
      ],
      "source": [
        "np.sum(predictions[0])"
      ]
    },
    {
      "cell_type": "code",
      "execution_count": 52,
      "metadata": {
        "id": "ZpOUHlTrCRri",
        "outputId": "f6f745cb-d22d-45b1-c2d9-61d1ff149907",
        "colab": {
          "base_uri": "https://localhost:8080/"
        }
      },
      "outputs": [
        {
          "output_type": "execute_result",
          "data": {
            "text/plain": [
              "3"
            ]
          },
          "metadata": {},
          "execution_count": 52
        }
      ],
      "source": [
        "np.argmax(predictions[0])\n",
        "\n",
        "# 가장 큰 값이 예측 클래스, 즉 가장 확률이 높은 클래스"
      ]
    },
    {
      "cell_type": "markdown",
      "metadata": {
        "id": "jwJAMSxGCRri"
      },
      "source": [
        "### A different way to handle the labels and the loss"
      ]
    },
    {
      "cell_type": "code",
      "execution_count": 53,
      "metadata": {
        "id": "_eenNTAKCRri"
      },
      "outputs": [],
      "source": [
        "y_train = np.array(train_labels)\n",
        "y_test = np.array(test_labels)"
      ]
    },
    {
      "cell_type": "code",
      "execution_count": 54,
      "metadata": {
        "id": "fDP4Y69lCRri"
      },
      "outputs": [],
      "source": [
        "model.compile(optimizer=\"rmsprop\",\n",
        "              loss=\"sparse_categorical_crossentropy\",\n",
        "              metrics=[\"accuracy\"])\n",
        "\n",
        "# 이 코드는 다중 분류 문제에서 사용하는 손실 함수인 sparse_categorical_crossentropy와 측정 지표인 accuracy를 사용하여 모델을 컴파일합니다.\n",
        "# sparse_categorical_crossentropy는 각 샘플에 대한 원-핫 인코딩된 레이블이 아니라 정수 형태의 레이블을 입력으로 받습니다. \n",
        "# 이 함수는 내부적으로 입력된 레이블을 자동으로 원-핫 인코딩하여 손실 값을 계산합니다.\n",
        "# 즉, to_categorical 함수를 사용하여 레이블을 원-핫 인코딩할 필요가 없습니다. 따라서 메모리 사용량이 더 적고 계산 속도가 더 빠릅니다."
      ]
    },
    {
      "cell_type": "markdown",
      "metadata": {
        "id": "karQORsUCRri"
      },
      "source": [
        "### The importance of having sufficiently large intermediate layers"
      ]
    },
    {
      "cell_type": "markdown",
      "metadata": {
        "id": "ruxKg1oUCRrj"
      },
      "source": [
        "**A model with an information bottleneck**"
      ]
    },
    {
      "cell_type": "code",
      "execution_count": 55,
      "metadata": {
        "id": "y_37Iv5wCRrj",
        "outputId": "787cb709-52ad-4bc0-f17d-a3cca8c35232",
        "colab": {
          "base_uri": "https://localhost:8080/"
        }
      },
      "outputs": [
        {
          "output_type": "stream",
          "name": "stdout",
          "text": [
            "Epoch 1/20\n",
            "63/63 [==============================] - 1s 13ms/step - loss: 2.5773 - accuracy: 0.4921 - val_loss: 1.9000 - val_accuracy: 0.5430\n",
            "Epoch 2/20\n",
            "63/63 [==============================] - 1s 11ms/step - loss: 1.7279 - accuracy: 0.5466 - val_loss: 1.6236 - val_accuracy: 0.5590\n",
            "Epoch 3/20\n",
            "63/63 [==============================] - 1s 11ms/step - loss: 1.4763 - accuracy: 0.5848 - val_loss: 1.4956 - val_accuracy: 0.6060\n",
            "Epoch 4/20\n",
            "63/63 [==============================] - 1s 11ms/step - loss: 1.3065 - accuracy: 0.6396 - val_loss: 1.4120 - val_accuracy: 0.6400\n",
            "Epoch 5/20\n",
            "63/63 [==============================] - 1s 10ms/step - loss: 1.1814 - accuracy: 0.6829 - val_loss: 1.3576 - val_accuracy: 0.6600\n",
            "Epoch 6/20\n",
            "63/63 [==============================] - 1s 12ms/step - loss: 1.0796 - accuracy: 0.7149 - val_loss: 1.3416 - val_accuracy: 0.6740\n",
            "Epoch 7/20\n",
            "63/63 [==============================] - 1s 15ms/step - loss: 0.9916 - accuracy: 0.7390 - val_loss: 1.3278 - val_accuracy: 0.6790\n",
            "Epoch 8/20\n",
            "63/63 [==============================] - 1s 12ms/step - loss: 0.9175 - accuracy: 0.7532 - val_loss: 1.3177 - val_accuracy: 0.6840\n",
            "Epoch 9/20\n",
            "63/63 [==============================] - 1s 11ms/step - loss: 0.8528 - accuracy: 0.7719 - val_loss: 1.3341 - val_accuracy: 0.6890\n",
            "Epoch 10/20\n",
            "63/63 [==============================] - 1s 11ms/step - loss: 0.7955 - accuracy: 0.7889 - val_loss: 1.3277 - val_accuracy: 0.7000\n",
            "Epoch 11/20\n",
            "63/63 [==============================] - 1s 11ms/step - loss: 0.7432 - accuracy: 0.8049 - val_loss: 1.3295 - val_accuracy: 0.7070\n",
            "Epoch 12/20\n",
            "63/63 [==============================] - 1s 11ms/step - loss: 0.7012 - accuracy: 0.8118 - val_loss: 1.3458 - val_accuracy: 0.7140\n",
            "Epoch 13/20\n",
            "63/63 [==============================] - 1s 11ms/step - loss: 0.6613 - accuracy: 0.8190 - val_loss: 1.3925 - val_accuracy: 0.7100\n",
            "Epoch 14/20\n",
            "63/63 [==============================] - 1s 10ms/step - loss: 0.6271 - accuracy: 0.8289 - val_loss: 1.3733 - val_accuracy: 0.7150\n",
            "Epoch 15/20\n",
            "63/63 [==============================] - 1s 11ms/step - loss: 0.5958 - accuracy: 0.8420 - val_loss: 1.3870 - val_accuracy: 0.7070\n",
            "Epoch 16/20\n",
            "63/63 [==============================] - 1s 11ms/step - loss: 0.5736 - accuracy: 0.8465 - val_loss: 1.4433 - val_accuracy: 0.7130\n",
            "Epoch 17/20\n",
            "63/63 [==============================] - 1s 11ms/step - loss: 0.5513 - accuracy: 0.8465 - val_loss: 1.5043 - val_accuracy: 0.7030\n",
            "Epoch 18/20\n",
            "63/63 [==============================] - 1s 11ms/step - loss: 0.5334 - accuracy: 0.8492 - val_loss: 1.5291 - val_accuracy: 0.7000\n",
            "Epoch 19/20\n",
            "63/63 [==============================] - 1s 11ms/step - loss: 0.5128 - accuracy: 0.8520 - val_loss: 1.5461 - val_accuracy: 0.7070\n",
            "Epoch 20/20\n",
            "63/63 [==============================] - 1s 10ms/step - loss: 0.5024 - accuracy: 0.8519 - val_loss: 1.6343 - val_accuracy: 0.6920\n"
          ]
        },
        {
          "output_type": "execute_result",
          "data": {
            "text/plain": [
              "<keras.callbacks.History at 0x7f374e019310>"
            ]
          },
          "metadata": {},
          "execution_count": 55
        }
      ],
      "source": [
        "model = keras.Sequential([\n",
        "    layers.Dense(64, activation=\"relu\"),\n",
        "    layers.Dense(4, activation=\"relu\"),\n",
        "    layers.Dense(46, activation=\"softmax\")\n",
        "])\n",
        "model.compile(optimizer=\"rmsprop\",\n",
        "              loss=\"categorical_crossentropy\",\n",
        "              metrics=[\"accuracy\"])\n",
        "model.fit(partial_x_train,\n",
        "          partial_y_train,\n",
        "          epochs=20,\n",
        "          batch_size=128,\n",
        "          validation_data=(x_val, y_val))\n",
        "\n",
        "# 위 코드는 다중 분류(Multi-class classification) 문제를 해결하기 위한 신경망 모델을 구성하고 학습하는 코드입니다.\n",
        "\n",
        "# Sequential 모델 객체를 생성합니다.\n",
        "# Dense 층을 이용하여 64개의 은닉 유닛과 ReLU 활성화 함수를 가지는 층을 추가합니다.\n",
        "# 다음으로, 4개의 은닉 유닛과 ReLU 활성화 함수를 가지는 층을 추가합니다.\n",
        "# 마지막으로, 46개의 클래스를 구분할 수 있는 softmax 활성화 함수를 가지는 출력층을 추가합니다.\n",
        "# 모델을 컴파일합니다. 이때, rmsprop 옵티마이저를 사용하며, categorical_crossentropy 손실 함수와 accuracy 평가 지표를 사용합니다.\n",
        "# fit 메소드를 호출하여 모델을 학습합니다. 이때, 20번의 에포크(epoch)동안 학습하며, 배치 크기는 128로 설정합니다. \n",
        "# 또한, 검증 데이터셋(x_val, y_val)을 이용하여 모델의 성능을 평가합니다.\n",
        "# 검증 정확도 손실의 원인 많은 정보를 중간층의 저차원 표현 공간으로 압축하려고 했기 때문"
      ]
    },
    {
      "cell_type": "markdown",
      "metadata": {
        "id": "-UkaTWQXCRrj"
      },
      "source": [
        "### Further experiments"
      ]
    },
    {
      "cell_type": "markdown",
      "metadata": {
        "id": "KSnn6llfCRrj"
      },
      "source": [
        "### Wrapping up"
      ]
    },
    {
      "cell_type": "markdown",
      "metadata": {
        "id": "zSpX-WsKCRrj"
      },
      "source": [
        "## Predicting house prices: A regression example"
      ]
    },
    {
      "cell_type": "markdown",
      "metadata": {
        "id": "WfcZtqHWCRrj"
      },
      "source": [
        "### The Boston Housing Price dataset"
      ]
    },
    {
      "cell_type": "markdown",
      "metadata": {
        "id": "F7kkQt6uCRrj"
      },
      "source": [
        "**Loading the Boston housing dataset**"
      ]
    },
    {
      "cell_type": "code",
      "execution_count": 56,
      "metadata": {
        "id": "qgs5aYmkCRrk",
        "outputId": "06bcbcbb-582c-4d2a-d832-bac3565d6bd1",
        "colab": {
          "base_uri": "https://localhost:8080/"
        }
      },
      "outputs": [
        {
          "output_type": "stream",
          "name": "stdout",
          "text": [
            "Downloading data from https://storage.googleapis.com/tensorflow/tf-keras-datasets/boston_housing.npz\n",
            "57026/57026 [==============================] - 0s 0us/step\n"
          ]
        }
      ],
      "source": [
        "from tensorflow.keras.datasets import boston_housing\n",
        "(train_data, train_targets), (test_data, test_targets) = boston_housing.load_data()"
      ]
    },
    {
      "cell_type": "code",
      "execution_count": 57,
      "metadata": {
        "id": "SoEMG6keCRrk",
        "outputId": "44ae52aa-043c-4c24-bf70-55677d7b9a09",
        "colab": {
          "base_uri": "https://localhost:8080/"
        }
      },
      "outputs": [
        {
          "output_type": "execute_result",
          "data": {
            "text/plain": [
              "(404, 13)"
            ]
          },
          "metadata": {},
          "execution_count": 57
        }
      ],
      "source": [
        "train_data.shape"
      ]
    },
    {
      "cell_type": "code",
      "execution_count": 58,
      "metadata": {
        "id": "mGL80fbXCRrk",
        "outputId": "cf0d2be3-5b2a-4437-ba69-3deac54323de",
        "colab": {
          "base_uri": "https://localhost:8080/"
        }
      },
      "outputs": [
        {
          "output_type": "execute_result",
          "data": {
            "text/plain": [
              "(102, 13)"
            ]
          },
          "metadata": {},
          "execution_count": 58
        }
      ],
      "source": [
        "test_data.shape"
      ]
    },
    {
      "cell_type": "code",
      "execution_count": 59,
      "metadata": {
        "id": "UDEGPAhMCRrk",
        "outputId": "ceffd6d4-e5bd-4b3b-e990-ccf6e40a2295",
        "colab": {
          "base_uri": "https://localhost:8080/"
        }
      },
      "outputs": [
        {
          "output_type": "execute_result",
          "data": {
            "text/plain": [
              "array([15.2, 42.3, 50. , 21.1, 17.7, 18.5, 11.3, 15.6, 15.6, 14.4, 12.1,\n",
              "       17.9, 23.1, 19.9, 15.7,  8.8, 50. , 22.5, 24.1, 27.5, 10.9, 30.8,\n",
              "       32.9, 24. , 18.5, 13.3, 22.9, 34.7, 16.6, 17.5, 22.3, 16.1, 14.9,\n",
              "       23.1, 34.9, 25. , 13.9, 13.1, 20.4, 20. , 15.2, 24.7, 22.2, 16.7,\n",
              "       12.7, 15.6, 18.4, 21. , 30.1, 15.1, 18.7,  9.6, 31.5, 24.8, 19.1,\n",
              "       22. , 14.5, 11. , 32. , 29.4, 20.3, 24.4, 14.6, 19.5, 14.1, 14.3,\n",
              "       15.6, 10.5,  6.3, 19.3, 19.3, 13.4, 36.4, 17.8, 13.5, 16.5,  8.3,\n",
              "       14.3, 16. , 13.4, 28.6, 43.5, 20.2, 22. , 23. , 20.7, 12.5, 48.5,\n",
              "       14.6, 13.4, 23.7, 50. , 21.7, 39.8, 38.7, 22.2, 34.9, 22.5, 31.1,\n",
              "       28.7, 46. , 41.7, 21. , 26.6, 15. , 24.4, 13.3, 21.2, 11.7, 21.7,\n",
              "       19.4, 50. , 22.8, 19.7, 24.7, 36.2, 14.2, 18.9, 18.3, 20.6, 24.6,\n",
              "       18.2,  8.7, 44. , 10.4, 13.2, 21.2, 37. , 30.7, 22.9, 20. , 19.3,\n",
              "       31.7, 32. , 23.1, 18.8, 10.9, 50. , 19.6,  5. , 14.4, 19.8, 13.8,\n",
              "       19.6, 23.9, 24.5, 25. , 19.9, 17.2, 24.6, 13.5, 26.6, 21.4, 11.9,\n",
              "       22.6, 19.6,  8.5, 23.7, 23.1, 22.4, 20.5, 23.6, 18.4, 35.2, 23.1,\n",
              "       27.9, 20.6, 23.7, 28. , 13.6, 27.1, 23.6, 20.6, 18.2, 21.7, 17.1,\n",
              "        8.4, 25.3, 13.8, 22.2, 18.4, 20.7, 31.6, 30.5, 20.3,  8.8, 19.2,\n",
              "       19.4, 23.1, 23. , 14.8, 48.8, 22.6, 33.4, 21.1, 13.6, 32.2, 13.1,\n",
              "       23.4, 18.9, 23.9, 11.8, 23.3, 22.8, 19.6, 16.7, 13.4, 22.2, 20.4,\n",
              "       21.8, 26.4, 14.9, 24.1, 23.8, 12.3, 29.1, 21. , 19.5, 23.3, 23.8,\n",
              "       17.8, 11.5, 21.7, 19.9, 25. , 33.4, 28.5, 21.4, 24.3, 27.5, 33.1,\n",
              "       16.2, 23.3, 48.3, 22.9, 22.8, 13.1, 12.7, 22.6, 15. , 15.3, 10.5,\n",
              "       24. , 18.5, 21.7, 19.5, 33.2, 23.2,  5. , 19.1, 12.7, 22.3, 10.2,\n",
              "       13.9, 16.3, 17. , 20.1, 29.9, 17.2, 37.3, 45.4, 17.8, 23.2, 29. ,\n",
              "       22. , 18. , 17.4, 34.6, 20.1, 25. , 15.6, 24.8, 28.2, 21.2, 21.4,\n",
              "       23.8, 31. , 26.2, 17.4, 37.9, 17.5, 20. ,  8.3, 23.9,  8.4, 13.8,\n",
              "        7.2, 11.7, 17.1, 21.6, 50. , 16.1, 20.4, 20.6, 21.4, 20.6, 36.5,\n",
              "        8.5, 24.8, 10.8, 21.9, 17.3, 18.9, 36.2, 14.9, 18.2, 33.3, 21.8,\n",
              "       19.7, 31.6, 24.8, 19.4, 22.8,  7.5, 44.8, 16.8, 18.7, 50. , 50. ,\n",
              "       19.5, 20.1, 50. , 17.2, 20.8, 19.3, 41.3, 20.4, 20.5, 13.8, 16.5,\n",
              "       23.9, 20.6, 31.5, 23.3, 16.8, 14. , 33.8, 36.1, 12.8, 18.3, 18.7,\n",
              "       19.1, 29. , 30.1, 50. , 50. , 22. , 11.9, 37.6, 50. , 22.7, 20.8,\n",
              "       23.5, 27.9, 50. , 19.3, 23.9, 22.6, 15.2, 21.7, 19.2, 43.8, 20.3,\n",
              "       33.2, 19.9, 22.5, 32.7, 22. , 17.1, 19. , 15. , 16.1, 25.1, 23.7,\n",
              "       28.7, 37.2, 22.6, 16.4, 25. , 29.8, 22.1, 17.4, 18.1, 30.3, 17.5,\n",
              "       24.7, 12.6, 26.5, 28.7, 13.3, 10.4, 24.4, 23. , 20. , 17.8,  7. ,\n",
              "       11.8, 24.4, 13.8, 19.4, 25.2, 19.4, 19.4, 29.1])"
            ]
          },
          "metadata": {},
          "execution_count": 59
        }
      ],
      "source": [
        "train_targets"
      ]
    },
    {
      "cell_type": "markdown",
      "metadata": {
        "id": "VWr7uYVUCRrk"
      },
      "source": [
        "### Preparing the data"
      ]
    },
    {
      "cell_type": "markdown",
      "metadata": {
        "id": "HvBLApghCRrk"
      },
      "source": [
        "**Normalizing the data**"
      ]
    },
    {
      "cell_type": "code",
      "execution_count": 60,
      "metadata": {
        "id": "WIj9vsBECRrk"
      },
      "outputs": [],
      "source": [
        "mean = train_data.mean(axis=0)\n",
        "train_data -= mean\n",
        "std = train_data.std(axis=0)\n",
        "train_data /= std\n",
        "test_data -= mean\n",
        "test_data /= std"
      ]
    },
    {
      "cell_type": "markdown",
      "metadata": {
        "id": "DSYOlWcMCRrl"
      },
      "source": [
        "### Building your model"
      ]
    },
    {
      "cell_type": "markdown",
      "metadata": {
        "id": "MOBJayNECRrl"
      },
      "source": [
        "**Model definition**"
      ]
    },
    {
      "cell_type": "code",
      "execution_count": 62,
      "metadata": {
        "id": "0FpmsooBCRrl"
      },
      "outputs": [],
      "source": [
        "def build_model():\n",
        "    model = keras.Sequential([\n",
        "        layers.Dense(64, activation=\"relu\"),\n",
        "        layers.Dense(64, activation=\"relu\"),\n",
        "        layers.Dense(1)   # 스칼라 회귀를 위한 궛ㅇ\n",
        "    ])\n",
        "    model.compile(optimizer=\"rmsprop\", loss=\"mse\", metrics=[\"mae\"])\n",
        "    return model\n",
        "\n",
        "# 이 함수는 3개의 Dense 레이어를 가진 Sequential 모델을 생성합니다. \n",
        "# 각 레이어는 64개의 뉴런을 가지고 있으며, 첫 번째와 두 번째 레이어는 ReLU 활성화 함수를 사용하고, 마지막 레이어는 활성화 함수를 지정하지 않았습니다. \n",
        "# 모델은 rmsprop 옵티마이저를 사용하여 mse 손실 함수를 최소화하고 mae 지표를 사용하여 모니터링합니다. 이 함수는 모델 객체를 반환합니다.\n",
        "#샘플 개수가 적기 때문에 64개의 유닛을 가진 2개의 은닉 층으로 작은 네트워크를 구성하여 사용 "
      ]
    },
    {
      "cell_type": "markdown",
      "metadata": {
        "id": "TFMWEDqRCRrl"
      },
      "source": [
        "### Validating your approach using K-fold validation"
      ]
    },
    {
      "cell_type": "markdown",
      "metadata": {
        "id": "cWMM3cpHCRrl"
      },
      "source": [
        "**K-fold validation**"
      ]
    },
    {
      "cell_type": "code",
      "execution_count": 63,
      "metadata": {
        "id": "ssRfK_GqCRrl",
        "outputId": "620d6f3d-e724-4af4-cd17-a6ae3ee8f932",
        "colab": {
          "base_uri": "https://localhost:8080/"
        }
      },
      "outputs": [
        {
          "output_type": "stream",
          "name": "stdout",
          "text": [
            "Processing fold #0\n",
            "Processing fold #1\n",
            "Processing fold #2\n",
            "Processing fold #3\n"
          ]
        }
      ],
      "source": [
        "k = 4\n",
        "num_val_samples = len(train_data) // k\n",
        "num_epochs = 100\n",
        "all_scores = []\n",
        "for i in range(k):\n",
        "    print(f\"Processing fold #{i}\")\n",
        "    val_data = train_data[i * num_val_samples: (i + 1) * num_val_samples]\n",
        "    val_targets = train_targets[i * num_val_samples: (i + 1) * num_val_samples]\n",
        "    partial_train_data = np.concatenate(\n",
        "        [train_data[:i * num_val_samples],\n",
        "         train_data[(i + 1) * num_val_samples:]],\n",
        "        axis=0)\n",
        "    partial_train_targets = np.concatenate(\n",
        "        [train_targets[:i * num_val_samples],\n",
        "         train_targets[(i + 1) * num_val_samples:]],\n",
        "        axis=0)\n",
        "    model = build_model()\n",
        "    model.fit(partial_train_data, partial_train_targets,\n",
        "              epochs=num_epochs, batch_size=16, verbose=0)\n",
        "    val_mse, val_mae = model.evaluate(val_data, val_targets, verbose=0)\n",
        "    all_scores.append(val_mae)\n",
        "\n",
        "\n",
        "# 교차 검증을 수행하는 코드입니다. k는 데이터를 k개의 분할로 나누어 각각의 폴드에서 모델을 학습하고 검증하는데 사용합니다.\n",
        "#  num_val_samples는 검증 데이터 샘플의 수를 의미하며, num_epochs는 모델을 학습할 때 사용할 에포크의 수를 의미합니다.\n",
        "\n",
        "# 각 폴드에서는 val_data와 val_targets를 검증 데이터로, partial_train_data와 partial_train_targets를 훈련 데이터로 사용합니다. \n",
        "# build_model() 함수를 사용하여 모델을 구성하고, 훈련 데이터를 사용하여 모델을 학습합니다. 검증 데이터를 사용하여 모델을 평가하고, \n",
        "# 평가 지표 중 하나인 val_mae를 all_scores 리스트에 추가합니다.\n",
        "\n",
        "# 이렇게 모든 폴드에서 수행한 교차 검증 결과를 all_scores 리스트에 저장하여, 평균적인 검증 점수를 계산하고, 모델의 성능을 평가합니다."
      ]
    },
    {
      "cell_type": "code",
      "execution_count": 64,
      "metadata": {
        "id": "h51FOEd8CRrm",
        "outputId": "457c736f-18b8-4694-d76c-4f3f1e38d2f0",
        "colab": {
          "base_uri": "https://localhost:8080/"
        }
      },
      "outputs": [
        {
          "output_type": "execute_result",
          "data": {
            "text/plain": [
              "[1.96833336353302, 2.333244800567627, 2.4388585090637207, 2.504141092300415]"
            ]
          },
          "metadata": {},
          "execution_count": 64
        }
      ],
      "source": [
        "all_scores\n",
        "# 검증 점수"
      ]
    },
    {
      "cell_type": "code",
      "execution_count": 65,
      "metadata": {
        "id": "_Xuwcg6-CRrm",
        "outputId": "7e252915-3155-4e77-b4e3-b73aeda57279",
        "colab": {
          "base_uri": "https://localhost:8080/"
        }
      },
      "outputs": [
        {
          "output_type": "execute_result",
          "data": {
            "text/plain": [
              "2.3111444413661957"
            ]
          },
          "metadata": {},
          "execution_count": 65
        }
      ],
      "source": [
        "np.mean(all_scores)"
      ]
    },
    {
      "cell_type": "markdown",
      "metadata": {
        "id": "X2gdWDHNCRrm"
      },
      "source": [
        "**Saving the validation logs at each fold**"
      ]
    },
    {
      "cell_type": "code",
      "execution_count": 66,
      "metadata": {
        "id": "37q8aLcQCRrm",
        "outputId": "be0fdbda-7c8d-4d07-faf9-054c1a775d09",
        "colab": {
          "base_uri": "https://localhost:8080/"
        }
      },
      "outputs": [
        {
          "output_type": "stream",
          "name": "stdout",
          "text": [
            "Processing fold #0\n",
            "Processing fold #1\n",
            "Processing fold #2\n",
            "Processing fold #3\n"
          ]
        }
      ],
      "source": [
        "num_epochs = 500\n",
        "all_mae_histories = []\n",
        "for i in range(k):\n",
        "    print(f\"Processing fold #{i}\")\n",
        "    val_data = train_data[i * num_val_samples: (i + 1) * num_val_samples]\n",
        "    val_targets = train_targets[i * num_val_samples: (i + 1) * num_val_samples]\n",
        "    partial_train_data = np.concatenate(\n",
        "        [train_data[:i * num_val_samples],\n",
        "         train_data[(i + 1) * num_val_samples:]],\n",
        "        axis=0)\n",
        "    partial_train_targets = np.concatenate(\n",
        "        [train_targets[:i * num_val_samples],\n",
        "         train_targets[(i + 1) * num_val_samples:]],\n",
        "        axis=0)\n",
        "    model = build_model()\n",
        "    history = model.fit(partial_train_data, partial_train_targets,\n",
        "                        validation_data=(val_data, val_targets),\n",
        "                        epochs=num_epochs, batch_size=16, verbose=0)\n",
        "    mae_history = history.history[\"val_mae\"]\n",
        "    all_mae_histories.append(mae_history)\n",
        "\n",
        "# 이 코드는 K-Fold 교차 검증을 이용하여 모델을 학습하는 과정에서, 검증 세트의 MAE 값을 모니터링하기 위해 학습 과정에서 발생하는 MAE 값을 모두 기록하는 코드입니다.\n",
        "\n",
        "# K-Fold 교차 검증을 이용하기 위해 k 값이 먼저 정해지고, 전체 데이터를 k개로 나누어 하나의 부분을 검증 데이터셋, \n",
        "# 나머지 부분을 훈련 데이터셋으로 사용합니다. 이때 num_val_samples 변수를 사용하여 각 검증 데이터셋의 크기를 계산하고, \n",
        "# val_data, val_targets, partial_train_data, partial_train_targets 변수를 이용하여 검증 데이터셋과 훈련 데이터셋을 분할합니다.\n",
        "\n",
        "# 모델을 학습하기 위해 build_model() 함수를 호출하여 모델 객체를 생성하고, history 변수에 fit() 메서드의 반환값인 학습 이력(history)을 저장합니다. \n",
        "# 이때, 검증 데이터셋을 이용하여 검증 MAE 값을 계산하기 위해 validation_data 인자를 추가로 설정하였습니다. \n",
        "# 학습 과정에서 발생한 검증 MAE 값을 history.history[\"val_mae\"] 형태로 추출하여 mae_history 리스트에 추가합니다. \n",
        "# 이 과정을 k번 반복하면, 모든 검증 데이터셋에서 발생한 검증 MAE 값의 이력이 all_mae_histories 리스트에 저장됩니다."
      ]
    },
    {
      "cell_type": "markdown",
      "metadata": {
        "id": "z21cFN7ACRrm"
      },
      "source": [
        "**Building the history of successive mean K-fold validation scores**"
      ]
    },
    {
      "cell_type": "code",
      "execution_count": 67,
      "metadata": {
        "id": "G8XXaLnmCRrn"
      },
      "outputs": [],
      "source": [
        "average_mae_history = [\n",
        "    np.mean([x[i] for x in all_mae_histories]) for i in range(num_epochs)]\n",
        "\n",
        "# average_mae_history는 all_mae_histories에 저장된 각 fold의 검증 세트 mae 값을 평균내서 저장하는 리스트입니다.\n",
        "\n",
        "# all_mae_histories는 k-fold 교차 검증 시 각 fold에서 얻은 검증 세트 mae 값을 저장하는 리스트이며, 각 epoch 별로 저장됩니다.\n",
        "\n",
        "# 위 코드는 all_mae_histories에 저장된 리스트에서 같은 epoch 값에 해당하는 각 fold의 mae 값을 평균내서 average_mae_history 리스트에 저장하는 것입니다. \n",
        "# 이를 통해 k-fold 교차 검증에서 얻은 모든 fold의 성능 값을 평균낸 값을 epoch 별로 확인할 수 있습니다."
      ]
    },
    {
      "cell_type": "markdown",
      "metadata": {
        "id": "rANPgN4FCRrn"
      },
      "source": [
        "**Plotting validation scores**"
      ]
    },
    {
      "cell_type": "code",
      "execution_count": 68,
      "metadata": {
        "id": "ErsAppuzCRrn",
        "outputId": "59539398-ab0b-4546-86b9-3143de38a807",
        "colab": {
          "base_uri": "https://localhost:8080/",
          "height": 449
        }
      },
      "outputs": [
        {
          "output_type": "display_data",
          "data": {
            "text/plain": [
              "<Figure size 640x480 with 1 Axes>"
            ],
            "image/png": "[encoded data removed]"
          },
          "metadata": {}
        }
      ],
      "source": [
        "plt.plot(range(1, len(average_mae_history) + 1), average_mae_history)\n",
        "plt.xlabel(\"Epochs\")\n",
        "plt.ylabel(\"Validation MAE\")\n",
        "plt.show()"
      ]
    },
    {
      "cell_type": "markdown",
      "metadata": {
        "id": "_D-qX_s4CRrn"
      },
      "source": [
        "**Plotting validation scores, excluding the first 10 data points**"
      ]
    },
    {
      "cell_type": "code",
      "execution_count": 69,
      "metadata": {
        "id": "A1dP7pYsCRrn",
        "outputId": "428c7560-f58d-4b2d-b1ec-75666e404cc6",
        "colab": {
          "base_uri": "https://localhost:8080/",
          "height": 449
        }
      },
      "outputs": [
        {
          "output_type": "display_data",
          "data": {
            "text/plain": [
              "<Figure size 640x480 with 1 Axes>"
            ],
            "image/png": "[encoded data removed]"
          },
          "metadata": {}
        }
      ],
      "source": [
        "truncated_mae_history = average_mae_history[10:]\n",
        "plt.plot(range(1, len(truncated_mae_history) + 1), truncated_mae_history)\n",
        "plt.xlabel(\"Epochs\")\n",
        "plt.ylabel(\"Validation MAE\")\n",
        "plt.show()\n",
        "\n",
        "# 이 코드는 이전에 만들어진 4-겹 교차 검증을 바탕으로 각 epoch에 대한 평균 검증 MAE를 계산하고, 이를 그래프로 시각화합니다.\n",
        "\n",
        "# 첫째 줄에서는 평균 MAE를 저장할 리스트를 만듭니다. 리스트 내포를 사용하여 0~num_epochs 범위의 인덱스 i에 대해, \n",
        "# all_mae_histories 리스트 내 각 폴드의 i번째 요소들의 평균값을 average_mae_history 리스트에 저장합니다.\n",
        "\n",
        "# 둘째 줄에서는 앞에서 계산한 평균 MAE 리스트에서 처음 10개 값을 제외하고 truncated_mae_history 리스트에 저장합니다.\n",
        "\n",
        "# 셋째 줄에서는 그래프를 그리기 위해 Matplotlib 라이브러리를 사용합니다. \n",
        "# x축은 1부터 truncated_mae_history 리스트의 길이까지의 값으로 설정하고, y축은 평균 검증 MAE로 설정합니다. \n",
        "# 마지막으로 plt.show() 함수를 호출하여 그래프를 출력합니다."
      ]
    },
    {
      "cell_type": "markdown",
      "source": [
        "**각 포인트를 이전 포인트의 지수이동평균으로 대체**"
      ],
      "metadata": {
        "id": "ljmyj5Dd1IZO"
      }
    },
    {
      "cell_type": "code",
      "source": [
        "def smooth_curve(points,factor=0.9):\n",
        "  smoothed_points = []\n",
        "  for point in points:\n",
        "    if smoothed_points:\n",
        "      previous = smoothed_points[-1]\n",
        "      smoothed_points.append(previous * factor + point * (1-factor))\n",
        "    else:\n",
        "      smoothed_points.append(point)\n",
        "  return smoothed_points\n",
        "\n",
        "smooth_mae_history = smooth_curve(average_mae_history[10:])\n",
        "plt.plot(range(1,len(smooth_mae_history)+1),smooth_mae_history)\n",
        "plt.xlabel('Epochs')\n",
        "plt.ylabel('Validation MAE')\n",
        "plt.show()\n",
        "\n",
        "# 이 코드는 이전에 구한 validation MAE(평균 절대 오차)의 이동 평균을 계산하여 그래프로 시각화합니다.\n",
        "\n",
        "# 우선 smooth_curve 함수는 points 리스트의 값을 smoothing factor factor를 사용하여 이동 평균으로 smoothing한 값을 계산합니다.\n",
        "#  factor가 1에 가까울수록 smoothing 효과는 적고, 0에 가까울수록 smoothing 효과는 큽니다.\n",
        "\n",
        "# 이어서 average_mae_history에서 처음 10개의 값은 제외하고, 나머지 값들에 대해 smooth_curve 함수를 적용하여 smooth_mae_history를 구합니다.\n",
        "# 그리고 x축은 1부터 데이터 개수까지(epochs), y축은 smooth_mae_history의 값으로 지정하여 그래프를 출력합니다."
      ],
      "metadata": {
        "id": "2hR3yv2l07xJ",
        "outputId": "fd3c7005-82bc-4942-c524-033824f820f8",
        "colab": {
          "base_uri": "https://localhost:8080/",
          "height": 449
        }
      },
      "execution_count": 71,
      "outputs": [
        {
          "output_type": "display_data",
          "data": {
            "text/plain": [
              "<Figure size 640x480 with 1 Axes>"
            ],
            "image/png": "[encoded data removed]"
          },
          "metadata": {}
        }
      ]
    },
    {
      "cell_type": "markdown",
      "metadata": {
        "id": "KkpI9ce9CRro"
      },
      "source": [
        "**Training the final model**"
      ]
    },
    {
      "cell_type": "code",
      "execution_count": 72,
      "metadata": {
        "id": "XwjaaBv7CRro",
        "outputId": "26e751ba-c94d-4ee2-a3f3-b66108720683",
        "colab": {
          "base_uri": "https://localhost:8080/"
        }
      },
      "outputs": [
        {
          "output_type": "stream",
          "name": "stdout",
          "text": [
            "4/4 [==============================] - 0s 3ms/step - loss: 14.3358 - mae: 2.6888\n"
          ]
        }
      ],
      "source": [
        "model = build_model()\n",
        "model.fit(train_data, train_targets,\n",
        "          epochs=130, batch_size=16, verbose=0)\n",
        "test_mse_score, test_mae_score = model.evaluate(test_data, test_targets)\n",
        "\n",
        "# 위 코드는 이전에 구성한 모델을 사용하여 전체 train 데이터를 학습시킨 후, test 데이터에 대해 평가하는 코드입니다. \n",
        "# 모델 학습에는 130 epochs를 사용하고, batch size는 16으로 지정되었습니다. \n",
        "# 모델 평가 결과로 test 데이터에 대한 mse와 mae가 계산되고, 각각 test_mse_score와 test_mae_score 변수에 저장됩니다."
      ]
    },
    {
      "cell_type": "code",
      "execution_count": 73,
      "metadata": {
        "id": "iJkOL5yRCRro",
        "outputId": "90be1fd3-0894-4c80-9ced-8042a8ca6d72",
        "colab": {
          "base_uri": "https://localhost:8080/"
        }
      },
      "outputs": [
        {
          "output_type": "execute_result",
          "data": {
            "text/plain": [
              "2.688840866088867"
            ]
          },
          "metadata": {},
          "execution_count": 73
        }
      ],
      "source": [
        "test_mae_score"
      ]
    },
    {
      "cell_type": "markdown",
      "metadata": {
        "id": "T_h_UhYyCRro"
      },
      "source": [
        "### Generating predictions on new data"
      ]
    },
    {
      "cell_type": "code",
      "execution_count": 74,
      "metadata": {
        "id": "d9fFZpqhCRro",
        "outputId": "5598a628-fdfb-4aa9-c164-16f8e52397b1",
        "colab": {
          "base_uri": "https://localhost:8080/"
        }
      },
      "outputs": [
        {
          "output_type": "stream",
          "name": "stdout",
          "text": [
            "4/4 [==============================] - 0s 2ms/step\n"
          ]
        },
        {
          "output_type": "execute_result",
          "data": {
            "text/plain": [
              "array([9.7336235], dtype=float32)"
            ]
          },
          "metadata": {},
          "execution_count": 74
        }
      ],
      "source": [
        "predictions = model.predict(test_data)\n",
        "predictions[0]"
      ]
    },
    {
      "cell_type": "markdown",
      "metadata": {
        "id": "XKNEnR4-CRro"
      },
      "source": [
        "### Wrapping up"
      ]
    },
    {
      "cell_type": "markdown",
      "metadata": {
        "id": "Dcdib5aTCRrp"
      },
      "source": [
        "## Summary"
      ]
    },
    {
      "cell_type": "markdown",
      "source": [
        "#####가용한 데이터가 적다면 K-겹 검증을 사용하는 것이 신뢰할 수 있는 모델 평가 방법\n",
        "#####가용한 훈련데이터가 적다면 과대적합을 피하기 위해 은닉층의 수를 줄인 모델이 좋음(일반적으로 1개 또는 2개)\n",
        "#####MSE는 회귀에서 자주 사용되는 손실 함수\n",
        "#####정확도 개념은 회귀에서 적용 안 됨.일반적인 회귀 지표는 평균 절대 오차(MAE)\n",
        "#####입력 데이터의 특성이 서로 다른 범위를 가지면 전처리 단계에서 각 특성을 개별적으로 스케일 조정해야함"
      ],
      "metadata": {
        "id": "zab20CW33Msa"
      }
    }
  ],
  "metadata": {
    "colab": {
      "name": "chapter04_getting-started-with-neural-networks.i",
      "provenance": [],
      "toc_visible": true
    },
    "kernelspec": {
      "display_name": "Python 3",
      "language": "python",
      "name": "python3"
    },
    "language_info": {
      "codemirror_mode": {
        "name": "ipython",
        "version": 3
      },
      "file_extension": ".py",
      "mimetype": "text/x-python",
      "name": "python",
      "nbconvert_exporter": "python",
      "pygments_lexer": "ipython3",
      "version": "3.7.0"
    },
    "accelerator": "GPU",
    "gpuClass": "standard"
  },
  "nbformat": 4,
  "nbformat_minor": 0
}
