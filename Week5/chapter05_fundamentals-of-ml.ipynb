{
  "cells": [
    {
      "cell_type": "markdown",
      "metadata": {
        "id": "JeVPgH8Aur9N"
      },
      "source": [
        "This is a companion notebook for the book [Deep Learning with Python, Second Edition](https://www.manning.com/books/deep-learning-with-python-second-edition?a_aid=keras&a_bid=76564dff). For readability, it only contains runnable code blocks and section titles, and omits everything else in the book: text paragraphs, figures, and pseudocode.\n",
        "\n",
        "**If you want to be able to follow what's going on, I recommend reading the notebook side by side with your copy of the book.**\n",
        "\n",
        "This notebook was generated for TensorFlow 2.6."
      ]
    },
    {
      "cell_type": "markdown",
      "metadata": {
        "id": "kXrRbr5_ur9Q"
      },
      "source": [
        "# Fundamentals of machine learning"
      ]
    },
    {
      "cell_type": "markdown",
      "metadata": {
        "id": "9ZIW35csur9R"
      },
      "source": [
        "## Generalization: The goal of machine learning"
      ]
    },
    {
      "cell_type": "markdown",
      "metadata": {
        "id": "qh82XYgCur9R"
      },
      "source": [
        "### Underfitting and overfitting"
      ]
    },
    {
      "cell_type": "markdown",
      "metadata": {
        "id": "Kkf14C6yur9R"
      },
      "source": [
        "#### Noisy training data"
      ]
    },
    {
      "cell_type": "markdown",
      "metadata": {
        "id": "jsV28JwGur9S"
      },
      "source": [
        "#### Ambiguous features"
      ]
    },
    {
      "cell_type": "markdown",
      "metadata": {
        "id": "Gjc0mtLbur9S"
      },
      "source": [
        "#### Rare features and spurious correlations"
      ]
    },
    {
      "cell_type": "markdown",
      "metadata": {
        "id": "4qzoIclFur9T"
      },
      "source": [
        "**Adding white-noise channels or all-zeros channels to MNIST**"
      ]
    },
    {
      "cell_type": "code",
      "execution_count": 15,
      "metadata": {
        "id": "DlZLMQFWur9T"
      },
      "outputs": [],
      "source": [
        "from tensorflow.keras.datasets import mnist\n",
        "import numpy as np\n",
        "\n",
        "(train_images, train_labels), _ = mnist.load_data()\n",
        "train_images = train_images.reshape((60000, 28 * 28))\n",
        "train_images = train_images.astype(\"float32\") / 255\n",
        "\n",
        "train_images_with_noise_channels = np.concatenate(\n",
        "    [train_images, np.random.random((len(train_images), 784))], axis=1)\n",
        "\n",
        "train_images_with_zeros_channels = np.concatenate(\n",
        "    [train_images, np.zeros((len(train_images), 784))], axis=1)\n"
      ]
    },
    {
      "cell_type": "markdown",
      "metadata": {
        "id": "lt4XtbXDur9V"
      },
      "source": [
        "**Training the same model on MNIST data with noise channels or all-zero channels**"
      ]
    },
    {
      "cell_type": "code",
      "execution_count": 16,
      "metadata": {
        "id": "1nBM-gcgur9V",
        "outputId": "4fbbb390-92af-4d6a-c5c0-543d8222c858",
        "colab": {
          "base_uri": "https://localhost:8080/"
        }
      },
      "outputs": [
        {
          "output_type": "stream",
          "name": "stdout",
          "text": [
            "Epoch 1/10\n",
            "375/375 [==============================] - 3s 5ms/step - loss: 0.6293 - accuracy: 0.8104 - val_loss: 0.2721 - val_accuracy: 0.9209\n",
            "Epoch 2/10\n",
            "375/375 [==============================] - 1s 3ms/step - loss: 0.2588 - accuracy: 0.9192 - val_loss: 0.2273 - val_accuracy: 0.9336\n",
            "Epoch 3/10\n",
            "375/375 [==============================] - 1s 3ms/step - loss: 0.1693 - accuracy: 0.9484 - val_loss: 0.1748 - val_accuracy: 0.9475\n",
            "Epoch 4/10\n",
            "375/375 [==============================] - 1s 3ms/step - loss: 0.1213 - accuracy: 0.9615 - val_loss: 0.1419 - val_accuracy: 0.9594\n",
            "Epoch 5/10\n",
            "375/375 [==============================] - 1s 3ms/step - loss: 0.0893 - accuracy: 0.9717 - val_loss: 0.1201 - val_accuracy: 0.9638\n",
            "Epoch 6/10\n",
            "375/375 [==============================] - 1s 3ms/step - loss: 0.0640 - accuracy: 0.9800 - val_loss: 0.1182 - val_accuracy: 0.9649\n",
            "Epoch 7/10\n",
            "375/375 [==============================] - 1s 3ms/step - loss: 0.0488 - accuracy: 0.9853 - val_loss: 0.1192 - val_accuracy: 0.9664\n",
            "Epoch 8/10\n",
            "375/375 [==============================] - 1s 3ms/step - loss: 0.0356 - accuracy: 0.9883 - val_loss: 0.1552 - val_accuracy: 0.9576\n",
            "Epoch 9/10\n",
            "375/375 [==============================] - 1s 3ms/step - loss: 0.0259 - accuracy: 0.9919 - val_loss: 0.2102 - val_accuracy: 0.9448\n",
            "Epoch 10/10\n",
            "375/375 [==============================] - 2s 4ms/step - loss: 0.0178 - accuracy: 0.9946 - val_loss: 0.1352 - val_accuracy: 0.9641\n",
            "Epoch 1/10\n",
            "375/375 [==============================] - 2s 4ms/step - loss: 0.2962 - accuracy: 0.9141 - val_loss: 0.1440 - val_accuracy: 0.9589\n",
            "Epoch 2/10\n",
            "375/375 [==============================] - 1s 3ms/step - loss: 0.1257 - accuracy: 0.9628 - val_loss: 0.1080 - val_accuracy: 0.9669\n",
            "Epoch 3/10\n",
            "375/375 [==============================] - 1s 3ms/step - loss: 0.0836 - accuracy: 0.9759 - val_loss: 0.0915 - val_accuracy: 0.9732\n",
            "Epoch 4/10\n",
            "375/375 [==============================] - 1s 3ms/step - loss: 0.0608 - accuracy: 0.9818 - val_loss: 0.0836 - val_accuracy: 0.9754\n",
            "Epoch 5/10\n",
            "375/375 [==============================] - 1s 3ms/step - loss: 0.0447 - accuracy: 0.9871 - val_loss: 0.0815 - val_accuracy: 0.9764\n",
            "Epoch 6/10\n",
            "375/375 [==============================] - 1s 3ms/step - loss: 0.0344 - accuracy: 0.9904 - val_loss: 0.0730 - val_accuracy: 0.9787\n",
            "Epoch 7/10\n",
            "375/375 [==============================] - 1s 3ms/step - loss: 0.0264 - accuracy: 0.9926 - val_loss: 0.0807 - val_accuracy: 0.9762\n",
            "Epoch 8/10\n",
            "375/375 [==============================] - 1s 4ms/step - loss: 0.0196 - accuracy: 0.9947 - val_loss: 0.0814 - val_accuracy: 0.9778\n",
            "Epoch 9/10\n",
            "375/375 [==============================] - 2s 4ms/step - loss: 0.0155 - accuracy: 0.9959 - val_loss: 0.0756 - val_accuracy: 0.9797\n",
            "Epoch 10/10\n",
            "375/375 [==============================] - 1s 3ms/step - loss: 0.0109 - accuracy: 0.9975 - val_loss: 0.0799 - val_accuracy: 0.9794\n",
            "Epoch 1/10\n",
            "375/375 [==============================] - 2s 3ms/step - loss: 0.2959 - accuracy: 0.9134 - val_loss: 0.1530 - val_accuracy: 0.9559\n",
            "Epoch 2/10\n",
            "375/375 [==============================] - 1s 3ms/step - loss: 0.1233 - accuracy: 0.9636 - val_loss: 0.1035 - val_accuracy: 0.9703\n",
            "Epoch 3/10\n",
            "375/375 [==============================] - 1s 3ms/step - loss: 0.0800 - accuracy: 0.9766 - val_loss: 0.0940 - val_accuracy: 0.9729\n",
            "Epoch 4/10\n",
            "375/375 [==============================] - 1s 3ms/step - loss: 0.0583 - accuracy: 0.9830 - val_loss: 0.0915 - val_accuracy: 0.9738\n",
            "Epoch 5/10\n",
            "375/375 [==============================] - 1s 3ms/step - loss: 0.0427 - accuracy: 0.9876 - val_loss: 0.0811 - val_accuracy: 0.9772\n",
            "Epoch 6/10\n",
            "375/375 [==============================] - 1s 3ms/step - loss: 0.0326 - accuracy: 0.9912 - val_loss: 0.0749 - val_accuracy: 0.9771\n",
            "Epoch 7/10\n",
            "375/375 [==============================] - 1s 3ms/step - loss: 0.0239 - accuracy: 0.9931 - val_loss: 0.0842 - val_accuracy: 0.9753\n",
            "Epoch 8/10\n",
            "375/375 [==============================] - 2s 4ms/step - loss: 0.0175 - accuracy: 0.9954 - val_loss: 0.0715 - val_accuracy: 0.9801\n",
            "Epoch 9/10\n",
            "375/375 [==============================] - 1s 3ms/step - loss: 0.0138 - accuracy: 0.9965 - val_loss: 0.0724 - val_accuracy: 0.9792\n",
            "Epoch 10/10\n",
            "375/375 [==============================] - 1s 3ms/step - loss: 0.0098 - accuracy: 0.9978 - val_loss: 0.0738 - val_accuracy: 0.9803\n"
          ]
        }
      ],
      "source": [
        "from tensorflow import keras\n",
        "from tensorflow.keras import layers\n",
        "\n",
        "def get_model():\n",
        "    model = keras.Sequential([\n",
        "        layers.Dense(512, activation=\"relu\"),\n",
        "        layers.Dense(10, activation=\"softmax\")\n",
        "    ])\n",
        "    model.compile(optimizer=\"rmsprop\",\n",
        "                  loss=\"sparse_categorical_crossentropy\",\n",
        "                  metrics=[\"accuracy\"])\n",
        "    return model\n",
        "\n",
        "model = get_model()\n",
        "history_noise = model.fit(\n",
        "    train_images_with_noise_channels, train_labels,\n",
        "    epochs=10,\n",
        "    batch_size=128,\n",
        "    validation_split=0.2)\n",
        "\n",
        "model = get_model()\n",
        "history_zeros = model.fit(\n",
        "    train_images_with_zeros_channels, train_labels,\n",
        "    epochs=10,\n",
        "    batch_size=128,\n",
        "    validation_split=0.2)\n",
        "\n",
        "\n",
        "# 1-1\n",
        "model = get_model()\n",
        "history_original = model.fit(\n",
        "    train_images, train_labels,\n",
        "    epochs=10,\n",
        "    batch_size=128,\n",
        "    validation_split=0.2)\n"
      ]
    },
    {
      "cell_type": "markdown",
      "metadata": {
        "id": "KAiyFgZHur9W"
      },
      "source": [
        "**Plotting a validation accuracy comparison**"
      ]
    },
    {
      "cell_type": "code",
      "execution_count": 19,
      "metadata": {
        "id": "EULe9WtIur9W",
        "outputId": "a457e41f-acd6-407c-f2f0-09486398acb5",
        "colab": {
          "base_uri": "https://localhost:8080/",
          "height": 490
        }
      },
      "outputs": [
        {
          "output_type": "execute_result",
          "data": {
            "text/plain": [
              "<matplotlib.legend.Legend at 0x7fbf6ce2cdc0>"
            ]
          },
          "metadata": {},
          "execution_count": 19
        },
        {
          "output_type": "display_data",
          "data": {
            "text/plain": [
              "<Figure size 640x480 with 1 Axes>"
            ],
            "image/png": "[encoded data removed]"
          },
          "metadata": {}
        }
      ],
      "source": [
        "import matplotlib.pyplot as plt\n",
        "val_acc_noise = history_noise.history[\"val_accuracy\"]\n",
        "val_acc_zeros = history_zeros.history[\"val_accuracy\"]\n",
        "val_acc_original = history_original.history['val_accuracy']\n",
        "epochs = range(1, 11)\n",
        "plt.plot(epochs, val_acc_noise, \"b-\",\n",
        "         label=\"Validation accuracy with noise channels\")\n",
        "plt.plot(epochs, val_acc_zeros, \"b--\",\n",
        "         label=\"Validation accuracy with zeros channels\")\n",
        "plt.plot(epochs, val_acc_original, \"r--\",\n",
        "         label=\"Validation accuracy with original channels\")\n",
        "plt.title(\"Effect of noise channels on validation accuracy\")\n",
        "plt.xlabel(\"Epochs\")\n",
        "plt.ylabel(\"Accuracy\")\n",
        "plt.legend()"
      ]
    },
    {
      "cell_type": "markdown",
      "metadata": {
        "id": "_pSfH65Qur9X"
      },
      "source": [
        "### The nature of generalization in deep learning"
      ]
    },
    {
      "cell_type": "markdown",
      "metadata": {
        "id": "iPYvxdRSur9X"
      },
      "source": [
        "**Fitting a MNIST model with randomly shuffled labels**"
      ]
    },
    {
      "cell_type": "code",
      "execution_count": 23,
      "metadata": {
        "id": "7UXAQEVTur9X",
        "outputId": "d89e74dd-80d2-4dff-9cfe-11902abc5ec7",
        "colab": {
          "base_uri": "https://localhost:8080/",
          "height": 1000
        }
      },
      "outputs": [
        {
          "output_type": "stream",
          "name": "stdout",
          "text": [
            "Epoch 1/100\n",
            "375/375 [==============================] - 3s 5ms/step - loss: 2.3155 - accuracy: 0.1005 - val_loss: 2.3027 - val_accuracy: 0.1082\n",
            "Epoch 2/100\n",
            "375/375 [==============================] - 1s 3ms/step - loss: 2.2992 - accuracy: 0.1148 - val_loss: 2.3073 - val_accuracy: 0.1064\n",
            "Epoch 3/100\n",
            "375/375 [==============================] - 1s 3ms/step - loss: 2.2918 - accuracy: 0.1256 - val_loss: 2.3175 - val_accuracy: 0.1060\n",
            "Epoch 4/100\n",
            "375/375 [==============================] - 1s 3ms/step - loss: 2.2798 - accuracy: 0.1385 - val_loss: 2.3210 - val_accuracy: 0.1032\n",
            "Epoch 5/100\n",
            "375/375 [==============================] - 1s 3ms/step - loss: 2.2643 - accuracy: 0.1513 - val_loss: 2.3322 - val_accuracy: 0.1042\n",
            "Epoch 6/100\n",
            "375/375 [==============================] - 1s 3ms/step - loss: 2.2471 - accuracy: 0.1625 - val_loss: 2.3442 - val_accuracy: 0.1023\n",
            "Epoch 7/100\n",
            "375/375 [==============================] - 1s 3ms/step - loss: 2.2237 - accuracy: 0.1772 - val_loss: 2.3596 - val_accuracy: 0.0969\n",
            "Epoch 8/100\n",
            "375/375 [==============================] - 1s 3ms/step - loss: 2.1980 - accuracy: 0.1934 - val_loss: 2.3729 - val_accuracy: 0.1000\n",
            "Epoch 9/100\n",
            "375/375 [==============================] - 1s 3ms/step - loss: 2.1693 - accuracy: 0.2076 - val_loss: 2.3907 - val_accuracy: 0.0997\n",
            "Epoch 10/100\n",
            "375/375 [==============================] - 1s 4ms/step - loss: 2.1362 - accuracy: 0.2248 - val_loss: 2.4119 - val_accuracy: 0.1047\n",
            "Epoch 11/100\n",
            "375/375 [==============================] - 1s 4ms/step - loss: 2.1025 - accuracy: 0.2420 - val_loss: 2.4533 - val_accuracy: 0.1031\n",
            "Epoch 12/100\n",
            "375/375 [==============================] - 1s 3ms/step - loss: 2.0694 - accuracy: 0.2592 - val_loss: 2.4666 - val_accuracy: 0.1018\n",
            "Epoch 13/100\n",
            "375/375 [==============================] - 1s 3ms/step - loss: 2.0320 - accuracy: 0.2736 - val_loss: 2.4897 - val_accuracy: 0.0994\n",
            "Epoch 14/100\n",
            "375/375 [==============================] - 1s 3ms/step - loss: 1.9926 - accuracy: 0.2920 - val_loss: 2.5210 - val_accuracy: 0.1016\n",
            "Epoch 15/100\n",
            "375/375 [==============================] - 1s 3ms/step - loss: 1.9555 - accuracy: 0.3098 - val_loss: 2.5589 - val_accuracy: 0.0998\n",
            "Epoch 16/100\n",
            "375/375 [==============================] - 1s 3ms/step - loss: 1.9158 - accuracy: 0.3276 - val_loss: 2.6047 - val_accuracy: 0.1015\n",
            "Epoch 17/100\n",
            "375/375 [==============================] - 1s 3ms/step - loss: 1.8779 - accuracy: 0.3409 - val_loss: 2.6391 - val_accuracy: 0.0951\n",
            "Epoch 18/100\n",
            "375/375 [==============================] - 1s 3ms/step - loss: 1.8380 - accuracy: 0.3577 - val_loss: 2.6617 - val_accuracy: 0.1019\n",
            "Epoch 19/100\n",
            "375/375 [==============================] - 1s 3ms/step - loss: 1.8016 - accuracy: 0.3701 - val_loss: 2.6996 - val_accuracy: 0.1016\n",
            "Epoch 20/100\n",
            "375/375 [==============================] - 1s 4ms/step - loss: 1.7621 - accuracy: 0.3863 - val_loss: 2.7369 - val_accuracy: 0.1014\n",
            "Epoch 21/100\n",
            "375/375 [==============================] - 1s 4ms/step - loss: 1.7269 - accuracy: 0.4005 - val_loss: 2.7747 - val_accuracy: 0.0988\n",
            "Epoch 22/100\n",
            "375/375 [==============================] - 1s 3ms/step - loss: 1.6901 - accuracy: 0.4150 - val_loss: 2.8164 - val_accuracy: 0.0991\n",
            "Epoch 23/100\n",
            "375/375 [==============================] - 1s 3ms/step - loss: 1.6532 - accuracy: 0.4320 - val_loss: 2.8566 - val_accuracy: 0.0987\n",
            "Epoch 24/100\n",
            "375/375 [==============================] - 1s 3ms/step - loss: 1.6157 - accuracy: 0.4444 - val_loss: 2.8980 - val_accuracy: 0.0983\n",
            "Epoch 25/100\n",
            "375/375 [==============================] - 1s 3ms/step - loss: 1.5834 - accuracy: 0.4578 - val_loss: 2.9361 - val_accuracy: 0.0962\n",
            "Epoch 26/100\n",
            "375/375 [==============================] - 1s 3ms/step - loss: 1.5499 - accuracy: 0.4673 - val_loss: 2.9989 - val_accuracy: 0.0994\n",
            "Epoch 27/100\n",
            "375/375 [==============================] - 1s 3ms/step - loss: 1.5175 - accuracy: 0.4801 - val_loss: 3.0534 - val_accuracy: 0.1033\n",
            "Epoch 28/100\n",
            "375/375 [==============================] - 1s 3ms/step - loss: 1.4829 - accuracy: 0.4918 - val_loss: 3.0788 - val_accuracy: 0.1000\n",
            "Epoch 29/100\n",
            "375/375 [==============================] - 1s 3ms/step - loss: 1.4517 - accuracy: 0.5050 - val_loss: 3.1321 - val_accuracy: 0.1019\n",
            "Epoch 30/100\n",
            "375/375 [==============================] - 1s 4ms/step - loss: 1.4198 - accuracy: 0.5180 - val_loss: 3.1844 - val_accuracy: 0.1001\n",
            "Epoch 31/100\n",
            "375/375 [==============================] - 2s 4ms/step - loss: 1.3900 - accuracy: 0.5289 - val_loss: 3.2402 - val_accuracy: 0.0979\n",
            "Epoch 32/100\n",
            "375/375 [==============================] - 1s 3ms/step - loss: 1.3607 - accuracy: 0.5386 - val_loss: 3.2895 - val_accuracy: 0.1047\n",
            "Epoch 33/100\n",
            "375/375 [==============================] - 1s 3ms/step - loss: 1.3307 - accuracy: 0.5490 - val_loss: 3.3392 - val_accuracy: 0.0996\n",
            "Epoch 34/100\n",
            "375/375 [==============================] - 1s 3ms/step - loss: 1.3023 - accuracy: 0.5600 - val_loss: 3.3794 - val_accuracy: 0.0974\n",
            "Epoch 35/100\n",
            "375/375 [==============================] - 1s 3ms/step - loss: 1.2778 - accuracy: 0.5716 - val_loss: 3.4378 - val_accuracy: 0.0986\n",
            "Epoch 36/100\n",
            "375/375 [==============================] - 1s 3ms/step - loss: 1.2518 - accuracy: 0.5815 - val_loss: 3.4939 - val_accuracy: 0.0996\n",
            "Epoch 37/100\n",
            "375/375 [==============================] - 1s 3ms/step - loss: 1.2225 - accuracy: 0.5880 - val_loss: 3.5565 - val_accuracy: 0.0953\n",
            "Epoch 38/100\n",
            "375/375 [==============================] - 1s 3ms/step - loss: 1.1990 - accuracy: 0.5969 - val_loss: 3.6117 - val_accuracy: 0.1022\n",
            "Epoch 39/100\n",
            "375/375 [==============================] - 1s 3ms/step - loss: 1.1726 - accuracy: 0.6077 - val_loss: 3.6926 - val_accuracy: 0.0978\n",
            "Epoch 40/100\n",
            "375/375 [==============================] - 1s 4ms/step - loss: 1.1495 - accuracy: 0.6136 - val_loss: 3.7131 - val_accuracy: 0.0984\n",
            "Epoch 41/100\n",
            "375/375 [==============================] - 1s 4ms/step - loss: 1.1262 - accuracy: 0.6235 - val_loss: 3.8225 - val_accuracy: 0.1002\n",
            "Epoch 42/100\n",
            "375/375 [==============================] - 1s 3ms/step - loss: 1.1023 - accuracy: 0.6317 - val_loss: 3.8330 - val_accuracy: 0.0997\n",
            "Epoch 43/100\n",
            "375/375 [==============================] - 1s 3ms/step - loss: 1.0828 - accuracy: 0.6381 - val_loss: 3.9080 - val_accuracy: 0.0981\n",
            "Epoch 44/100\n",
            "375/375 [==============================] - 1s 3ms/step - loss: 1.0586 - accuracy: 0.6494 - val_loss: 3.9675 - val_accuracy: 0.0980\n",
            "Epoch 45/100\n",
            "375/375 [==============================] - 1s 3ms/step - loss: 1.0368 - accuracy: 0.6540 - val_loss: 4.0232 - val_accuracy: 0.0985\n",
            "Epoch 46/100\n",
            "375/375 [==============================] - 1s 3ms/step - loss: 1.0147 - accuracy: 0.6650 - val_loss: 4.0564 - val_accuracy: 0.0993\n",
            "Epoch 47/100\n",
            "375/375 [==============================] - 1s 3ms/step - loss: 0.9951 - accuracy: 0.6703 - val_loss: 4.1351 - val_accuracy: 0.0967\n",
            "Epoch 48/100\n",
            "375/375 [==============================] - 1s 3ms/step - loss: 0.9726 - accuracy: 0.6792 - val_loss: 4.2220 - val_accuracy: 0.0951\n",
            "Epoch 49/100\n",
            "375/375 [==============================] - 1s 3ms/step - loss: 0.9552 - accuracy: 0.6852 - val_loss: 4.2895 - val_accuracy: 0.0993\n",
            "Epoch 50/100\n",
            "375/375 [==============================] - 1s 4ms/step - loss: 0.9371 - accuracy: 0.6917 - val_loss: 4.3532 - val_accuracy: 0.0968\n",
            "Epoch 51/100\n",
            "375/375 [==============================] - 1s 4ms/step - loss: 0.9161 - accuracy: 0.7000 - val_loss: 4.3993 - val_accuracy: 0.0983\n",
            "Epoch 52/100\n",
            "375/375 [==============================] - 1s 3ms/step - loss: 0.8979 - accuracy: 0.7061 - val_loss: 4.4621 - val_accuracy: 0.0947\n",
            "Epoch 53/100\n",
            "375/375 [==============================] - 1s 3ms/step - loss: 0.8798 - accuracy: 0.7129 - val_loss: 4.5518 - val_accuracy: 0.0997\n",
            "Epoch 54/100\n",
            "375/375 [==============================] - 1s 3ms/step - loss: 0.8625 - accuracy: 0.7185 - val_loss: 4.6237 - val_accuracy: 0.0959\n",
            "Epoch 55/100\n",
            "375/375 [==============================] - 1s 3ms/step - loss: 0.8461 - accuracy: 0.7219 - val_loss: 4.6583 - val_accuracy: 0.0965\n",
            "Epoch 56/100\n",
            "375/375 [==============================] - 1s 3ms/step - loss: 0.8281 - accuracy: 0.7317 - val_loss: 4.7362 - val_accuracy: 0.0967\n",
            "Epoch 57/100\n",
            "375/375 [==============================] - 1s 3ms/step - loss: 0.8111 - accuracy: 0.7370 - val_loss: 4.8154 - val_accuracy: 0.0984\n",
            "Epoch 58/100\n",
            "375/375 [==============================] - 1s 3ms/step - loss: 0.7975 - accuracy: 0.7381 - val_loss: 4.8464 - val_accuracy: 0.0995\n",
            "Epoch 59/100\n",
            "375/375 [==============================] - 1s 3ms/step - loss: 0.7819 - accuracy: 0.7446 - val_loss: 4.9118 - val_accuracy: 0.0980\n",
            "Epoch 60/100\n",
            "375/375 [==============================] - 2s 4ms/step - loss: 0.7665 - accuracy: 0.7518 - val_loss: 4.9915 - val_accuracy: 0.0977\n",
            "Epoch 61/100\n",
            "375/375 [==============================] - 1s 3ms/step - loss: 0.7498 - accuracy: 0.7561 - val_loss: 5.0913 - val_accuracy: 0.0978\n",
            "Epoch 62/100\n",
            "375/375 [==============================] - 1s 3ms/step - loss: 0.7380 - accuracy: 0.7600 - val_loss: 5.1130 - val_accuracy: 0.0972\n",
            "Epoch 63/100\n",
            "375/375 [==============================] - 1s 3ms/step - loss: 0.7214 - accuracy: 0.7675 - val_loss: 5.2440 - val_accuracy: 0.0966\n",
            "Epoch 64/100\n",
            "375/375 [==============================] - 1s 3ms/step - loss: 0.7082 - accuracy: 0.7710 - val_loss: 5.2793 - val_accuracy: 0.1007\n",
            "Epoch 65/100\n",
            "375/375 [==============================] - 1s 3ms/step - loss: 0.6927 - accuracy: 0.7757 - val_loss: 5.3326 - val_accuracy: 0.1005\n",
            "Epoch 66/100\n",
            "375/375 [==============================] - 1s 3ms/step - loss: 0.6791 - accuracy: 0.7814 - val_loss: 5.4547 - val_accuracy: 0.0997\n",
            "Epoch 67/100\n",
            "375/375 [==============================] - 1s 3ms/step - loss: 0.6690 - accuracy: 0.7846 - val_loss: 5.5127 - val_accuracy: 0.0986\n",
            "Epoch 68/100\n",
            "375/375 [==============================] - 1s 3ms/step - loss: 0.6544 - accuracy: 0.7907 - val_loss: 5.5513 - val_accuracy: 0.0982\n",
            "Epoch 69/100\n",
            "375/375 [==============================] - 1s 3ms/step - loss: 0.6414 - accuracy: 0.7937 - val_loss: 5.6495 - val_accuracy: 0.0994\n",
            "Epoch 70/100\n",
            "375/375 [==============================] - 2s 4ms/step - loss: 0.6296 - accuracy: 0.7985 - val_loss: 5.7276 - val_accuracy: 0.0976\n",
            "Epoch 71/100\n",
            "375/375 [==============================] - 1s 3ms/step - loss: 0.6171 - accuracy: 0.8034 - val_loss: 5.8087 - val_accuracy: 0.0945\n",
            "Epoch 72/100\n",
            "375/375 [==============================] - 1s 3ms/step - loss: 0.6047 - accuracy: 0.8062 - val_loss: 5.8448 - val_accuracy: 0.0973\n",
            "Epoch 73/100\n",
            "375/375 [==============================] - 1s 3ms/step - loss: 0.5950 - accuracy: 0.8108 - val_loss: 5.8868 - val_accuracy: 0.0971\n",
            "Epoch 74/100\n",
            "375/375 [==============================] - 1s 3ms/step - loss: 0.5821 - accuracy: 0.8150 - val_loss: 6.0251 - val_accuracy: 0.0985\n",
            "Epoch 75/100\n",
            "375/375 [==============================] - 1s 3ms/step - loss: 0.5721 - accuracy: 0.8183 - val_loss: 6.0742 - val_accuracy: 0.0989\n",
            "Epoch 76/100\n",
            "375/375 [==============================] - 1s 3ms/step - loss: 0.5610 - accuracy: 0.8227 - val_loss: 6.2009 - val_accuracy: 0.0951\n",
            "Epoch 77/100\n",
            "375/375 [==============================] - 1s 3ms/step - loss: 0.5507 - accuracy: 0.8245 - val_loss: 6.1734 - val_accuracy: 0.0984\n",
            "Epoch 78/100\n",
            "375/375 [==============================] - 1s 3ms/step - loss: 0.5384 - accuracy: 0.8286 - val_loss: 6.2507 - val_accuracy: 0.0965\n",
            "Epoch 79/100\n",
            "375/375 [==============================] - 1s 4ms/step - loss: 0.5307 - accuracy: 0.8315 - val_loss: 6.3651 - val_accuracy: 0.0977\n",
            "Epoch 80/100\n",
            "375/375 [==============================] - 2s 4ms/step - loss: 0.5211 - accuracy: 0.8348 - val_loss: 6.4302 - val_accuracy: 0.0961\n",
            "Epoch 81/100\n",
            "375/375 [==============================] - 1s 3ms/step - loss: 0.5109 - accuracy: 0.8385 - val_loss: 6.4890 - val_accuracy: 0.0993\n",
            "Epoch 82/100\n",
            "375/375 [==============================] - 1s 3ms/step - loss: 0.4994 - accuracy: 0.8428 - val_loss: 6.5996 - val_accuracy: 0.0955\n",
            "Epoch 83/100\n",
            "375/375 [==============================] - 1s 3ms/step - loss: 0.4933 - accuracy: 0.8428 - val_loss: 6.6469 - val_accuracy: 0.0955\n",
            "Epoch 84/100\n",
            "375/375 [==============================] - 1s 3ms/step - loss: 0.4820 - accuracy: 0.8494 - val_loss: 6.7200 - val_accuracy: 0.0985\n",
            "Epoch 85/100\n",
            "375/375 [==============================] - 1s 3ms/step - loss: 0.4730 - accuracy: 0.8528 - val_loss: 6.8076 - val_accuracy: 0.0997\n",
            "Epoch 86/100\n",
            "375/375 [==============================] - 1s 3ms/step - loss: 0.4663 - accuracy: 0.8544 - val_loss: 6.8524 - val_accuracy: 0.0958\n",
            "Epoch 87/100\n",
            "375/375 [==============================] - 1s 3ms/step - loss: 0.4560 - accuracy: 0.8587 - val_loss: 6.9558 - val_accuracy: 0.0982\n",
            "Epoch 88/100\n",
            "375/375 [==============================] - 1s 3ms/step - loss: 0.4485 - accuracy: 0.8604 - val_loss: 7.0041 - val_accuracy: 0.0978\n",
            "Epoch 89/100\n",
            "375/375 [==============================] - 1s 4ms/step - loss: 0.4395 - accuracy: 0.8623 - val_loss: 7.0351 - val_accuracy: 0.0998\n",
            "Epoch 90/100\n",
            "375/375 [==============================] - 2s 4ms/step - loss: 0.4315 - accuracy: 0.8665 - val_loss: 7.1815 - val_accuracy: 0.0967\n",
            "Epoch 91/100\n",
            "375/375 [==============================] - 1s 3ms/step - loss: 0.4247 - accuracy: 0.8677 - val_loss: 7.2688 - val_accuracy: 0.0979\n",
            "Epoch 92/100\n",
            "375/375 [==============================] - 1s 3ms/step - loss: 0.4186 - accuracy: 0.8699 - val_loss: 7.2890 - val_accuracy: 0.0967\n",
            "Epoch 93/100\n",
            "375/375 [==============================] - 1s 3ms/step - loss: 0.4105 - accuracy: 0.8727 - val_loss: 7.4164 - val_accuracy: 0.0970\n",
            "Epoch 94/100\n",
            "375/375 [==============================] - 1s 3ms/step - loss: 0.4006 - accuracy: 0.8752 - val_loss: 7.4809 - val_accuracy: 0.0969\n",
            "Epoch 95/100\n",
            "375/375 [==============================] - 1s 3ms/step - loss: 0.3961 - accuracy: 0.8763 - val_loss: 7.5411 - val_accuracy: 0.0953\n",
            "Epoch 96/100\n",
            "375/375 [==============================] - 1s 3ms/step - loss: 0.3893 - accuracy: 0.8802 - val_loss: 7.5830 - val_accuracy: 0.0967\n",
            "Epoch 97/100\n",
            "375/375 [==============================] - 1s 3ms/step - loss: 0.3808 - accuracy: 0.8818 - val_loss: 7.6360 - val_accuracy: 0.0993\n",
            "Epoch 98/100\n",
            "375/375 [==============================] - 1s 3ms/step - loss: 0.3764 - accuracy: 0.8846 - val_loss: 7.7933 - val_accuracy: 0.0978\n",
            "Epoch 99/100\n",
            "375/375 [==============================] - 1s 4ms/step - loss: 0.3689 - accuracy: 0.8878 - val_loss: 7.8578 - val_accuracy: 0.0980\n",
            "Epoch 100/100\n",
            "375/375 [==============================] - 1s 4ms/step - loss: 0.3605 - accuracy: 0.8884 - val_loss: 7.8989 - val_accuracy: 0.0983\n"
          ]
        },
        {
          "output_type": "display_data",
          "data": {
            "text/plain": [
              "<Figure size 640x480 with 1 Axes>"
            ],
            "image/png": "[encoded data removed]"
          },
          "metadata": {}
        }
      ],
      "source": [
        "# 1-2\n",
        "(train_images, train_labels), _ = mnist.load_data()\n",
        "train_images = train_images.reshape((60000, 28 * 28))\n",
        "train_images = train_images.astype(\"float32\") / 255\n",
        "\n",
        "random_train_labels = train_labels[:]\n",
        "np.random.shuffle(random_train_labels)\n",
        "\n",
        "model = keras.Sequential([\n",
        "    layers.Dense(512, activation=\"relu\"),\n",
        "    layers.Dense(10, activation=\"softmax\")\n",
        "])\n",
        "model.compile(optimizer=\"rmsprop\",\n",
        "              loss=\"sparse_categorical_crossentropy\",\n",
        "              metrics=[\"accuracy\"])\n",
        "\n",
        "\n",
        "history = model.fit(train_images, random_train_labels,\n",
        "                    epochs=100,\n",
        "                    batch_size=128,\n",
        "                    validation_split=0.2)\n",
        "\n",
        "train_acc = history.history['accuracy']\n",
        "val_acc = history.history['val_accuracy']\n",
        "epochs = range(1, len(train_acc) + 1)\n",
        "\n",
        "plt.plot(epochs, train_acc, 'r--', label='Training accuracy with shuffled data')\n",
        "plt.plot(epochs, val_acc, 'b', label='Validation accuracy with shuffled data')\n",
        "plt.title('Training and validation accuracy')\n",
        "plt.xlabel('Epochs')\n",
        "plt.ylabel('Accuracy')\n",
        "plt.legend()\n",
        "plt.show()"
      ]
    },
    {
      "cell_type": "markdown",
      "metadata": {
        "id": "-k65TsXZur9Y"
      },
      "source": [
        "#### The manifold hypothesis"
      ]
    },
    {
      "cell_type": "markdown",
      "metadata": {
        "id": "5JL8YY1Fur9Y"
      },
      "source": [
        "#### Interpolation as a source of generalization"
      ]
    },
    {
      "cell_type": "markdown",
      "metadata": {
        "id": "kxgeIZB6ur9Z"
      },
      "source": [
        "#### Why deep learning works"
      ]
    },
    {
      "cell_type": "markdown",
      "metadata": {
        "id": "icuZOtVeur9Z"
      },
      "source": [
        "#### Training data is paramount"
      ]
    },
    {
      "cell_type": "markdown",
      "metadata": {
        "id": "rPXAcjr1ur9Z"
      },
      "source": [
        "## Evaluating machine-learning models"
      ]
    },
    {
      "cell_type": "markdown",
      "metadata": {
        "id": "V-Cgt_Ejur9a"
      },
      "source": [
        "### Training, validation, and test sets"
      ]
    },
    {
      "cell_type": "markdown",
      "metadata": {
        "id": "TKqJt3l7ur9a"
      },
      "source": [
        "#### Simple hold-out validation"
      ]
    },
    {
      "cell_type": "markdown",
      "metadata": {
        "id": "j_q6qluRur9a"
      },
      "source": [
        "#### K-fold validation"
      ]
    },
    {
      "cell_type": "markdown",
      "metadata": {
        "id": "PofTpYXwur9a"
      },
      "source": [
        "#### Iterated K-fold validation with shuffling"
      ]
    },
    {
      "cell_type": "markdown",
      "metadata": {
        "id": "1njcAE_fur9b"
      },
      "source": [
        "### Beating a common-sense baseline"
      ]
    },
    {
      "cell_type": "markdown",
      "metadata": {
        "id": "H6UKqnC9ur9b"
      },
      "source": [
        "### Things to keep in mind about model evaluation"
      ]
    },
    {
      "cell_type": "markdown",
      "metadata": {
        "id": "pOqAJOLmur9b"
      },
      "source": [
        "## Improving model fit"
      ]
    },
    {
      "cell_type": "markdown",
      "metadata": {
        "id": "Dw3rXHsqur9b"
      },
      "source": [
        "### Tuning key gradient descent parameters"
      ]
    },
    {
      "cell_type": "markdown",
      "metadata": {
        "id": "FH2E4ziGur9b"
      },
      "source": [
        "**Training a MNIST model with an incorrectly high learning rate**"
      ]
    },
    {
      "cell_type": "code",
      "execution_count": 24,
      "metadata": {
        "id": "0Nev9tDour9b",
        "outputId": "f2b3d4f9-58a0-4dde-bc66-f958420790bb",
        "colab": {
          "base_uri": "https://localhost:8080/"
        }
      },
      "outputs": [
        {
          "output_type": "stream",
          "name": "stdout",
          "text": [
            "Epoch 1/10\n",
            "375/375 [==============================] - 2s 4ms/step - loss: 746.8536 - accuracy: 0.2878 - val_loss: 5.4196 - val_accuracy: 0.2418\n",
            "Epoch 2/10\n",
            "375/375 [==============================] - 1s 4ms/step - loss: 2.7093 - accuracy: 0.1858 - val_loss: 2.5971 - val_accuracy: 0.2347\n",
            "Epoch 3/10\n",
            "375/375 [==============================] - 1s 4ms/step - loss: 2.6681 - accuracy: 0.2090 - val_loss: 2.3319 - val_accuracy: 0.1518\n",
            "Epoch 4/10\n",
            "375/375 [==============================] - 1s 4ms/step - loss: 2.7217 - accuracy: 0.2316 - val_loss: 2.1577 - val_accuracy: 0.1998\n",
            "Epoch 5/10\n",
            "375/375 [==============================] - 2s 5ms/step - loss: 2.4688 - accuracy: 0.2081 - val_loss: 2.5640 - val_accuracy: 0.2632\n",
            "Epoch 6/10\n",
            "375/375 [==============================] - 1s 4ms/step - loss: 2.6619 - accuracy: 0.2170 - val_loss: 2.1624 - val_accuracy: 0.1728\n",
            "Epoch 7/10\n",
            "375/375 [==============================] - 1s 4ms/step - loss: 2.4203 - accuracy: 0.2225 - val_loss: 2.2854 - val_accuracy: 0.2108\n",
            "Epoch 8/10\n",
            "375/375 [==============================] - 1s 4ms/step - loss: 3.3638 - accuracy: 0.2124 - val_loss: 2.0889 - val_accuracy: 0.2518\n",
            "Epoch 9/10\n",
            "375/375 [==============================] - 1s 3ms/step - loss: 2.4218 - accuracy: 0.2198 - val_loss: 2.0971 - val_accuracy: 0.2578\n",
            "Epoch 10/10\n",
            "375/375 [==============================] - 1s 3ms/step - loss: 2.3810 - accuracy: 0.2301 - val_loss: 2.1751 - val_accuracy: 0.2323\n"
          ]
        },
        {
          "output_type": "execute_result",
          "data": {
            "text/plain": [
              "<keras.callbacks.History at 0x7fbf63a85f10>"
            ]
          },
          "metadata": {},
          "execution_count": 24
        }
      ],
      "source": [
        "(train_images, train_labels), _ = mnist.load_data()\n",
        "train_images = train_images.reshape((60000, 28 * 28))\n",
        "train_images = train_images.astype(\"float32\") / 255\n",
        "\n",
        "model = keras.Sequential([\n",
        "    layers.Dense(512, activation=\"relu\"),\n",
        "    layers.Dense(10, activation=\"softmax\")\n",
        "])\n",
        "model.compile(optimizer=keras.optimizers.RMSprop(1.),\n",
        "              loss=\"sparse_categorical_crossentropy\",\n",
        "              metrics=[\"accuracy\"])\n",
        "model.fit(train_images, train_labels,\n",
        "          epochs=10,\n",
        "          batch_size=128,\n",
        "          validation_split=0.2)"
      ]
    },
    {
      "cell_type": "markdown",
      "metadata": {
        "id": "lWMiQM5fur9c"
      },
      "source": [
        "**The same model with a more appropriate learning rate**"
      ]
    },
    {
      "cell_type": "code",
      "execution_count": 25,
      "metadata": {
        "id": "AsmopcSlur9c",
        "outputId": "292aa3cb-1fba-4b08-dd9b-9de6b8eced98",
        "colab": {
          "base_uri": "https://localhost:8080/"
        }
      },
      "outputs": [
        {
          "output_type": "stream",
          "name": "stdout",
          "text": [
            "Epoch 1/10\n",
            "375/375 [==============================] - 2s 4ms/step - loss: 1.9184 - accuracy: 0.4876 - val_loss: 1.5533 - val_accuracy: 0.7147\n",
            "Epoch 2/10\n",
            "375/375 [==============================] - 1s 3ms/step - loss: 1.2967 - accuracy: 0.7696 - val_loss: 1.0394 - val_accuracy: 0.8261\n",
            "Epoch 3/10\n",
            "375/375 [==============================] - 1s 3ms/step - loss: 0.9093 - accuracy: 0.8273 - val_loss: 0.7487 - val_accuracy: 0.8543\n",
            "Epoch 4/10\n",
            "375/375 [==============================] - 1s 4ms/step - loss: 0.6962 - accuracy: 0.8525 - val_loss: 0.5934 - val_accuracy: 0.8737\n",
            "Epoch 5/10\n",
            "375/375 [==============================] - 2s 5ms/step - loss: 0.5782 - accuracy: 0.8680 - val_loss: 0.5054 - val_accuracy: 0.8858\n",
            "Epoch 6/10\n",
            "375/375 [==============================] - 1s 4ms/step - loss: 0.5065 - accuracy: 0.8792 - val_loss: 0.4502 - val_accuracy: 0.8937\n",
            "Epoch 7/10\n",
            "375/375 [==============================] - 1s 4ms/step - loss: 0.4589 - accuracy: 0.8867 - val_loss: 0.4130 - val_accuracy: 0.8987\n",
            "Epoch 8/10\n",
            "375/375 [==============================] - 1s 4ms/step - loss: 0.4253 - accuracy: 0.8925 - val_loss: 0.3859 - val_accuracy: 0.9044\n",
            "Epoch 9/10\n",
            "375/375 [==============================] - 2s 4ms/step - loss: 0.3998 - accuracy: 0.8976 - val_loss: 0.3655 - val_accuracy: 0.9083\n",
            "Epoch 10/10\n",
            "375/375 [==============================] - 2s 4ms/step - loss: 0.3797 - accuracy: 0.9012 - val_loss: 0.3490 - val_accuracy: 0.9097\n"
          ]
        },
        {
          "output_type": "execute_result",
          "data": {
            "text/plain": [
              "<keras.callbacks.History at 0x7fbf4c05ff40>"
            ]
          },
          "metadata": {},
          "execution_count": 25
        }
      ],
      "source": [
        "model = keras.Sequential([\n",
        "    layers.Dense(512, activation=\"relu\"),\n",
        "    layers.Dense(10, activation=\"softmax\")\n",
        "])\n",
        "# 2-1\n",
        "model.compile(optimizer=keras.optimizers.RMSprop(1e-5),\n",
        "              loss=\"sparse_categorical_crossentropy\",\n",
        "              metrics=[\"accuracy\"])\n",
        "model.fit(train_images, train_labels,\n",
        "          epochs=10,\n",
        "          batch_size=128,\n",
        "          validation_split=0.2)"
      ]
    },
    {
      "cell_type": "markdown",
      "metadata": {
        "id": "Ge79kVDKur9c"
      },
      "source": [
        "### Leveraging better architecture priors"
      ]
    },
    {
      "cell_type": "markdown",
      "metadata": {
        "id": "jb7DEyiYur9c"
      },
      "source": [
        "### Increasing model capacity"
      ]
    },
    {
      "cell_type": "markdown",
      "metadata": {
        "id": "6Dwoug_Lur9d"
      },
      "source": [
        "**A simple logistic regression on MNIST**"
      ]
    },
    {
      "cell_type": "code",
      "execution_count": 26,
      "metadata": {
        "id": "Lip03wqlur9d",
        "outputId": "3b18f242-c0d1-48d9-b860-80d84406dc73",
        "colab": {
          "base_uri": "https://localhost:8080/"
        }
      },
      "outputs": [
        {
          "output_type": "stream",
          "name": "stdout",
          "text": [
            "Epoch 1/20\n",
            "375/375 [==============================] - 2s 4ms/step - loss: 0.6694 - accuracy: 0.8347 - val_loss: 0.3593 - val_accuracy: 0.9053\n",
            "Epoch 2/20\n",
            "375/375 [==============================] - 1s 3ms/step - loss: 0.3532 - accuracy: 0.9023 - val_loss: 0.3098 - val_accuracy: 0.9144\n",
            "Epoch 3/20\n",
            "375/375 [==============================] - 2s 4ms/step - loss: 0.3176 - accuracy: 0.9113 - val_loss: 0.2933 - val_accuracy: 0.9192\n",
            "Epoch 4/20\n",
            "375/375 [==============================] - 1s 3ms/step - loss: 0.3018 - accuracy: 0.9161 - val_loss: 0.2852 - val_accuracy: 0.9212\n",
            "Epoch 5/20\n",
            "375/375 [==============================] - 1s 3ms/step - loss: 0.2921 - accuracy: 0.9183 - val_loss: 0.2787 - val_accuracy: 0.9240\n",
            "Epoch 6/20\n",
            "375/375 [==============================] - 1s 3ms/step - loss: 0.2855 - accuracy: 0.9201 - val_loss: 0.2757 - val_accuracy: 0.9250\n",
            "Epoch 7/20\n",
            "375/375 [==============================] - 1s 3ms/step - loss: 0.2805 - accuracy: 0.9219 - val_loss: 0.2718 - val_accuracy: 0.9240\n",
            "Epoch 8/20\n",
            "375/375 [==============================] - 1s 3ms/step - loss: 0.2767 - accuracy: 0.9233 - val_loss: 0.2701 - val_accuracy: 0.9259\n",
            "Epoch 9/20\n",
            "375/375 [==============================] - 1s 3ms/step - loss: 0.2736 - accuracy: 0.9241 - val_loss: 0.2696 - val_accuracy: 0.9256\n",
            "Epoch 10/20\n",
            "375/375 [==============================] - 1s 3ms/step - loss: 0.2708 - accuracy: 0.9243 - val_loss: 0.2678 - val_accuracy: 0.9258\n",
            "Epoch 11/20\n",
            "375/375 [==============================] - 1s 3ms/step - loss: 0.2685 - accuracy: 0.9249 - val_loss: 0.2654 - val_accuracy: 0.9289\n",
            "Epoch 12/20\n",
            "375/375 [==============================] - 1s 3ms/step - loss: 0.2669 - accuracy: 0.9262 - val_loss: 0.2642 - val_accuracy: 0.9283\n",
            "Epoch 13/20\n",
            "375/375 [==============================] - 2s 4ms/step - loss: 0.2651 - accuracy: 0.9267 - val_loss: 0.2647 - val_accuracy: 0.9285\n",
            "Epoch 14/20\n",
            "375/375 [==============================] - 1s 4ms/step - loss: 0.2632 - accuracy: 0.9270 - val_loss: 0.2633 - val_accuracy: 0.9277\n",
            "Epoch 15/20\n",
            "375/375 [==============================] - 1s 3ms/step - loss: 0.2618 - accuracy: 0.9279 - val_loss: 0.2640 - val_accuracy: 0.9288\n",
            "Epoch 16/20\n",
            "375/375 [==============================] - 1s 3ms/step - loss: 0.2608 - accuracy: 0.9279 - val_loss: 0.2624 - val_accuracy: 0.9292\n",
            "Epoch 17/20\n",
            "375/375 [==============================] - 1s 3ms/step - loss: 0.2593 - accuracy: 0.9287 - val_loss: 0.2647 - val_accuracy: 0.9291\n",
            "Epoch 18/20\n",
            "375/375 [==============================] - 1s 3ms/step - loss: 0.2583 - accuracy: 0.9288 - val_loss: 0.2621 - val_accuracy: 0.9293\n",
            "Epoch 19/20\n",
            "375/375 [==============================] - 1s 3ms/step - loss: 0.2570 - accuracy: 0.9290 - val_loss: 0.2637 - val_accuracy: 0.9296\n",
            "Epoch 20/20\n",
            "375/375 [==============================] - 1s 3ms/step - loss: 0.2562 - accuracy: 0.9295 - val_loss: 0.2636 - val_accuracy: 0.9298\n"
          ]
        }
      ],
      "source": [
        "model = keras.Sequential([layers.Dense(10, activation=\"softmax\")])\n",
        "model.compile(optimizer=\"rmsprop\",\n",
        "              loss=\"sparse_categorical_crossentropy\",\n",
        "              metrics=[\"accuracy\"])\n",
        "history_small_model = model.fit(\n",
        "    train_images, train_labels,\n",
        "    epochs=20,\n",
        "    batch_size=128,\n",
        "    validation_split=0.2)"
      ]
    },
    {
      "cell_type": "code",
      "execution_count": 31,
      "metadata": {
        "id": "hCzuFMErur9d",
        "outputId": "0b769c23-6114-479c-a7a4-79c852bdd2a4",
        "colab": {
          "base_uri": "https://localhost:8080/",
          "height": 490
        }
      },
      "outputs": [
        {
          "output_type": "execute_result",
          "data": {
            "text/plain": [
              "<matplotlib.legend.Legend at 0x7fbf4c0e73d0>"
            ]
          },
          "metadata": {},
          "execution_count": 31
        },
        {
          "output_type": "display_data",
          "data": {
            "text/plain": [
              "<Figure size 640x480 with 1 Axes>"
            ],
            "image/png": "[encoded data removed]"
          },
          "metadata": {}
        }
      ],
      "source": [
        "import matplotlib.pyplot as plt\n",
        "val_loss = history_small_model.history[\"val_loss\"]\n",
        "epochs = range(1, 21)\n",
        "plt.plot(epochs, val_loss, \"b--\",\n",
        "         label=\"Validation loss\")\n",
        "plt.title(\"Effect of insufficient model capacity on validation loss\")\n",
        "plt.xlabel(\"Epochs\")\n",
        "plt.ylabel(\"Loss\")\n",
        "plt.legend()"
      ]
    },
    {
      "cell_type": "code",
      "execution_count": null,
      "metadata": {
        "id": "onMc1l2fur9d"
      },
      "outputs": [],
      "source": [
        "model = keras.Sequential([\n",
        "    layers.Dense(96, activation=\"relu\"),\n",
        "    layers.Dense(96, activation=\"relu\"),\n",
        "    layers.Dense(10, activation=\"softmax\"),\n",
        "])\n",
        "model.compile(optimizer=\"rmsprop\",\n",
        "              loss=\"sparse_categorical_crossentropy\",\n",
        "              metrics=[\"accuracy\"])\n",
        "history_large_model = model.fit(\n",
        "    train_images, train_labels,\n",
        "    epochs=20,\n",
        "    batch_size=128,\n",
        "    validation_split=0.2)"
      ]
    },
    {
      "cell_type": "markdown",
      "metadata": {
        "id": "o-MjDNT9ur9e"
      },
      "source": [
        "## Improving generalization"
      ]
    },
    {
      "cell_type": "markdown",
      "metadata": {
        "id": "GReEq5vwur9e"
      },
      "source": [
        "### Dataset curation"
      ]
    },
    {
      "cell_type": "markdown",
      "metadata": {
        "id": "QngapXF3ur9e"
      },
      "source": [
        "### Feature engineering"
      ]
    },
    {
      "cell_type": "markdown",
      "metadata": {
        "id": "__dpTgaLur9e"
      },
      "source": [
        "### Using early stopping"
      ]
    },
    {
      "cell_type": "markdown",
      "metadata": {
        "id": "IBcW-B-vur9e"
      },
      "source": [
        "### Regularizing your model"
      ]
    },
    {
      "cell_type": "markdown",
      "metadata": {
        "id": "w93qAf5Hur9f"
      },
      "source": [
        "#### Reducing the network's size"
      ]
    },
    {
      "cell_type": "markdown",
      "metadata": {
        "id": "GGVa1m2-ur9f"
      },
      "source": [
        "**Original model**"
      ]
    },
    {
      "cell_type": "code",
      "execution_count": null,
      "metadata": {
        "id": "ogpHjUbmur9f"
      },
      "outputs": [],
      "source": [
        "from tensorflow.keras.datasets import imdb\n",
        "(train_data, train_labels), _ = imdb.load_data(num_words=10000)\n",
        "\n",
        "def vectorize_sequences(sequences, dimension=10000):\n",
        "    results = np.zeros((len(sequences), dimension))\n",
        "    for i, sequence in enumerate(sequences):\n",
        "        results[i, sequence] = 1.\n",
        "    return results\n",
        "train_data = vectorize_sequences(train_data)\n",
        "\n",
        "model = keras.Sequential([\n",
        "    layers.Dense(16, activation=\"relu\"),\n",
        "    layers.Dense(16, activation=\"relu\"),\n",
        "    layers.Dense(1, activation=\"sigmoid\")\n",
        "])\n",
        "model.compile(optimizer=\"rmsprop\",\n",
        "              loss=\"binary_crossentropy\",\n",
        "              metrics=[\"accuracy\"])\n",
        "history_original = model.fit(train_data, train_labels,\n",
        "                             epochs=20, batch_size=512, validation_split=0.4)"
      ]
    },
    {
      "cell_type": "markdown",
      "metadata": {
        "id": "AU6ETs-hur9g"
      },
      "source": [
        "**Version of the model with lower capacity**"
      ]
    },
    {
      "cell_type": "code",
      "execution_count": null,
      "metadata": {
        "id": "dVzEJP6Iur9h"
      },
      "outputs": [],
      "source": [
        "model = keras.Sequential([\n",
        "    layers.Dense(4, activation=\"relu\"),\n",
        "    layers.Dense(4, activation=\"relu\"),\n",
        "    layers.Dense(1, activation=\"sigmoid\")\n",
        "])\n",
        "model.compile(optimizer=\"rmsprop\",\n",
        "              loss=\"binary_crossentropy\",\n",
        "              metrics=[\"accuracy\"])\n",
        "history_smaller_model = model.fit(\n",
        "    train_data, train_labels,\n",
        "    epochs=20, batch_size=512, validation_split=0.4)"
      ]
    },
    {
      "cell_type": "markdown",
      "metadata": {
        "id": "WVqtYRi9ur9h"
      },
      "source": [
        "**Version of the model with higher capacity**"
      ]
    },
    {
      "cell_type": "code",
      "execution_count": null,
      "metadata": {
        "id": "ZlUecthQur9i"
      },
      "outputs": [],
      "source": [
        "model = keras.Sequential([\n",
        "    layers.Dense(512, activation=\"relu\"),\n",
        "    layers.Dense(512, activation=\"relu\"),\n",
        "    layers.Dense(1, activation=\"sigmoid\")\n",
        "])\n",
        "model.compile(optimizer=\"rmsprop\",\n",
        "              loss=\"binary_crossentropy\",\n",
        "              metrics=[\"accuracy\"])\n",
        "history_larger_model = model.fit(\n",
        "    train_data, train_labels,\n",
        "    epochs=20, batch_size=512, validation_split=0.4)"
      ]
    },
    {
      "cell_type": "markdown",
      "metadata": {
        "id": "QKxb4I3zur9i"
      },
      "source": [
        "#### Adding weight regularization"
      ]
    },
    {
      "cell_type": "markdown",
      "metadata": {
        "id": "9YsCc1-3ur9j"
      },
      "source": [
        "**Adding L2 weight regularization to the model**"
      ]
    },
    {
      "cell_type": "code",
      "execution_count": null,
      "metadata": {
        "id": "smMM8fhEur9j"
      },
      "outputs": [],
      "source": [
        "from tensorflow.keras import regularizers\n",
        "model = keras.Sequential([\n",
        "    layers.Dense(16,\n",
        "                 kernel_regularizer=regularizers.l2(0.002),\n",
        "                 activation=\"relu\"),\n",
        "    layers.Dense(16,\n",
        "                 kernel_regularizer=regularizers.l2(0.002),\n",
        "                 activation=\"relu\"),\n",
        "    layers.Dense(1, activation=\"sigmoid\")\n",
        "])\n",
        "model.compile(optimizer=\"rmsprop\",\n",
        "              loss=\"binary_crossentropy\",\n",
        "              metrics=[\"accuracy\"])\n",
        "history_l2_reg = model.fit(\n",
        "    train_data, train_labels,\n",
        "    epochs=20, batch_size=512, validation_split=0.4)"
      ]
    },
    {
      "cell_type": "markdown",
      "metadata": {
        "id": "w3pwbs1gur9k"
      },
      "source": [
        "**Different weight regularizers available in Keras**"
      ]
    },
    {
      "cell_type": "code",
      "execution_count": null,
      "metadata": {
        "id": "YN4RSiFRur9l"
      },
      "outputs": [],
      "source": [
        "from tensorflow.keras import regularizers\n",
        "regularizers.l1(0.001)\n",
        "regularizers.l1_l2(l1=0.001, l2=0.001)"
      ]
    },
    {
      "cell_type": "markdown",
      "metadata": {
        "id": "ltMVU-_Hur9l"
      },
      "source": [
        "#### Adding dropout"
      ]
    },
    {
      "cell_type": "markdown",
      "metadata": {
        "id": "Eh0PIw5dur9l"
      },
      "source": [
        "**Adding dropout to the IMDB model**"
      ]
    },
    {
      "cell_type": "code",
      "execution_count": null,
      "metadata": {
        "id": "lW-QP0o-ur9l"
      },
      "outputs": [],
      "source": [
        "model = keras.Sequential([\n",
        "    layers.Dense(16, activation=\"relu\"),\n",
        "    layers.Dropout(0.5),\n",
        "    layers.Dense(16, activation=\"relu\"),\n",
        "    layers.Dropout(0.5),\n",
        "    layers.Dense(1, activation=\"sigmoid\")\n",
        "])\n",
        "model.compile(optimizer=\"rmsprop\",\n",
        "              loss=\"binary_crossentropy\",\n",
        "              metrics=[\"accuracy\"])\n",
        "history_dropout = model.fit(\n",
        "    train_data, train_labels,\n",
        "    epochs=20, batch_size=512, validation_split=0.4)"
      ]
    },
    {
      "cell_type": "markdown",
      "metadata": {
        "id": "5D7RyiBvur9m"
      },
      "source": [
        "## Summary"
      ]
    }
  ],
  "metadata": {
    "colab": {
      "name": "chapter05_fundamentals-of-ml.i",
      "provenance": [],
      "toc_visible": true
    },
    "kernelspec": {
      "display_name": "Python 3",
      "language": "python",
      "name": "python3"
    },
    "language_info": {
      "codemirror_mode": {
        "name": "ipython",
        "version": 3
      },
      "file_extension": ".py",
      "mimetype": "text/x-python",
      "name": "python",
      "nbconvert_exporter": "python",
      "pygments_lexer": "ipython3",
      "version": "3.7.0"
    },
    "accelerator": "GPU",
    "gpuClass": "standard"
  },
  "nbformat": 4,
  "nbformat_minor": 0
}