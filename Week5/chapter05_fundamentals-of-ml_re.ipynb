{
  "cells": [
    {
      "cell_type": "markdown",
      "metadata": {
        "id": "Xg4rjIgkxczv"
      },
      "source": [
        "This is a companion notebook for the book [Deep Learning with Python, Second Edition](https://www.manning.com/books/deep-learning-with-python-second-edition?a_aid=keras&a_bid=76564dff). For readability, it only contains runnable code blocks and section titles, and omits everything else in the book: text paragraphs, figures, and pseudocode.\n",
        "\n",
        "**If you want to be able to follow what's going on, I recommend reading the notebook side by side with your copy of the book.**\n",
        "\n",
        "This notebook was generated for TensorFlow 2.6."
      ]
    },
    {
      "cell_type": "markdown",
      "metadata": {
        "id": "Mmw8UtFZxczz"
      },
      "source": [
        "# Fundamentals of machine learning"
      ]
    },
    {
      "cell_type": "markdown",
      "metadata": {
        "id": "Uvgl67Tcxcz0"
      },
      "source": [
        "## Generalization: The goal of machine learning"
      ]
    },
    {
      "cell_type": "markdown",
      "metadata": {
        "id": "P7ZISQWfxcz1"
      },
      "source": [
        "### Underfitting and overfitting"
      ]
    },
    {
      "cell_type": "markdown",
      "metadata": {
        "id": "CBzFDcyWxcz1"
      },
      "source": [
        "#### Noisy training data"
      ]
    },
    {
      "cell_type": "markdown",
      "metadata": {
        "id": "UTbwxVHZxcz2"
      },
      "source": [
        "#### Ambiguous features"
      ]
    },
    {
      "cell_type": "markdown",
      "metadata": {
        "id": "CoocWSVdxcz2"
      },
      "source": [
        "#### Rare features and spurious correlations"
      ]
    },
    {
      "cell_type": "markdown",
      "metadata": {
        "id": "prQrDFIxxcz2"
      },
      "source": [
        "**Adding white-noise channels or all-zeros channels to MNIST**\n",
        "\n",
        "\n",
        "######이 코드는 MNIST 데이터셋에 대해 두 개의 새로운 특성을 만드는 방법을 보여줍니다.\n",
        "\n",
        "첫 번째 방법은 train_images에 784개의 새로운 무작위 채널을 추가하여 train_images_with_noise_channels를 만드는 것입니다. 이렇게 하면 각 이미지에 대해 임의의 잡음이 추가되어 입력 데이터에 더 많은 변동성을 추가합니다.\n",
        "\n",
        "두 번째 방법은 train_images에 784개의 모든 채널에 0을 추가하여 train_images_with_zeros_channels를 만드는 것입니다. 이렇게 하면 입력 데이터에 대해 추가적인 정보가 없이 훈련 데이터가 더 많은 차원을 가지게 됩니다.\n",
        "\n",
        "두 방법 모두 모델을 훈련시키는 데 사용할 수 있습니다. 첫 번째 방법은 모델이 잡음이 포함된 이미지에 대해 일반화되도록 훈련시킬 수 있으며, 두 번째 방법은 모델이 더 많은 특성을 다룰 수 있도록 하여 일반화 능력을 향상시킬 수 있습니다."
      ]
    },
    {
      "cell_type": "code",
      "execution_count": 1,
      "metadata": {
        "id": "6k2QV4Rcxcz3",
        "outputId": "2278eba6-7918-4391-e85b-0ec079e26846",
        "colab": {
          "base_uri": "https://localhost:8080/"
        }
      },
      "outputs": [
        {
          "output_type": "stream",
          "name": "stdout",
          "text": [
            "Downloading data from https://storage.googleapis.com/tensorflow/tf-keras-datasets/mnist.npz\n",
            "11490434/11490434 [==============================] - 0s 0us/step\n"
          ]
        }
      ],
      "source": [
        "from tensorflow.keras.datasets import mnist\n",
        "import numpy as np\n",
        "\n",
        "(train_images, train_labels), _ = mnist.load_data()\n",
        "train_images = train_images.reshape((60000, 28 * 28))\n",
        "train_images = train_images.astype(\"float32\") / 255\n",
        "\n",
        "train_images_with_noise_channels = np.concatenate(\n",
        "    [train_images, np.random.random((len(train_images), 784))], axis=1)\n",
        "\n",
        "train_images_with_zeros_channels = np.concatenate(\n",
        "    [train_images, np.zeros((len(train_images), 784))], axis=1)\n",
        "\n",
        "# 위 코드는 MNIST 데이터셋을 불러온 후, 각 이미지 데이터를 28 x 28 크기의 2차원 배열에서 784 크기의 1차원 배열로 변환하고, \n",
        "# 이를 0~1 사이의 실수 값으로 정규화하는 과정을 거칩니다.\n",
        "\n",
        "# 그리고 각 이미지 데이터에 무작위 값을 가지는 784개의 노이즈 채널을 추가한 train_images_with_noise_channels와, \n",
        "# 784개의 0으로 이루어진 채널을 추가한 train_images_with_zeros_channels를 생성합니다.\n",
        "\n",
        "# 이렇게 생성된 데이터셋은 노이즈 채널을 포함하거나 제로 패딩을 적용한 입력 데이터셋을 사용하여 모델의 성능을 비교하는 실험 등에서 사용될 수 있습니다."
      ]
    },
    {
      "cell_type": "markdown",
      "metadata": {
        "id": "dpNbFQ4hxcz4"
      },
      "source": [
        "**Training the same model on MNIST data with noise channels or all-zero channels**"
      ]
    },
    {
      "cell_type": "code",
      "execution_count": 2,
      "metadata": {
        "id": "qPB9S3qBxcz5",
        "outputId": "74d1024a-dc10-4b53-d4fa-3a2031e496df",
        "colab": {
          "base_uri": "https://localhost:8080/"
        }
      },
      "outputs": [
        {
          "output_type": "stream",
          "name": "stdout",
          "text": [
            "Epoch 1/10\n",
            "375/375 [==============================] - 6s 4ms/step - loss: 0.6067 - accuracy: 0.8133 - val_loss: 0.3230 - val_accuracy: 0.9040\n",
            "Epoch 2/10\n",
            "375/375 [==============================] - 1s 3ms/step - loss: 0.2665 - accuracy: 0.9176 - val_loss: 0.1915 - val_accuracy: 0.9438\n",
            "Epoch 3/10\n",
            "375/375 [==============================] - 1s 3ms/step - loss: 0.1701 - accuracy: 0.9467 - val_loss: 0.1503 - val_accuracy: 0.9563\n",
            "Epoch 4/10\n",
            "375/375 [==============================] - 1s 3ms/step - loss: 0.1203 - accuracy: 0.9624 - val_loss: 0.1943 - val_accuracy: 0.9405\n",
            "Epoch 5/10\n",
            "375/375 [==============================] - 2s 5ms/step - loss: 0.0902 - accuracy: 0.9717 - val_loss: 0.1219 - val_accuracy: 0.9634\n",
            "Epoch 6/10\n",
            "375/375 [==============================] - 1s 3ms/step - loss: 0.0663 - accuracy: 0.9789 - val_loss: 0.1072 - val_accuracy: 0.9691\n",
            "Epoch 7/10\n",
            "375/375 [==============================] - 1s 3ms/step - loss: 0.0495 - accuracy: 0.9846 - val_loss: 0.1167 - val_accuracy: 0.9673\n",
            "Epoch 8/10\n",
            "375/375 [==============================] - 1s 3ms/step - loss: 0.0362 - accuracy: 0.9888 - val_loss: 0.1329 - val_accuracy: 0.9657\n",
            "Epoch 9/10\n",
            "375/375 [==============================] - 1s 3ms/step - loss: 0.0253 - accuracy: 0.9914 - val_loss: 0.2125 - val_accuracy: 0.9434\n",
            "Epoch 10/10\n",
            "375/375 [==============================] - 1s 3ms/step - loss: 0.0183 - accuracy: 0.9940 - val_loss: 0.1223 - val_accuracy: 0.9697\n",
            "Epoch 1/10\n",
            "375/375 [==============================] - 3s 5ms/step - loss: 0.2945 - accuracy: 0.9150 - val_loss: 0.1518 - val_accuracy: 0.9577\n",
            "Epoch 2/10\n",
            "375/375 [==============================] - 1s 3ms/step - loss: 0.1226 - accuracy: 0.9640 - val_loss: 0.1094 - val_accuracy: 0.9686\n",
            "Epoch 3/10\n",
            "375/375 [==============================] - 1s 3ms/step - loss: 0.0808 - accuracy: 0.9764 - val_loss: 0.0916 - val_accuracy: 0.9726\n",
            "Epoch 4/10\n",
            "375/375 [==============================] - 1s 3ms/step - loss: 0.0580 - accuracy: 0.9830 - val_loss: 0.0783 - val_accuracy: 0.9753\n",
            "Epoch 5/10\n",
            "375/375 [==============================] - 1s 3ms/step - loss: 0.0427 - accuracy: 0.9870 - val_loss: 0.0759 - val_accuracy: 0.9774\n",
            "Epoch 6/10\n",
            "375/375 [==============================] - 1s 3ms/step - loss: 0.0325 - accuracy: 0.9905 - val_loss: 0.0764 - val_accuracy: 0.9768\n",
            "Epoch 7/10\n",
            "375/375 [==============================] - 1s 3ms/step - loss: 0.0242 - accuracy: 0.9933 - val_loss: 0.0705 - val_accuracy: 0.9789\n",
            "Epoch 8/10\n",
            "375/375 [==============================] - 1s 3ms/step - loss: 0.0180 - accuracy: 0.9951 - val_loss: 0.0751 - val_accuracy: 0.9793\n",
            "Epoch 9/10\n",
            "375/375 [==============================] - 1s 3ms/step - loss: 0.0137 - accuracy: 0.9967 - val_loss: 0.0770 - val_accuracy: 0.9797\n",
            "Epoch 10/10\n",
            "375/375 [==============================] - 1s 4ms/step - loss: 0.0101 - accuracy: 0.9976 - val_loss: 0.0799 - val_accuracy: 0.9790\n"
          ]
        }
      ],
      "source": [
        "from tensorflow import keras\n",
        "from tensorflow.keras import layers\n",
        "\n",
        "def get_model():\n",
        "    model = keras.Sequential([\n",
        "        layers.Dense(512, activation=\"relu\"),\n",
        "        layers.Dense(10, activation=\"softmax\")\n",
        "    ])\n",
        "    model.compile(optimizer=\"rmsprop\",\n",
        "                  loss=\"sparse_categorical_crossentropy\",\n",
        "                  metrics=[\"accuracy\"])\n",
        "    return model\n",
        "\n",
        "model = get_model()\n",
        "history_noise = model.fit(\n",
        "    train_images_with_noise_channels, train_labels,\n",
        "    epochs=10,\n",
        "    batch_size=128,\n",
        "    validation_split=0.2)\n",
        "\n",
        "model = get_model()\n",
        "history_zeros = model.fit(\n",
        "    train_images_with_zeros_channels, train_labels,\n",
        "    epochs=10,\n",
        "    batch_size=128,\n",
        "    validation_split=0.2)\n",
        "\n",
        "\n",
        "# 이 코드는 MNIST 데이터셋에 대해 노이즈가 추가된 새로운 특성 차원 또는 모든 값이 0인 차원을 추가하여 모델을 훈련시키는 것입니다.\n",
        "\n",
        "# get_model 함수는 2개의 Dense 층으로 이루어진 Sequential 모델을 정의하고 컴파일합니다. \n",
        "# 모델은 relu 활성화 함수를 사용하는 512개의 유닛을 가진 첫 번째 층과 softmax 활성화 함수를 사용하는 10개의 유닛을 가진 두 번째 층으로 이루어져 있습니다.\n",
        "\n",
        "# 먼저 train_images_with_noise_channels을 사용하여 모델을 훈련시키고, 그 결과를 history_noise에 저장합니다.\n",
        "# train_images_with_noise_channels은 원래 MNIST 이미지에 무작위 노이즈를 추가하여 생성된 데이터입니다. \n",
        "# fit 메서드를 사용하여 모델을 10번의 epoch 동안 훈련하며, 배치 크기는 128입니다. \n",
        "# 20%의 데이터를 검증 데이터로 사용하며, 이는 validation_split 매개변수를 사용하여 설정됩니다.\n",
        "\n",
        "# 그 다음, train_images_with_zeros_channels를 사용하여 모델을 다시 훈련시키고, 그 결과를 history_zeros에 저장합니다. \n",
        "# train_images_with_zeros_channels는 원래 MNIST 이미지에 모든 값이 0인 새로운 특성 차원을 추가하여 생성된 데이터입니다. \n",
        "# 마찬가지로, 10번의 epoch 동안 모델을 훈련하며, 배치 크기는 128이고, 20%의 데이터를 검증 데이터로 사용합니다."
      ]
    },
    {
      "cell_type": "markdown",
      "metadata": {
        "id": "GuOECJumxcz5"
      },
      "source": [
        "**Plotting a validation accuracy comparison**"
      ]
    },
    {
      "cell_type": "code",
      "execution_count": 3,
      "metadata": {
        "id": "_FeRub0Axcz6",
        "outputId": "dc315e0b-60dd-458d-d07a-dfc55f7b76d4",
        "colab": {
          "base_uri": "https://localhost:8080/",
          "height": 491
        }
      },
      "outputs": [
        {
          "output_type": "execute_result",
          "data": {
            "text/plain": [
              "<matplotlib.legend.Legend at 0x7f89fead0730>"
            ]
          },
          "metadata": {},
          "execution_count": 3
        },
        {
          "output_type": "display_data",
          "data": {
            "text/plain": [
              "<Figure size 640x480 with 1 Axes>"
            ],
            "image/png": "[encoded data removed]"
          },
          "metadata": {}
        }
      ],
      "source": [
        "import matplotlib.pyplot as plt\n",
        "val_acc_noise = history_noise.history[\"val_accuracy\"]\n",
        "val_acc_zeros = history_zeros.history[\"val_accuracy\"]\n",
        "epochs = range(1, 11)\n",
        "plt.plot(epochs, val_acc_noise, \"b-\",\n",
        "         label=\"Validation accuracy with noise channels\")\n",
        "plt.plot(epochs, val_acc_zeros, \"b--\",\n",
        "         label=\"Validation accuracy with zeros channels\")\n",
        "plt.title(\"Effect of noise channels on validation accuracy\")\n",
        "plt.xlabel(\"Epochs\")\n",
        "plt.ylabel(\"Accuracy\")\n",
        "plt.legend()\n",
        "\n",
        "# 이 코드는 두 개의 모델을 학습시켜 검증 데이터에 대한 정확도를 비교한 결과를 시각화하는 코드입니다.\n",
        "\n",
        "# 먼저 history_noise와 history_zeros는 각각 MNIST 데이터셋에 noise channels와 zeros channels를 추가한 데이터셋으로 \n",
        "# 모델을 학습시켰을 때의 validation accuracy의 히스토리입니다. 이 히스토리에서 val_accuracy에 해당하는 값을 가져옵니다.\n",
        "\n",
        "# 다음으로, epochs는 학습시킨 epoch의 범위를 지정합니다. 이 예시에서는 10번의 epoch을 학습시켰으므로 range(1, 11)로 지정합니다.\n",
        "\n",
        "# plt.plot() 함수를 이용하여 두 모델의 validation accuracy 히스토리를 시각화합니다. \n",
        "# val_acc_noise는 파란 실선으로, val_acc_zeros는 파란 점선으로 표시됩니다. 이를 통해 두 모델의 validation accuracy를 비교할 수 있습니다.\n",
        "\n",
        "# 그리고 나서 plt.title(), plt.xlabel(), plt.ylabel(), plt.legend() 함수를 이용하여 그래프의 제목, x축과 y축 레이블, 범례를 지정합니다."
      ]
    },
    {
      "cell_type": "markdown",
      "metadata": {
        "id": "IxxAqoPtxcz6"
      },
      "source": [
        "### The nature of generalization in deep learning"
      ]
    },
    {
      "cell_type": "markdown",
      "metadata": {
        "id": "5RQQXgoJxcz6"
      },
      "source": [
        "**Fitting a MNIST model with randomly shuffled labels**\n",
        "\n",
        "\n",
        "#####이 코드는 MNIST 데이터셋을 사용하여, 레이블을 무작위로 섞은 상태로 모델을 학습하는 코드입니다.\n",
        "\n",
        "원래 MNIST 데이터셋에서는 이미지와 그에 해당하는 숫자 레이블이 1:1로 매칭되어 있지만, 이 코드에서는 이미지에 대한 레이블이 완전히 무작위로 섞였습니다. 즉, 학습 데이터셋에서 레이블 0이 달린 이미지가 실제로는 레이블 1, 1이 달린 이미지는 레이블 7 등과 같이, 레이블과 이미지 사이에 정확한 대응 관계가 없습니다.\n",
        "\n",
        "이렇게 학습 데이터셋에 무작위로 섞인 레이블로 모델을 학습하면, 모델은 잘못된 레이블 정보를 학습하게 됩니다. 이러한 잘못된 정보를 가지고 학습된 모델은 테스트 데이터셋에서 좋은 성능을 발휘할 수 없습니다. 이 코드에서는 이러한 실험을 통해 무작위 레이블에 대한 학습 결과를 비교하고, 올바른 레이블로 학습한 모델과의 차이를 살펴봅니다."
      ]
    },
    {
      "cell_type": "code",
      "execution_count": 4,
      "metadata": {
        "id": "jX0QMtGRxcz6",
        "outputId": "372a122c-a2d2-476c-c849-e4403b0d5ebb",
        "colab": {
          "base_uri": "https://localhost:8080/"
        }
      },
      "outputs": [
        {
          "output_type": "stream",
          "name": "stdout",
          "text": [
            "Epoch 1/100\n",
            "375/375 [==============================] - 2s 4ms/step - loss: 2.3153 - accuracy: 0.1055 - val_loss: 2.3066 - val_accuracy: 0.1018\n",
            "Epoch 2/100\n",
            "375/375 [==============================] - 1s 3ms/step - loss: 2.2981 - accuracy: 0.1176 - val_loss: 2.3121 - val_accuracy: 0.1006\n",
            "Epoch 3/100\n",
            "375/375 [==============================] - 1s 3ms/step - loss: 2.2907 - accuracy: 0.1278 - val_loss: 2.3208 - val_accuracy: 0.1063\n",
            "Epoch 4/100\n",
            "375/375 [==============================] - 1s 4ms/step - loss: 2.2786 - accuracy: 0.1366 - val_loss: 2.3294 - val_accuracy: 0.1014\n",
            "Epoch 5/100\n",
            "375/375 [==============================] - 2s 4ms/step - loss: 2.2620 - accuracy: 0.1531 - val_loss: 2.3465 - val_accuracy: 0.1048\n",
            "Epoch 6/100\n",
            "375/375 [==============================] - 1s 3ms/step - loss: 2.2421 - accuracy: 0.1680 - val_loss: 2.3552 - val_accuracy: 0.1038\n",
            "Epoch 7/100\n",
            "375/375 [==============================] - 1s 3ms/step - loss: 2.2180 - accuracy: 0.1830 - val_loss: 2.3683 - val_accuracy: 0.0967\n",
            "Epoch 8/100\n",
            "375/375 [==============================] - 1s 3ms/step - loss: 2.1918 - accuracy: 0.1959 - val_loss: 2.3834 - val_accuracy: 0.1029\n",
            "Epoch 9/100\n",
            "375/375 [==============================] - 1s 3ms/step - loss: 2.1617 - accuracy: 0.2155 - val_loss: 2.4112 - val_accuracy: 0.1009\n",
            "Epoch 10/100\n",
            "375/375 [==============================] - 1s 3ms/step - loss: 2.1287 - accuracy: 0.2317 - val_loss: 2.4310 - val_accuracy: 0.1012\n",
            "Epoch 11/100\n",
            "375/375 [==============================] - 1s 3ms/step - loss: 2.0946 - accuracy: 0.2459 - val_loss: 2.4503 - val_accuracy: 0.0989\n",
            "Epoch 12/100\n",
            "375/375 [==============================] - 1s 3ms/step - loss: 2.0564 - accuracy: 0.2666 - val_loss: 2.4792 - val_accuracy: 0.0994\n",
            "Epoch 13/100\n",
            "375/375 [==============================] - 1s 3ms/step - loss: 2.0216 - accuracy: 0.2817 - val_loss: 2.5187 - val_accuracy: 0.1012\n",
            "Epoch 14/100\n",
            "375/375 [==============================] - 2s 4ms/step - loss: 1.9813 - accuracy: 0.3002 - val_loss: 2.5382 - val_accuracy: 0.0960\n",
            "Epoch 15/100\n",
            "375/375 [==============================] - 1s 4ms/step - loss: 1.9434 - accuracy: 0.3140 - val_loss: 2.5858 - val_accuracy: 0.0925\n",
            "Epoch 16/100\n",
            "375/375 [==============================] - 1s 3ms/step - loss: 1.9040 - accuracy: 0.3334 - val_loss: 2.6124 - val_accuracy: 0.0968\n",
            "Epoch 17/100\n",
            "375/375 [==============================] - 1s 3ms/step - loss: 1.8636 - accuracy: 0.3474 - val_loss: 2.6465 - val_accuracy: 0.0953\n",
            "Epoch 18/100\n",
            "375/375 [==============================] - 1s 3ms/step - loss: 1.8235 - accuracy: 0.3666 - val_loss: 2.6938 - val_accuracy: 0.0979\n",
            "Epoch 19/100\n",
            "375/375 [==============================] - 1s 3ms/step - loss: 1.7855 - accuracy: 0.3828 - val_loss: 2.7238 - val_accuracy: 0.0958\n",
            "Epoch 20/100\n",
            "375/375 [==============================] - 1s 3ms/step - loss: 1.7493 - accuracy: 0.3936 - val_loss: 2.7818 - val_accuracy: 0.0962\n",
            "Epoch 21/100\n",
            "375/375 [==============================] - 1s 3ms/step - loss: 1.7105 - accuracy: 0.4084 - val_loss: 2.8186 - val_accuracy: 0.0981\n",
            "Epoch 22/100\n",
            "375/375 [==============================] - 1s 3ms/step - loss: 1.6723 - accuracy: 0.4242 - val_loss: 2.8537 - val_accuracy: 0.0972\n",
            "Epoch 23/100\n",
            "375/375 [==============================] - 1s 3ms/step - loss: 1.6376 - accuracy: 0.4369 - val_loss: 2.8965 - val_accuracy: 0.0978\n",
            "Epoch 24/100\n",
            "375/375 [==============================] - 2s 4ms/step - loss: 1.6043 - accuracy: 0.4494 - val_loss: 2.9747 - val_accuracy: 0.0967\n",
            "Epoch 25/100\n",
            "375/375 [==============================] - 1s 4ms/step - loss: 1.5694 - accuracy: 0.4599 - val_loss: 3.0133 - val_accuracy: 0.0954\n",
            "Epoch 26/100\n",
            "375/375 [==============================] - 1s 3ms/step - loss: 1.5343 - accuracy: 0.4772 - val_loss: 3.0410 - val_accuracy: 0.0978\n",
            "Epoch 27/100\n",
            "375/375 [==============================] - 1s 3ms/step - loss: 1.5000 - accuracy: 0.4889 - val_loss: 3.0908 - val_accuracy: 0.0978\n",
            "Epoch 28/100\n",
            "375/375 [==============================] - 1s 3ms/step - loss: 1.4682 - accuracy: 0.5005 - val_loss: 3.1364 - val_accuracy: 0.0953\n",
            "Epoch 29/100\n",
            "375/375 [==============================] - 1s 3ms/step - loss: 1.4386 - accuracy: 0.5118 - val_loss: 3.1598 - val_accuracy: 0.0967\n",
            "Epoch 30/100\n",
            "375/375 [==============================] - 1s 3ms/step - loss: 1.4053 - accuracy: 0.5228 - val_loss: 3.2371 - val_accuracy: 0.0962\n",
            "Epoch 31/100\n",
            "375/375 [==============================] - 1s 3ms/step - loss: 1.3750 - accuracy: 0.5351 - val_loss: 3.2812 - val_accuracy: 0.0967\n",
            "Epoch 32/100\n",
            "375/375 [==============================] - 1s 3ms/step - loss: 1.3463 - accuracy: 0.5448 - val_loss: 3.3530 - val_accuracy: 0.0963\n",
            "Epoch 33/100\n",
            "375/375 [==============================] - 1s 3ms/step - loss: 1.3190 - accuracy: 0.5547 - val_loss: 3.3964 - val_accuracy: 0.0956\n",
            "Epoch 34/100\n",
            "375/375 [==============================] - 2s 4ms/step - loss: 1.2898 - accuracy: 0.5668 - val_loss: 3.4749 - val_accuracy: 0.0959\n",
            "Epoch 35/100\n",
            "375/375 [==============================] - 1s 4ms/step - loss: 1.2629 - accuracy: 0.5740 - val_loss: 3.5000 - val_accuracy: 0.0975\n",
            "Epoch 36/100\n",
            "375/375 [==============================] - 1s 4ms/step - loss: 1.2375 - accuracy: 0.5831 - val_loss: 3.5355 - val_accuracy: 0.0993\n",
            "Epoch 37/100\n",
            "375/375 [==============================] - 2s 4ms/step - loss: 1.2089 - accuracy: 0.5970 - val_loss: 3.6320 - val_accuracy: 0.0988\n",
            "Epoch 38/100\n",
            "375/375 [==============================] - 1s 4ms/step - loss: 1.1847 - accuracy: 0.6048 - val_loss: 3.6534 - val_accuracy: 0.0962\n",
            "Epoch 39/100\n",
            "375/375 [==============================] - 1s 3ms/step - loss: 1.1593 - accuracy: 0.6133 - val_loss: 3.7308 - val_accuracy: 0.0938\n",
            "Epoch 40/100\n",
            "375/375 [==============================] - 1s 3ms/step - loss: 1.1372 - accuracy: 0.6218 - val_loss: 3.7871 - val_accuracy: 0.0982\n",
            "Epoch 41/100\n",
            "375/375 [==============================] - 1s 3ms/step - loss: 1.1106 - accuracy: 0.6294 - val_loss: 3.8297 - val_accuracy: 0.0979\n",
            "Epoch 42/100\n",
            "375/375 [==============================] - 1s 3ms/step - loss: 1.0899 - accuracy: 0.6371 - val_loss: 3.9149 - val_accuracy: 0.0977\n",
            "Epoch 43/100\n",
            "375/375 [==============================] - 2s 4ms/step - loss: 1.0663 - accuracy: 0.6469 - val_loss: 3.9637 - val_accuracy: 0.0947\n",
            "Epoch 44/100\n",
            "375/375 [==============================] - 1s 4ms/step - loss: 1.0420 - accuracy: 0.6547 - val_loss: 4.0215 - val_accuracy: 0.0957\n",
            "Epoch 45/100\n",
            "375/375 [==============================] - 2s 5ms/step - loss: 1.0211 - accuracy: 0.6622 - val_loss: 4.0904 - val_accuracy: 0.0936\n",
            "Epoch 46/100\n",
            "375/375 [==============================] - 1s 3ms/step - loss: 0.9996 - accuracy: 0.6700 - val_loss: 4.1596 - val_accuracy: 0.0968\n",
            "Epoch 47/100\n",
            "375/375 [==============================] - 1s 3ms/step - loss: 0.9793 - accuracy: 0.6756 - val_loss: 4.2418 - val_accuracy: 0.0957\n",
            "Epoch 48/100\n",
            "375/375 [==============================] - 1s 3ms/step - loss: 0.9596 - accuracy: 0.6839 - val_loss: 4.2981 - val_accuracy: 0.0938\n",
            "Epoch 49/100\n",
            "375/375 [==============================] - 1s 3ms/step - loss: 0.9387 - accuracy: 0.6921 - val_loss: 4.3630 - val_accuracy: 0.0958\n",
            "Epoch 50/100\n",
            "375/375 [==============================] - 1s 3ms/step - loss: 0.9185 - accuracy: 0.6975 - val_loss: 4.4037 - val_accuracy: 0.0958\n",
            "Epoch 51/100\n",
            "375/375 [==============================] - 1s 3ms/step - loss: 0.9005 - accuracy: 0.7039 - val_loss: 4.4785 - val_accuracy: 0.0932\n",
            "Epoch 52/100\n",
            "375/375 [==============================] - 1s 4ms/step - loss: 0.8832 - accuracy: 0.7096 - val_loss: 4.5279 - val_accuracy: 0.0977\n",
            "Epoch 53/100\n",
            "375/375 [==============================] - 1s 4ms/step - loss: 0.8650 - accuracy: 0.7161 - val_loss: 4.5906 - val_accuracy: 0.0965\n",
            "Epoch 54/100\n",
            "375/375 [==============================] - 1s 3ms/step - loss: 0.8463 - accuracy: 0.7247 - val_loss: 4.6962 - val_accuracy: 0.0989\n",
            "Epoch 55/100\n",
            "375/375 [==============================] - 1s 3ms/step - loss: 0.8281 - accuracy: 0.7320 - val_loss: 4.7279 - val_accuracy: 0.0983\n",
            "Epoch 56/100\n",
            "375/375 [==============================] - 1s 3ms/step - loss: 0.8145 - accuracy: 0.7343 - val_loss: 4.7831 - val_accuracy: 0.0997\n",
            "Epoch 57/100\n",
            "375/375 [==============================] - 1s 3ms/step - loss: 0.7953 - accuracy: 0.7419 - val_loss: 4.8823 - val_accuracy: 0.0972\n",
            "Epoch 58/100\n",
            "375/375 [==============================] - 1s 3ms/step - loss: 0.7816 - accuracy: 0.7471 - val_loss: 4.9715 - val_accuracy: 0.0975\n",
            "Epoch 59/100\n",
            "375/375 [==============================] - 1s 3ms/step - loss: 0.7638 - accuracy: 0.7517 - val_loss: 5.0082 - val_accuracy: 0.0964\n",
            "Epoch 60/100\n",
            "375/375 [==============================] - 1s 3ms/step - loss: 0.7488 - accuracy: 0.7585 - val_loss: 5.0866 - val_accuracy: 0.0990\n",
            "Epoch 61/100\n",
            "375/375 [==============================] - 1s 3ms/step - loss: 0.7337 - accuracy: 0.7620 - val_loss: 5.1569 - val_accuracy: 0.1005\n",
            "Epoch 62/100\n",
            "375/375 [==============================] - 1s 4ms/step - loss: 0.7196 - accuracy: 0.7680 - val_loss: 5.1960 - val_accuracy: 0.0967\n",
            "Epoch 63/100\n",
            "375/375 [==============================] - 1s 4ms/step - loss: 0.7057 - accuracy: 0.7724 - val_loss: 5.3003 - val_accuracy: 0.0959\n",
            "Epoch 64/100\n",
            "375/375 [==============================] - 1s 3ms/step - loss: 0.6913 - accuracy: 0.7787 - val_loss: 5.3313 - val_accuracy: 0.0950\n",
            "Epoch 65/100\n",
            "375/375 [==============================] - 1s 3ms/step - loss: 0.6756 - accuracy: 0.7807 - val_loss: 5.4579 - val_accuracy: 0.0966\n",
            "Epoch 66/100\n",
            "375/375 [==============================] - 1s 3ms/step - loss: 0.6619 - accuracy: 0.7867 - val_loss: 5.5164 - val_accuracy: 0.0993\n",
            "Epoch 67/100\n",
            "375/375 [==============================] - 1s 3ms/step - loss: 0.6498 - accuracy: 0.7898 - val_loss: 5.5548 - val_accuracy: 0.0982\n",
            "Epoch 68/100\n",
            "375/375 [==============================] - 1s 3ms/step - loss: 0.6382 - accuracy: 0.7970 - val_loss: 5.6904 - val_accuracy: 0.0962\n",
            "Epoch 69/100\n",
            "375/375 [==============================] - 1s 3ms/step - loss: 0.6235 - accuracy: 0.8001 - val_loss: 5.7200 - val_accuracy: 0.0984\n",
            "Epoch 70/100\n",
            "375/375 [==============================] - 1s 3ms/step - loss: 0.6137 - accuracy: 0.8036 - val_loss: 5.7827 - val_accuracy: 0.0975\n",
            "Epoch 71/100\n",
            "375/375 [==============================] - 1s 3ms/step - loss: 0.6016 - accuracy: 0.8061 - val_loss: 5.9057 - val_accuracy: 0.1001\n",
            "Epoch 72/100\n",
            "375/375 [==============================] - 1s 4ms/step - loss: 0.5895 - accuracy: 0.8117 - val_loss: 5.9410 - val_accuracy: 0.0989\n",
            "Epoch 73/100\n",
            "375/375 [==============================] - 2s 4ms/step - loss: 0.5746 - accuracy: 0.8166 - val_loss: 6.0362 - val_accuracy: 0.0994\n",
            "Epoch 74/100\n",
            "375/375 [==============================] - 1s 3ms/step - loss: 0.5649 - accuracy: 0.8197 - val_loss: 6.1243 - val_accuracy: 0.0960\n",
            "Epoch 75/100\n",
            "375/375 [==============================] - 1s 3ms/step - loss: 0.5567 - accuracy: 0.8229 - val_loss: 6.1400 - val_accuracy: 0.1002\n",
            "Epoch 76/100\n",
            "375/375 [==============================] - 1s 3ms/step - loss: 0.5424 - accuracy: 0.8275 - val_loss: 6.2036 - val_accuracy: 0.0970\n",
            "Epoch 77/100\n",
            "375/375 [==============================] - 1s 3ms/step - loss: 0.5337 - accuracy: 0.8307 - val_loss: 6.3156 - val_accuracy: 0.0995\n",
            "Epoch 78/100\n",
            "375/375 [==============================] - 1s 3ms/step - loss: 0.5218 - accuracy: 0.8355 - val_loss: 6.3951 - val_accuracy: 0.0975\n",
            "Epoch 79/100\n",
            "375/375 [==============================] - 1s 3ms/step - loss: 0.5110 - accuracy: 0.8386 - val_loss: 6.4757 - val_accuracy: 0.0974\n",
            "Epoch 80/100\n",
            "375/375 [==============================] - 1s 3ms/step - loss: 0.5022 - accuracy: 0.8421 - val_loss: 6.5390 - val_accuracy: 0.0951\n",
            "Epoch 81/100\n",
            "375/375 [==============================] - 1s 3ms/step - loss: 0.4939 - accuracy: 0.8435 - val_loss: 6.6045 - val_accuracy: 0.0987\n",
            "Epoch 82/100\n",
            "375/375 [==============================] - 1s 4ms/step - loss: 0.4839 - accuracy: 0.8475 - val_loss: 6.6475 - val_accuracy: 0.0932\n",
            "Epoch 83/100\n",
            "375/375 [==============================] - 2s 4ms/step - loss: 0.4728 - accuracy: 0.8536 - val_loss: 6.7678 - val_accuracy: 0.0997\n",
            "Epoch 84/100\n",
            "375/375 [==============================] - 1s 3ms/step - loss: 0.4669 - accuracy: 0.8532 - val_loss: 6.8012 - val_accuracy: 0.0981\n",
            "Epoch 85/100\n",
            "375/375 [==============================] - 1s 3ms/step - loss: 0.4566 - accuracy: 0.8580 - val_loss: 6.9097 - val_accuracy: 0.0969\n",
            "Epoch 86/100\n",
            "375/375 [==============================] - 1s 3ms/step - loss: 0.4475 - accuracy: 0.8602 - val_loss: 6.9395 - val_accuracy: 0.0967\n",
            "Epoch 87/100\n",
            "375/375 [==============================] - 1s 3ms/step - loss: 0.4418 - accuracy: 0.8612 - val_loss: 7.0415 - val_accuracy: 0.0979\n",
            "Epoch 88/100\n",
            "375/375 [==============================] - 1s 3ms/step - loss: 0.4316 - accuracy: 0.8650 - val_loss: 7.1287 - val_accuracy: 0.0976\n",
            "Epoch 89/100\n",
            "375/375 [==============================] - 1s 3ms/step - loss: 0.4221 - accuracy: 0.8690 - val_loss: 7.1930 - val_accuracy: 0.0954\n",
            "Epoch 90/100\n",
            "375/375 [==============================] - 1s 3ms/step - loss: 0.4173 - accuracy: 0.8711 - val_loss: 7.3025 - val_accuracy: 0.0945\n",
            "Epoch 91/100\n",
            "375/375 [==============================] - 1s 3ms/step - loss: 0.4080 - accuracy: 0.8729 - val_loss: 7.3513 - val_accuracy: 0.0967\n",
            "Epoch 92/100\n",
            "375/375 [==============================] - 1s 4ms/step - loss: 0.4021 - accuracy: 0.8758 - val_loss: 7.4148 - val_accuracy: 0.0962\n",
            "Epoch 93/100\n",
            "375/375 [==============================] - 1s 4ms/step - loss: 0.3929 - accuracy: 0.8781 - val_loss: 7.5025 - val_accuracy: 0.0962\n",
            "Epoch 94/100\n",
            "375/375 [==============================] - 1s 3ms/step - loss: 0.3871 - accuracy: 0.8798 - val_loss: 7.6259 - val_accuracy: 0.0957\n",
            "Epoch 95/100\n",
            "375/375 [==============================] - 1s 3ms/step - loss: 0.3792 - accuracy: 0.8830 - val_loss: 7.6408 - val_accuracy: 0.0941\n",
            "Epoch 96/100\n",
            "375/375 [==============================] - 1s 3ms/step - loss: 0.3724 - accuracy: 0.8857 - val_loss: 7.7126 - val_accuracy: 0.0953\n",
            "Epoch 97/100\n",
            "375/375 [==============================] - 1s 3ms/step - loss: 0.3652 - accuracy: 0.8860 - val_loss: 7.7871 - val_accuracy: 0.0987\n",
            "Epoch 98/100\n",
            "375/375 [==============================] - 1s 3ms/step - loss: 0.3573 - accuracy: 0.8892 - val_loss: 7.8799 - val_accuracy: 0.0961\n",
            "Epoch 99/100\n",
            "375/375 [==============================] - 1s 3ms/step - loss: 0.3520 - accuracy: 0.8916 - val_loss: 7.9487 - val_accuracy: 0.0966\n",
            "Epoch 100/100\n",
            "375/375 [==============================] - 1s 3ms/step - loss: 0.3461 - accuracy: 0.8930 - val_loss: 8.0200 - val_accuracy: 0.0952\n"
          ]
        },
        {
          "output_type": "execute_result",
          "data": {
            "text/plain": [
              "<keras.callbacks.History at 0x7f89fea35cd0>"
            ]
          },
          "metadata": {},
          "execution_count": 4
        }
      ],
      "source": [
        "(train_images, train_labels), _ = mnist.load_data()\n",
        "train_images = train_images.reshape((60000, 28 * 28))\n",
        "train_images = train_images.astype(\"float32\") / 255\n",
        "\n",
        "random_train_labels = train_labels[:]\n",
        "np.random.shuffle(random_train_labels)\n",
        "\n",
        "model = keras.Sequential([\n",
        "    layers.Dense(512, activation=\"relu\"),\n",
        "    layers.Dense(10, activation=\"softmax\")\n",
        "])\n",
        "model.compile(optimizer=\"rmsprop\",\n",
        "              loss=\"sparse_categorical_crossentropy\",\n",
        "              metrics=[\"accuracy\"])\n",
        "model.fit(train_images, random_train_labels,\n",
        "          epochs=100,\n",
        "          batch_size=128,\n",
        "          validation_split=0.2)\n",
        "\n",
        "\n",
        "# 이 코드는 MNIST 데이터셋을 사용하여 신경망 모델을 학습시키는 코드입니다.\n",
        "\n",
        "# 먼저 mnist.load_data() 함수를 사용하여 MNIST 데이터셋을 로드합니다. 로드된 데이터는 (train_images, train_labels) 튜플로 반환되며, \n",
        "# 훈련 이미지 데이터와 레이블 데이터를 각각 train_images와 train_labels 변수에 할당합니다.\n",
        "\n",
        "# 그 다음으로, train_images를 28x28의 2D 배열에서 1D 배열로 변환합니다. 그리고 데이터 타입을 float32로 변경한 후, 255로 나눠 정규화를 수행합니다.\n",
        "\n",
        "# random_train_labels 변수에는 train_labels를 복사한 후 np.random.shuffle() 함수를 사용하여 레이블을 무작위로 섞습니다. \n",
        "# 이를 통해 데이터에 대한 레이블 정보가 완전히 무작위로 변경됩니다.\n",
        "\n",
        "# 이후, keras.Sequential() 함수를 사용하여 모델을 생성합니다. 이 모델은 두 개의 layers.Dense() 레이어를 갖습니다. \n",
        "# 첫 번째 레이어는 512개의 뉴런과 ReLU 활성화 함수를 사용하고, 두 번째 레이어는 10개의 뉴런과 softmax 활성화 함수를 사용합니다.\n",
        "\n",
        "# 모델은 sparse_categorical_crossentropy 손실 함수와 rmsprop 옵티마이저를 사용하여 컴파일됩니다. 또한, 모델의 성능 측정 지표로 accuracy를 사용합니다.\n",
        "\n",
        "# 마지막으로, model.fit() 함수를 사용하여 모델을 훈련시킵니다. 이때 train_images와 random_train_labels를 입력으로 사용하며, \n",
        "# 훈련 epoch 횟수는 100회이며 배치 크기는 128입니다. 또한, 훈련 데이터의 20%를 검증 데이터로 사용하도록 지정하였습니다."
      ]
    },
    {
      "cell_type": "markdown",
      "metadata": {
        "id": "-ItJX2HGxcz7"
      },
      "source": [
        "#### The manifold hypothesis"
      ]
    },
    {
      "cell_type": "markdown",
      "metadata": {
        "id": "jPVxy0BIxcz7"
      },
      "source": [
        "#### Interpolation as a source of generalization"
      ]
    },
    {
      "cell_type": "markdown",
      "metadata": {
        "id": "bq9RB-SRxcz7"
      },
      "source": [
        "#### Why deep learning works"
      ]
    },
    {
      "cell_type": "markdown",
      "metadata": {
        "id": "AAMBOC7Lxcz7"
      },
      "source": [
        "#### Training data is paramount"
      ]
    },
    {
      "cell_type": "markdown",
      "metadata": {
        "id": "pNgcJyUxxcz7"
      },
      "source": [
        "## Evaluating machine-learning models"
      ]
    },
    {
      "cell_type": "markdown",
      "metadata": {
        "id": "KTUfL5Akxcz8"
      },
      "source": [
        "### Training, validation, and test sets"
      ]
    },
    {
      "cell_type": "markdown",
      "metadata": {
        "id": "Nqu4srxKxcz8"
      },
      "source": [
        "#### Simple hold-out validation"
      ]
    },
    {
      "cell_type": "markdown",
      "metadata": {
        "id": "OnFe5VqTxcz8"
      },
      "source": [
        "#### K-fold validation"
      ]
    },
    {
      "cell_type": "markdown",
      "metadata": {
        "id": "aq8vRaXFxcz8"
      },
      "source": [
        "#### Iterated K-fold validation with shuffling"
      ]
    },
    {
      "cell_type": "markdown",
      "metadata": {
        "id": "P-q3929Excz8"
      },
      "source": [
        "### Beating a common-sense baseline"
      ]
    },
    {
      "cell_type": "markdown",
      "metadata": {
        "id": "CCwT5uPGxcz9"
      },
      "source": [
        "### Things to keep in mind about model evaluation"
      ]
    },
    {
      "cell_type": "markdown",
      "metadata": {
        "id": "XqqwPNmExcz9"
      },
      "source": [
        "## Improving model fit"
      ]
    },
    {
      "cell_type": "markdown",
      "metadata": {
        "id": "qoFDqI1Kxcz9"
      },
      "source": [
        "### Tuning key gradient descent parameters"
      ]
    },
    {
      "cell_type": "markdown",
      "metadata": {
        "id": "E_ONF9Hmxcz9"
      },
      "source": [
        "**Training a MNIST model with an incorrectly high learning rate**\n",
        "\n",
        "#####이 코드는 MNIST 데이터를 사용하여 모델을 학습하는데, 학습률(learning rate)이 너무 높아서 발생하는 문제를 보여줍니다.\n",
        "\n",
        "먼저 MNIST 데이터를 불러온 후, 28x28 픽셀 이미지를 784 픽셀의 1D 벡터로 변환합니다. 이후 데이터를 0과 1사이의 값으로 정규화합니다.\n",
        "\n",
        "그 다음 모델을 정의합니다. 이 모델은 2개의 레이어를 가진 단순한 MLP입니다. 첫 번째 레이어는 512개의 유닛으로 구성되고 활성화 함수로 ReLU를 사용하며, 두 번째 레이어는 10개의 유닛으로 구성되고 활성화 함수로 softmax를 사용합니다. 이 모델은 RMSprop optimizer를 사용하며, 손실 함수는 sparse_categorical_crossentropy를 사용하고, 정확도를 측정합니다.\n",
        "\n",
        "마지막으로 모델을 학습시킵니다. 학습률이 1.0으로 설정되어 있습니다. 이것은 너무 높은 학습률입니다. 학습률이 높으면 최적점에서의 손실 함수 값으로 수렴하지 않고 발산하는 현상이 발생할 수 있습니다. 이 문제는 학습 과정에서 발생하는데, 훈련 손실 값이 감소하지 않고 발산하는 것을 볼 수 있습니다. 이는 모델이 최적점에서 멀리 떨어져 있다는 것을 의미합니다.\n",
        "\n",
        "따라서 적절한 학습률을 선택하는 것은 중요합니다. 일반적으로 학습률은 모델 및 데이터에 따라 적절한 값을 선택해야 합니다."
      ]
    },
    {
      "cell_type": "code",
      "execution_count": 5,
      "metadata": {
        "id": "Rgs0J8A8xcz9",
        "outputId": "71d33d30-a352-4254-bfee-f0071a77b2a8",
        "colab": {
          "base_uri": "https://localhost:8080/"
        }
      },
      "outputs": [
        {
          "output_type": "stream",
          "name": "stdout",
          "text": [
            "Epoch 1/10\n",
            "375/375 [==============================] - 3s 5ms/step - loss: 855.8773 - accuracy: 0.3513 - val_loss: 2.1175 - val_accuracy: 0.2298\n",
            "Epoch 2/10\n",
            "375/375 [==============================] - 1s 3ms/step - loss: 3.5484 - accuracy: 0.2188 - val_loss: 2.2556 - val_accuracy: 0.1957\n",
            "Epoch 3/10\n",
            "375/375 [==============================] - 1s 3ms/step - loss: 2.5107 - accuracy: 0.2261 - val_loss: 2.3620 - val_accuracy: 0.2314\n",
            "Epoch 4/10\n",
            "375/375 [==============================] - 1s 3ms/step - loss: 2.4656 - accuracy: 0.2297 - val_loss: 2.0887 - val_accuracy: 0.2148\n",
            "Epoch 5/10\n",
            "375/375 [==============================] - 1s 3ms/step - loss: 2.5852 - accuracy: 0.2222 - val_loss: 2.2440 - val_accuracy: 0.2000\n",
            "Epoch 6/10\n",
            "375/375 [==============================] - 1s 3ms/step - loss: 2.5897 - accuracy: 0.1922 - val_loss: 2.5710 - val_accuracy: 0.2407\n",
            "Epoch 7/10\n",
            "375/375 [==============================] - 1s 3ms/step - loss: 2.4907 - accuracy: 0.2197 - val_loss: 2.3322 - val_accuracy: 0.1787\n",
            "Epoch 8/10\n",
            "375/375 [==============================] - 1s 3ms/step - loss: 2.2167 - accuracy: 0.2271 - val_loss: 4.2628 - val_accuracy: 0.1866\n",
            "Epoch 9/10\n",
            "375/375 [==============================] - 1s 3ms/step - loss: 2.3859 - accuracy: 0.2115 - val_loss: 2.1129 - val_accuracy: 0.2159\n",
            "Epoch 10/10\n",
            "375/375 [==============================] - 1s 3ms/step - loss: 2.4343 - accuracy: 0.2269 - val_loss: 2.0610 - val_accuracy: 0.1971\n"
          ]
        },
        {
          "output_type": "execute_result",
          "data": {
            "text/plain": [
              "<keras.callbacks.History at 0x7f8a22d8d820>"
            ]
          },
          "metadata": {},
          "execution_count": 5
        }
      ],
      "source": [
        "(train_images, train_labels), _ = mnist.load_data()\n",
        "train_images = train_images.reshape((60000, 28 * 28))\n",
        "train_images = train_images.astype(\"float32\") / 255\n",
        "\n",
        "model = keras.Sequential([\n",
        "    layers.Dense(512, activation=\"relu\"),\n",
        "    layers.Dense(10, activation=\"softmax\")\n",
        "])\n",
        "model.compile(optimizer=keras.optimizers.RMSprop(1.),\n",
        "              loss=\"sparse_categorical_crossentropy\",\n",
        "              metrics=[\"accuracy\"])\n",
        "model.fit(train_images, train_labels,\n",
        "          epochs=10,\n",
        "          batch_size=128,\n",
        "          validation_split=0.2)\n",
        "\n",
        "\n",
        "# 이 코드는 MNIST 데이터셋을 이용하여 딥러닝 모델을 학습하는 코드입니다. \n",
        "# 먼저, 데이터를 로드하고, 전처리 과정을 거쳐서 train_images를 0과 1사이의 값으로 스케일링합니다.\n",
        "\n",
        "# 모델은 Sequential API를 이용하여 생성되었으며, 입력층으로 512개의 뉴런을 가진 Dense 층과 출력층으로 10개의 뉴런을 가진 Dense 층으로 이루어져 있습니다. \n",
        "# 각각의 Dense 층은 ReLU와 softmax 활성화 함수를 사용하였습니다.\n",
        "\n",
        "# 컴파일 과정에서는 RMSprop 옵티마이저를 사용하며, sparse_categorical_crossentropy 손실 함수와 정확도를 측정하기 위한 메트릭을 지정합니다.\n",
        "\n",
        "# 모델 학습은 총 10번의 에포크를 수행하며, 배치 크기는 128로 지정되어 있습니다. 또한 학습 데이터 중 20%를 검증 데이터로 사용합니다.\n",
        "\n",
        "# 이 코드에서 주목할 점은 RMSprop 옵티마이저의 학습률이 1.으로 지정되어 있다는 점입니다. \n",
        "# 이는 일반적으로 사용되는 학습률 범위(0.01 ~ 0.0001)를 크게 초과하는 값입니다. 따라서 이 모델은 학습이 실패할 가능성이 높습니다."
      ]
    },
    {
      "cell_type": "markdown",
      "metadata": {
        "id": "X9E6WxmUxcz9"
      },
      "source": [
        "**The same model with a more appropriate learning rate**"
      ]
    },
    {
      "cell_type": "code",
      "execution_count": 6,
      "metadata": {
        "id": "KAs34qdnxcz9",
        "outputId": "79f882c7-bc3c-43c0-b7ca-aee47bef655f",
        "colab": {
          "base_uri": "https://localhost:8080/"
        }
      },
      "outputs": [
        {
          "output_type": "stream",
          "name": "stdout",
          "text": [
            "Epoch 1/10\n",
            "375/375 [==============================] - 2s 4ms/step - loss: 0.3415 - accuracy: 0.9103 - val_loss: 0.1863 - val_accuracy: 0.9471\n",
            "Epoch 2/10\n",
            "375/375 [==============================] - 2s 4ms/step - loss: 0.1311 - accuracy: 0.9633 - val_loss: 0.1456 - val_accuracy: 0.9628\n",
            "Epoch 3/10\n",
            "375/375 [==============================] - 1s 3ms/step - loss: 0.0964 - accuracy: 0.9737 - val_loss: 0.1597 - val_accuracy: 0.9663\n",
            "Epoch 4/10\n",
            "375/375 [==============================] - 1s 3ms/step - loss: 0.0787 - accuracy: 0.9798 - val_loss: 0.1595 - val_accuracy: 0.9689\n",
            "Epoch 5/10\n",
            "375/375 [==============================] - 1s 3ms/step - loss: 0.0685 - accuracy: 0.9822 - val_loss: 0.1970 - val_accuracy: 0.9668\n",
            "Epoch 6/10\n",
            "375/375 [==============================] - 1s 3ms/step - loss: 0.0593 - accuracy: 0.9853 - val_loss: 0.1896 - val_accuracy: 0.9709\n",
            "Epoch 7/10\n",
            "375/375 [==============================] - 1s 3ms/step - loss: 0.0533 - accuracy: 0.9868 - val_loss: 0.2037 - val_accuracy: 0.9713\n",
            "Epoch 8/10\n",
            "375/375 [==============================] - 1s 3ms/step - loss: 0.0467 - accuracy: 0.9890 - val_loss: 0.1967 - val_accuracy: 0.9723\n",
            "Epoch 9/10\n",
            "375/375 [==============================] - 1s 3ms/step - loss: 0.0442 - accuracy: 0.9896 - val_loss: 0.1888 - val_accuracy: 0.9740\n",
            "Epoch 10/10\n",
            "375/375 [==============================] - 1s 3ms/step - loss: 0.0359 - accuracy: 0.9915 - val_loss: 0.2058 - val_accuracy: 0.9747\n"
          ]
        },
        {
          "output_type": "execute_result",
          "data": {
            "text/plain": [
              "<keras.callbacks.History at 0x7f8a14f27400>"
            ]
          },
          "metadata": {},
          "execution_count": 6
        }
      ],
      "source": [
        "model = keras.Sequential([\n",
        "    layers.Dense(512, activation=\"relu\"),\n",
        "    layers.Dense(10, activation=\"softmax\")\n",
        "])\n",
        "model.compile(optimizer=keras.optimizers.RMSprop(1e-2),\n",
        "              loss=\"sparse_categorical_crossentropy\",\n",
        "              metrics=[\"accuracy\"])\n",
        "model.fit(train_images, train_labels,\n",
        "          epochs=10,\n",
        "          batch_size=128,\n",
        "          validation_split=0.2)\n",
        "\n",
        "# 위 코드는 MNIST 데이터셋을 사용하여 딥러닝 모델을 학습하는 코드입니다. \n",
        "# 먼저, 입력 데이터를 전처리합니다. MNIST 데이터셋은 28x28 크기의 흑백 이미지로 이루어져 있습니다. \n",
        "# 따라서 이를 784 크기의 1차원 벡터로 변환하고, 0과 1사이의 값을 갖도록 정규화합니다.\n",
        "\n",
        "# 모델은 keras.Sequential을 사용하여 구성하며, layers.Dense를 이용하여 512개의 노드를 가지는 은닉층과 10개의 클래스에 대응하는 출력층을 구성합니다. \n",
        "# 은닉층은 ReLU 함수를 활성화 함수로 사용하며, 출력층은 softmax 함수를 사용합니다.\n",
        "\n",
        "# 모델을 컴파일할 때, RMSprop 옵티마이저를 사용하고, 학습률(learning rate)을 1e-2로 지정합니다. \n",
        "# 손실 함수는 sparse_categorical_crossentropy를 사용하며, 평가 지표는 accuracy를 사용합니다.\n",
        "\n",
        "# model.fit 함수를 사용하여 모델을 학습합니다. 이 때, 학습 데이터인 train_images와 train_labels를 입력으로 사용합니다. \n",
        "# epochs와 batch_size를 지정하여 학습 에포크 수와 배치 크기를 설정하며, validation_split을 이용하여 검증 데이터셋의 비율을 설정합니다."
      ]
    },
    {
      "cell_type": "markdown",
      "metadata": {
        "id": "8MHM62D4xcz-"
      },
      "source": [
        "### Leveraging better architecture priors"
      ]
    },
    {
      "cell_type": "markdown",
      "metadata": {
        "id": "8L4xdYmzxcz-"
      },
      "source": [
        "### Increasing model capacity"
      ]
    },
    {
      "cell_type": "markdown",
      "metadata": {
        "id": "119B6c5Uxcz-"
      },
      "source": [
        "**A simple logistic regression on MNIST**"
      ]
    },
    {
      "cell_type": "code",
      "execution_count": 7,
      "metadata": {
        "id": "UfdSPbCqxcz-",
        "outputId": "1013fb2e-e53a-4c09-c68b-e0597b8f2779",
        "colab": {
          "base_uri": "https://localhost:8080/"
        }
      },
      "outputs": [
        {
          "output_type": "stream",
          "name": "stdout",
          "text": [
            "Epoch 1/20\n",
            "375/375 [==============================] - 2s 4ms/step - loss: 0.6729 - accuracy: 0.8342 - val_loss: 0.3579 - val_accuracy: 0.9024\n",
            "Epoch 2/20\n",
            "375/375 [==============================] - 1s 3ms/step - loss: 0.3519 - accuracy: 0.9033 - val_loss: 0.3085 - val_accuracy: 0.9134\n",
            "Epoch 3/20\n",
            "375/375 [==============================] - 1s 3ms/step - loss: 0.3173 - accuracy: 0.9120 - val_loss: 0.2923 - val_accuracy: 0.9191\n",
            "Epoch 4/20\n",
            "375/375 [==============================] - 1s 3ms/step - loss: 0.3017 - accuracy: 0.9159 - val_loss: 0.2836 - val_accuracy: 0.9223\n",
            "Epoch 5/20\n",
            "375/375 [==============================] - 1s 3ms/step - loss: 0.2918 - accuracy: 0.9186 - val_loss: 0.2846 - val_accuracy: 0.9202\n",
            "Epoch 6/20\n",
            "375/375 [==============================] - 1s 3ms/step - loss: 0.2854 - accuracy: 0.9203 - val_loss: 0.2746 - val_accuracy: 0.9244\n",
            "Epoch 7/20\n",
            "375/375 [==============================] - 2s 4ms/step - loss: 0.2805 - accuracy: 0.9218 - val_loss: 0.2722 - val_accuracy: 0.9239\n",
            "Epoch 8/20\n",
            "375/375 [==============================] - 1s 3ms/step - loss: 0.2766 - accuracy: 0.9235 - val_loss: 0.2707 - val_accuracy: 0.9251\n",
            "Epoch 9/20\n",
            "375/375 [==============================] - 1s 3ms/step - loss: 0.2733 - accuracy: 0.9243 - val_loss: 0.2688 - val_accuracy: 0.9281\n",
            "Epoch 10/20\n",
            "375/375 [==============================] - 1s 3ms/step - loss: 0.2710 - accuracy: 0.9251 - val_loss: 0.2671 - val_accuracy: 0.9278\n",
            "Epoch 11/20\n",
            "375/375 [==============================] - 1s 3ms/step - loss: 0.2683 - accuracy: 0.9257 - val_loss: 0.2657 - val_accuracy: 0.9282\n",
            "Epoch 12/20\n",
            "375/375 [==============================] - 1s 3ms/step - loss: 0.2663 - accuracy: 0.9262 - val_loss: 0.2661 - val_accuracy: 0.9277\n",
            "Epoch 13/20\n",
            "375/375 [==============================] - 1s 3ms/step - loss: 0.2644 - accuracy: 0.9267 - val_loss: 0.2647 - val_accuracy: 0.9294\n",
            "Epoch 14/20\n",
            "375/375 [==============================] - 1s 3ms/step - loss: 0.2633 - accuracy: 0.9273 - val_loss: 0.2637 - val_accuracy: 0.9301\n",
            "Epoch 15/20\n",
            "375/375 [==============================] - 1s 3ms/step - loss: 0.2617 - accuracy: 0.9280 - val_loss: 0.2637 - val_accuracy: 0.9291\n",
            "Epoch 16/20\n",
            "375/375 [==============================] - 1s 3ms/step - loss: 0.2602 - accuracy: 0.9282 - val_loss: 0.2639 - val_accuracy: 0.9289\n",
            "Epoch 17/20\n",
            "375/375 [==============================] - 2s 4ms/step - loss: 0.2591 - accuracy: 0.9286 - val_loss: 0.2630 - val_accuracy: 0.9287\n",
            "Epoch 18/20\n",
            "375/375 [==============================] - 1s 4ms/step - loss: 0.2578 - accuracy: 0.9292 - val_loss: 0.2631 - val_accuracy: 0.9295\n",
            "Epoch 19/20\n",
            "375/375 [==============================] - 1s 3ms/step - loss: 0.2567 - accuracy: 0.9303 - val_loss: 0.2645 - val_accuracy: 0.9271\n",
            "Epoch 20/20\n",
            "375/375 [==============================] - 1s 3ms/step - loss: 0.2561 - accuracy: 0.9297 - val_loss: 0.2629 - val_accuracy: 0.9295\n"
          ]
        }
      ],
      "source": [
        "model = keras.Sequential([layers.Dense(10, activation=\"softmax\")])\n",
        "model.compile(optimizer=\"rmsprop\",\n",
        "              loss=\"sparse_categorical_crossentropy\",\n",
        "              metrics=[\"accuracy\"])\n",
        "history_small_model = model.fit(\n",
        "    train_images, train_labels,\n",
        "    epochs=20,\n",
        "    batch_size=128,\n",
        "    validation_split=0.2)\n",
        "\n",
        "# 위 코드는 MNIST 데이터셋을 사용하여 단일 Dense layer로 이루어진 모델을 훈련시키는 코드입니다.\n",
        "\n",
        "# keras.Sequential() 함수를 사용하여 모델을 정의합니다.\n",
        "# 모델에는 layers.Dense() 함수를 사용하여 단일 Dense layer를 추가합니다. 출력 크기는 10이며, 활성화 함수로는 softmax 함수를 사용합니다.\n",
        "# model.compile() 함수를 사용하여 모델을 컴파일합니다. 옵티마이저로는 RMSprop을 사용하며, 손실 함수로는 sparse_categorical_crossentropy를 사용합니다.\n",
        "# 또한, 모델의 성능 측정 지표로 accuracy를 사용합니다.\n",
        "# model.fit() 함수를 사용하여 모델을 훈련시킵니다. 훈련 데이터셋인 train_images와 train_labels를 사용하며, epoch 수는 20이고, batch size는 128입니다. \n",
        "# 또한, 검증 데이터셋으로 훈련 데이터셋의 20%를 사용합니다. 훈련의 결과는 history_small_model 변수에 저장됩니다."
      ]
    },
    {
      "cell_type": "code",
      "execution_count": 8,
      "metadata": {
        "id": "v5WYbhRyxcz-",
        "outputId": "1cde8763-5ee6-478a-90b9-4b8c3c2fb97e",
        "colab": {
          "base_uri": "https://localhost:8080/",
          "height": 491
        }
      },
      "outputs": [
        {
          "output_type": "execute_result",
          "data": {
            "text/plain": [
              "<matplotlib.legend.Legend at 0x7f8a16736640>"
            ]
          },
          "metadata": {},
          "execution_count": 8
        },
        {
          "output_type": "display_data",
          "data": {
            "text/plain": [
              "<Figure size 640x480 with 1 Axes>"
            ],
            "image/png": "[encoded data removed]"
          },
          "metadata": {}
        }
      ],
      "source": [
        "import matplotlib.pyplot as plt\n",
        "val_loss = history_small_model.history[\"val_loss\"]\n",
        "epochs = range(1, 21)\n",
        "plt.plot(epochs, val_loss, \"b--\",\n",
        "         label=\"Validation loss\")\n",
        "plt.title(\"Effect of insufficient model capacity on validation loss\")\n",
        "plt.xlabel(\"Epochs\")\n",
        "plt.ylabel(\"Loss\")\n",
        "plt.legend()\n",
        "\n",
        "# 해당 코드는 이전 코드에서 학습한 작은 모델의 validation loss 값을 시각화하는 코드입니다.\n",
        "\n",
        "# val_loss = history_small_model.history[\"val_loss\"]: 작은 모델의 validation loss 값을 history_small_model에서 가져옵니다.\n",
        "# epochs = range(1, 21): epoch 수를 지정합니다. 해당 모델은 20번의 epoch 동안 학습했으므로, epochs 변수는 1부터 20까지의 값을 가집니다.\n",
        "# plt.plot(epochs, val_loss, \"b--\", label=\"Validation loss\"): epoch 별 validation loss 값을 파란 점선 그래프로 시각화합니다. 레이블은 \"Validation loss\"로 지정됩니다.\n",
        "# plt.title(\"Effect of insufficient model capacity on validation loss\"): 그래프의 제목을 지정합니다.\n",
        "# plt.xlabel(\"Epochs\"): x축 레이블을 지정합니다.\n",
        "# plt.ylabel(\"Loss\"): y축 레이블을 지정합니다.\n",
        "# plt.legend(): 그래프의 범례를 표시합니다."
      ]
    },
    {
      "cell_type": "code",
      "execution_count": 9,
      "metadata": {
        "id": "9TZAny6Cxcz-",
        "outputId": "f488fb5c-57d4-4ce3-e4ab-c5ada10f5681",
        "colab": {
          "base_uri": "https://localhost:8080/"
        }
      },
      "outputs": [
        {
          "output_type": "stream",
          "name": "stdout",
          "text": [
            "Epoch 1/20\n",
            "375/375 [==============================] - 3s 4ms/step - loss: 0.3662 - accuracy: 0.8961 - val_loss: 0.1962 - val_accuracy: 0.9408\n",
            "Epoch 2/20\n",
            "375/375 [==============================] - 1s 3ms/step - loss: 0.1664 - accuracy: 0.9505 - val_loss: 0.1546 - val_accuracy: 0.9540\n",
            "Epoch 3/20\n",
            "375/375 [==============================] - 1s 3ms/step - loss: 0.1158 - accuracy: 0.9653 - val_loss: 0.1201 - val_accuracy: 0.9654\n",
            "Epoch 4/20\n",
            "375/375 [==============================] - 1s 4ms/step - loss: 0.0885 - accuracy: 0.9736 - val_loss: 0.1120 - val_accuracy: 0.9674\n",
            "Epoch 5/20\n",
            "375/375 [==============================] - 1s 4ms/step - loss: 0.0708 - accuracy: 0.9787 - val_loss: 0.0972 - val_accuracy: 0.9723\n",
            "Epoch 6/20\n",
            "375/375 [==============================] - 1s 4ms/step - loss: 0.0577 - accuracy: 0.9829 - val_loss: 0.1009 - val_accuracy: 0.9707\n",
            "Epoch 7/20\n",
            "375/375 [==============================] - 1s 3ms/step - loss: 0.0488 - accuracy: 0.9850 - val_loss: 0.0925 - val_accuracy: 0.9735\n",
            "Epoch 8/20\n",
            "375/375 [==============================] - 1s 4ms/step - loss: 0.0415 - accuracy: 0.9873 - val_loss: 0.0932 - val_accuracy: 0.9746\n",
            "Epoch 9/20\n",
            "375/375 [==============================] - 2s 4ms/step - loss: 0.0339 - accuracy: 0.9893 - val_loss: 0.0876 - val_accuracy: 0.9762\n",
            "Epoch 10/20\n",
            "375/375 [==============================] - 1s 3ms/step - loss: 0.0287 - accuracy: 0.9912 - val_loss: 0.1042 - val_accuracy: 0.9737\n",
            "Epoch 11/20\n",
            "375/375 [==============================] - 1s 3ms/step - loss: 0.0242 - accuracy: 0.9926 - val_loss: 0.1003 - val_accuracy: 0.9732\n",
            "Epoch 12/20\n",
            "375/375 [==============================] - 1s 4ms/step - loss: 0.0214 - accuracy: 0.9935 - val_loss: 0.1053 - val_accuracy: 0.9753\n",
            "Epoch 13/20\n",
            "375/375 [==============================] - 1s 3ms/step - loss: 0.0171 - accuracy: 0.9950 - val_loss: 0.0972 - val_accuracy: 0.9770\n",
            "Epoch 14/20\n",
            "375/375 [==============================] - 1s 3ms/step - loss: 0.0147 - accuracy: 0.9956 - val_loss: 0.1070 - val_accuracy: 0.9760\n",
            "Epoch 15/20\n",
            "375/375 [==============================] - 1s 3ms/step - loss: 0.0127 - accuracy: 0.9962 - val_loss: 0.1065 - val_accuracy: 0.9768\n",
            "Epoch 16/20\n",
            "375/375 [==============================] - 1s 3ms/step - loss: 0.0105 - accuracy: 0.9969 - val_loss: 0.1262 - val_accuracy: 0.9740\n",
            "Epoch 17/20\n",
            "375/375 [==============================] - 1s 4ms/step - loss: 0.0094 - accuracy: 0.9974 - val_loss: 0.1258 - val_accuracy: 0.9754\n",
            "Epoch 18/20\n",
            "375/375 [==============================] - 2s 5ms/step - loss: 0.0077 - accuracy: 0.9978 - val_loss: 0.1313 - val_accuracy: 0.9752\n",
            "Epoch 19/20\n",
            "375/375 [==============================] - 1s 4ms/step - loss: 0.0070 - accuracy: 0.9979 - val_loss: 0.1365 - val_accuracy: 0.9734\n",
            "Epoch 20/20\n",
            "375/375 [==============================] - 1s 4ms/step - loss: 0.0057 - accuracy: 0.9982 - val_loss: 0.1347 - val_accuracy: 0.9757\n"
          ]
        }
      ],
      "source": [
        "model = keras.Sequential([\n",
        "    layers.Dense(96, activation=\"relu\"),\n",
        "    layers.Dense(96, activation=\"relu\"),\n",
        "    layers.Dense(10, activation=\"softmax\"),\n",
        "])\n",
        "model.compile(optimizer=\"rmsprop\",\n",
        "              loss=\"sparse_categorical_crossentropy\",\n",
        "              metrics=[\"accuracy\"])\n",
        "history_large_model = model.fit(\n",
        "    train_images, train_labels,\n",
        "    epochs=20,\n",
        "    batch_size=128,\n",
        "    validation_split=0.2)\n",
        "\n",
        "\n",
        "# 해당 코드는 96개의 노드로 이루어진 2개의 Dense Layer와 10개의 노드로 이루어진 출력 Layer로 이루어진 더 큰 모델을 생성하고 컴파일하며, \n",
        "# 이 모델을 MNIST 데이터셋으로 학습시키는 코드입니다.\n",
        "\n",
        "# 모델은 RMSprop 옵티마이저를 사용하며, sparse_categorical_crossentropy 손실 함수를 사용합니다. 학습 과정에서 accuracy 메트릭을 사용하여 모델의 정확도를 평가합니다.\n",
        "\n",
        "# 학습 데이터는 128개의 샘플을 가진 batch를 이용하여 20번의 epoch 동안 학습을 진행합니다. \n",
        "# 이때 학습에는 학습 데이터셋의 80%를 사용하고, 검증에는 학습 데이터셋의 20%를 사용합니다."
      ]
    },
    {
      "cell_type": "markdown",
      "metadata": {
        "id": "XQPB5pOFxcz_"
      },
      "source": [
        "## Improving generalization"
      ]
    },
    {
      "cell_type": "markdown",
      "metadata": {
        "id": "4UmBZwsYxcz_"
      },
      "source": [
        "### Dataset curation"
      ]
    },
    {
      "cell_type": "markdown",
      "metadata": {
        "id": "j-6apIIrxcz_"
      },
      "source": [
        "### Feature engineering"
      ]
    },
    {
      "cell_type": "markdown",
      "metadata": {
        "id": "qQUuFeawxcz_"
      },
      "source": [
        "### Using early stopping"
      ]
    },
    {
      "cell_type": "markdown",
      "metadata": {
        "id": "TeSsIE5Excz_"
      },
      "source": [
        "### Regularizing your model"
      ]
    },
    {
      "cell_type": "markdown",
      "metadata": {
        "id": "35efiYYfxcz_"
      },
      "source": [
        "#### Reducing the network's size"
      ]
    },
    {
      "cell_type": "markdown",
      "metadata": {
        "id": "KX0nTtkmxcz_"
      },
      "source": [
        "**Original model**"
      ]
    },
    {
      "cell_type": "code",
      "execution_count": 10,
      "metadata": {
        "id": "heUya__4xcz_",
        "outputId": "03357bfc-fd96-4aeb-d536-387a451b6e64",
        "colab": {
          "base_uri": "https://localhost:8080/"
        }
      },
      "outputs": [
        {
          "output_type": "stream",
          "name": "stdout",
          "text": [
            "Downloading data from https://storage.googleapis.com/tensorflow/tf-keras-datasets/imdb.npz\n",
            "17464789/17464789 [==============================] - 0s 0us/step\n",
            "Epoch 1/20\n",
            "30/30 [==============================] - 3s 62ms/step - loss: 0.5122 - accuracy: 0.7715 - val_loss: 0.3766 - val_accuracy: 0.8712\n",
            "Epoch 2/20\n",
            "30/30 [==============================] - 1s 24ms/step - loss: 0.3041 - accuracy: 0.9001 - val_loss: 0.3296 - val_accuracy: 0.8705\n",
            "Epoch 3/20\n",
            "30/30 [==============================] - 1s 25ms/step - loss: 0.2275 - accuracy: 0.9239 - val_loss: 0.3688 - val_accuracy: 0.8459\n",
            "Epoch 4/20\n",
            "30/30 [==============================] - 1s 23ms/step - loss: 0.1870 - accuracy: 0.9379 - val_loss: 0.2929 - val_accuracy: 0.8815\n",
            "Epoch 5/20\n",
            "30/30 [==============================] - 1s 24ms/step - loss: 0.1570 - accuracy: 0.9491 - val_loss: 0.2829 - val_accuracy: 0.8885\n",
            "Epoch 6/20\n",
            "30/30 [==============================] - 1s 23ms/step - loss: 0.1297 - accuracy: 0.9595 - val_loss: 0.2902 - val_accuracy: 0.8873\n",
            "Epoch 7/20\n",
            "30/30 [==============================] - 1s 25ms/step - loss: 0.1147 - accuracy: 0.9652 - val_loss: 0.3540 - val_accuracy: 0.8710\n",
            "Epoch 8/20\n",
            "30/30 [==============================] - 1s 23ms/step - loss: 0.0961 - accuracy: 0.9720 - val_loss: 0.3276 - val_accuracy: 0.8790\n",
            "Epoch 9/20\n",
            "30/30 [==============================] - 1s 25ms/step - loss: 0.0831 - accuracy: 0.9770 - val_loss: 0.3356 - val_accuracy: 0.8824\n",
            "Epoch 10/20\n",
            "30/30 [==============================] - 1s 25ms/step - loss: 0.0745 - accuracy: 0.9795 - val_loss: 0.3554 - val_accuracy: 0.8812\n",
            "Epoch 11/20\n",
            "30/30 [==============================] - 1s 23ms/step - loss: 0.0641 - accuracy: 0.9833 - val_loss: 0.3827 - val_accuracy: 0.8766\n",
            "Epoch 12/20\n",
            "30/30 [==============================] - 1s 25ms/step - loss: 0.0545 - accuracy: 0.9857 - val_loss: 0.3923 - val_accuracy: 0.8780\n",
            "Epoch 13/20\n",
            "30/30 [==============================] - 1s 39ms/step - loss: 0.0447 - accuracy: 0.9901 - val_loss: 0.4157 - val_accuracy: 0.8767\n",
            "Epoch 14/20\n",
            "30/30 [==============================] - 1s 29ms/step - loss: 0.0419 - accuracy: 0.9902 - val_loss: 0.4384 - val_accuracy: 0.8750\n",
            "Epoch 15/20\n",
            "30/30 [==============================] - 1s 22ms/step - loss: 0.0343 - accuracy: 0.9932 - val_loss: 0.4897 - val_accuracy: 0.8684\n",
            "Epoch 16/20\n",
            "30/30 [==============================] - 1s 22ms/step - loss: 0.0327 - accuracy: 0.9934 - val_loss: 0.4784 - val_accuracy: 0.8727\n",
            "Epoch 17/20\n",
            "30/30 [==============================] - 1s 24ms/step - loss: 0.0248 - accuracy: 0.9965 - val_loss: 0.5537 - val_accuracy: 0.8639\n",
            "Epoch 18/20\n",
            "30/30 [==============================] - 1s 25ms/step - loss: 0.0219 - accuracy: 0.9959 - val_loss: 0.5236 - val_accuracy: 0.8714\n",
            "Epoch 19/20\n",
            "30/30 [==============================] - 1s 23ms/step - loss: 0.0186 - accuracy: 0.9971 - val_loss: 0.5584 - val_accuracy: 0.8690\n",
            "Epoch 20/20\n",
            "30/30 [==============================] - 1s 24ms/step - loss: 0.0158 - accuracy: 0.9976 - val_loss: 0.5893 - val_accuracy: 0.8690\n"
          ]
        }
      ],
      "source": [
        "from tensorflow.keras.datasets import imdb\n",
        "(train_data, train_labels), _ = imdb.load_data(num_words=10000)\n",
        "\n",
        "def vectorize_sequences(sequences, dimension=10000):\n",
        "    results = np.zeros((len(sequences), dimension))\n",
        "    for i, sequence in enumerate(sequences):\n",
        "        results[i, sequence] = 1.\n",
        "    return results\n",
        "train_data = vectorize_sequences(train_data)\n",
        "\n",
        "model = keras.Sequential([\n",
        "    layers.Dense(16, activation=\"relu\"),\n",
        "    layers.Dense(16, activation=\"relu\"),\n",
        "    layers.Dense(1, activation=\"sigmoid\")\n",
        "])\n",
        "model.compile(optimizer=\"rmsprop\",\n",
        "              loss=\"binary_crossentropy\",\n",
        "              metrics=[\"accuracy\"])\n",
        "history_original = model.fit(train_data, train_labels,\n",
        "                             epochs=20, batch_size=512, validation_split=0.4)\n",
        "\n",
        "# IMDB 데이터셋을 로드하고 벡터화하는 부분입니다. num_words 인수는 가장 많이 등장하는 단어 중에서 이용할 단어의 개수를 지정하는 것으로, \n",
        "# 10000이라는 값을 주어 10000개의 단어만 사용하도록 합니다. vectorize_sequences 함수는 IMDB 데이터셋의 단어들을 이진 벡터로 변환합니다. \n",
        "# 먼저 results 변수를 모두 0으로 초기화하고, 각각의 리뷰에서 등장한 단어들에 해당하는 벡터 요소를 1로 설정합니다. \n",
        "# 이후 모델 구성 및 학습에 필요한 설정들을 진행합니다. Sequential 모델을 사용하며, 각각의 은닉층은 16개의 유닛을 가지고 있습니다. \n",
        "# 출력층은 이진 분류 문제이므로 sigmoid 활성화 함수를 사용하였습니다. \n",
        "# rmsprop 옵티마이저를 이용하여 모델을 컴파일하고, fit 메서드를 통해 모델을 학습시킵니다. \n",
        "# 훈련 데이터 중 40%를 검증 데이터로 사용하며, 전체 데이터셋에 대해 20번의 에포크 동안 학습을 진행합니다."
      ]
    },
    {
      "cell_type": "markdown",
      "metadata": {
        "id": "ZRyDgrr1xcz_"
      },
      "source": [
        "**Version of the model with lower capacity**"
      ]
    },
    {
      "cell_type": "code",
      "execution_count": 11,
      "metadata": {
        "id": "7J9tAcRxxc0A",
        "outputId": "da5d295d-7158-46fb-c10d-10367a6104d5",
        "colab": {
          "base_uri": "https://localhost:8080/"
        }
      },
      "outputs": [
        {
          "output_type": "stream",
          "name": "stdout",
          "text": [
            "Epoch 1/20\n",
            "30/30 [==============================] - 3s 56ms/step - loss: 0.6595 - accuracy: 0.5797 - val_loss: 0.6253 - val_accuracy: 0.6606\n",
            "Epoch 2/20\n",
            "30/30 [==============================] - 1s 23ms/step - loss: 0.5933 - accuracy: 0.7107 - val_loss: 0.5754 - val_accuracy: 0.7149\n",
            "Epoch 3/20\n",
            "30/30 [==============================] - 1s 41ms/step - loss: 0.5431 - accuracy: 0.7845 - val_loss: 0.5376 - val_accuracy: 0.7899\n",
            "Epoch 4/20\n",
            "30/30 [==============================] - 1s 28ms/step - loss: 0.5032 - accuracy: 0.8307 - val_loss: 0.5122 - val_accuracy: 0.7980\n",
            "Epoch 5/20\n",
            "30/30 [==============================] - 1s 23ms/step - loss: 0.4716 - accuracy: 0.8613 - val_loss: 0.4886 - val_accuracy: 0.8536\n",
            "Epoch 6/20\n",
            "30/30 [==============================] - 1s 22ms/step - loss: 0.4450 - accuracy: 0.8844 - val_loss: 0.4727 - val_accuracy: 0.8682\n",
            "Epoch 7/20\n",
            "30/30 [==============================] - 1s 24ms/step - loss: 0.4226 - accuracy: 0.9031 - val_loss: 0.4606 - val_accuracy: 0.8690\n",
            "Epoch 8/20\n",
            "30/30 [==============================] - 1s 23ms/step - loss: 0.4021 - accuracy: 0.9156 - val_loss: 0.4620 - val_accuracy: 0.8534\n",
            "Epoch 9/20\n",
            "30/30 [==============================] - 1s 25ms/step - loss: 0.3837 - accuracy: 0.9267 - val_loss: 0.4426 - val_accuracy: 0.8825\n",
            "Epoch 10/20\n",
            "30/30 [==============================] - 1s 22ms/step - loss: 0.3673 - accuracy: 0.9374 - val_loss: 0.4526 - val_accuracy: 0.8655\n",
            "Epoch 11/20\n",
            "30/30 [==============================] - 1s 25ms/step - loss: 0.3517 - accuracy: 0.9438 - val_loss: 0.4424 - val_accuracy: 0.8740\n",
            "Epoch 12/20\n",
            "30/30 [==============================] - 1s 22ms/step - loss: 0.3374 - accuracy: 0.9527 - val_loss: 0.4362 - val_accuracy: 0.8794\n",
            "Epoch 13/20\n",
            "30/30 [==============================] - 1s 22ms/step - loss: 0.3238 - accuracy: 0.9587 - val_loss: 0.4390 - val_accuracy: 0.8789\n",
            "Epoch 14/20\n",
            "30/30 [==============================] - 1s 22ms/step - loss: 0.3109 - accuracy: 0.9646 - val_loss: 0.4613 - val_accuracy: 0.8695\n",
            "Epoch 15/20\n",
            "30/30 [==============================] - 1s 25ms/step - loss: 0.2988 - accuracy: 0.9697 - val_loss: 0.4485 - val_accuracy: 0.8771\n",
            "Epoch 16/20\n",
            "30/30 [==============================] - 1s 25ms/step - loss: 0.2877 - accuracy: 0.9737 - val_loss: 0.4506 - val_accuracy: 0.8777\n",
            "Epoch 17/20\n",
            "30/30 [==============================] - 1s 22ms/step - loss: 0.2769 - accuracy: 0.9767 - val_loss: 0.4670 - val_accuracy: 0.8742\n",
            "Epoch 18/20\n",
            "30/30 [==============================] - 1s 25ms/step - loss: 0.2671 - accuracy: 0.9791 - val_loss: 0.4920 - val_accuracy: 0.8681\n",
            "Epoch 19/20\n",
            "30/30 [==============================] - 1s 37ms/step - loss: 0.2577 - accuracy: 0.9821 - val_loss: 0.4829 - val_accuracy: 0.8741\n",
            "Epoch 20/20\n",
            "30/30 [==============================] - 1s 29ms/step - loss: 0.2483 - accuracy: 0.9838 - val_loss: 0.5056 - val_accuracy: 0.8707\n"
          ]
        }
      ],
      "source": [
        "model = keras.Sequential([\n",
        "    layers.Dense(4, activation=\"relu\"),\n",
        "    layers.Dense(4, activation=\"relu\"),\n",
        "    layers.Dense(1, activation=\"sigmoid\")\n",
        "])\n",
        "model.compile(optimizer=\"rmsprop\",\n",
        "              loss=\"binary_crossentropy\",\n",
        "              metrics=[\"accuracy\"])\n",
        "history_smaller_model = model.fit(\n",
        "    train_data, train_labels,\n",
        "    epochs=20, batch_size=512, validation_split=0.4)\n",
        "\n",
        "# 모델 구성에서는 은닉층이 2개이고, 각 은닉층은 4개의 뉴런을 가지고 relu 활성화 함수를 사용합니다. \n",
        "# 출력층은 하나의 뉴런을 가지고 sigmoid 활성화 함수를 사용합니다.\n",
        "\n",
        "# 모델 컴파일 시에는 rmsprop 옵티마이저, binary_crossentropy 손실 함수, accuracy 지표를 사용합니다.\n",
        "\n",
        "# 모델을 학습시키는데, 20 epoch 동안 512개의 샘플을 사용하여 학습하고, 40%의 검증 데이터를 사용하여 평가합니다. \n",
        "# 학습된 결과값은 history_smaller_model에 저장됩니다됩니다."
      ]
    },
    {
      "cell_type": "markdown",
      "metadata": {
        "id": "b4HWHd5exc0A"
      },
      "source": [
        "**Version of the model with higher capacity**"
      ]
    },
    {
      "cell_type": "code",
      "execution_count": 14,
      "metadata": {
        "id": "YNwykSkgxc0A",
        "outputId": "085b18f4-e0ea-4943-dbbb-0d3c1b26bd34",
        "colab": {
          "base_uri": "https://localhost:8080/"
        }
      },
      "outputs": [
        {
          "output_type": "stream",
          "name": "stdout",
          "text": [
            "Epoch 1/20\n",
            "30/30 [==============================] - 3s 80ms/step - loss: 0.5539 - accuracy: 0.7211 - val_loss: 0.5336 - val_accuracy: 0.7230\n",
            "Epoch 2/20\n",
            "30/30 [==============================] - 1s 28ms/step - loss: 0.3244 - accuracy: 0.8681 - val_loss: 0.2768 - val_accuracy: 0.8877\n",
            "Epoch 3/20\n",
            "30/30 [==============================] - 1s 26ms/step - loss: 0.2387 - accuracy: 0.9043 - val_loss: 0.2725 - val_accuracy: 0.8921\n",
            "Epoch 4/20\n",
            "30/30 [==============================] - 1s 29ms/step - loss: 0.1745 - accuracy: 0.9339 - val_loss: 0.2841 - val_accuracy: 0.8870\n",
            "Epoch 5/20\n",
            "30/30 [==============================] - 1s 27ms/step - loss: 0.1306 - accuracy: 0.9506 - val_loss: 0.4420 - val_accuracy: 0.8472\n",
            "Epoch 6/20\n",
            "30/30 [==============================] - 1s 29ms/step - loss: 0.1180 - accuracy: 0.9573 - val_loss: 0.3339 - val_accuracy: 0.8819\n",
            "Epoch 7/20\n",
            "30/30 [==============================] - 1s 27ms/step - loss: 0.0845 - accuracy: 0.9740 - val_loss: 0.3484 - val_accuracy: 0.8836\n",
            "Epoch 8/20\n",
            "30/30 [==============================] - 1s 26ms/step - loss: 0.0678 - accuracy: 0.9784 - val_loss: 0.3738 - val_accuracy: 0.8832\n",
            "Epoch 9/20\n",
            "30/30 [==============================] - 1s 29ms/step - loss: 0.0485 - accuracy: 0.9887 - val_loss: 0.4414 - val_accuracy: 0.8550\n",
            "Epoch 10/20\n",
            "30/30 [==============================] - 1s 26ms/step - loss: 0.0155 - accuracy: 0.9985 - val_loss: 0.4501 - val_accuracy: 0.8817\n",
            "Epoch 11/20\n",
            "30/30 [==============================] - 1s 26ms/step - loss: 0.0612 - accuracy: 0.9868 - val_loss: 0.3764 - val_accuracy: 0.8779\n",
            "Epoch 12/20\n",
            "30/30 [==============================] - 1s 28ms/step - loss: 0.0069 - accuracy: 0.9999 - val_loss: 0.4838 - val_accuracy: 0.8824\n",
            "Epoch 13/20\n",
            "30/30 [==============================] - 1s 27ms/step - loss: 0.0026 - accuracy: 0.9999 - val_loss: 0.5437 - val_accuracy: 0.8829\n",
            "Epoch 14/20\n",
            "30/30 [==============================] - 1s 33ms/step - loss: 0.0893 - accuracy: 0.9807 - val_loss: 0.4424 - val_accuracy: 0.8823\n",
            "Epoch 15/20\n",
            "30/30 [==============================] - 1s 43ms/step - loss: 0.0028 - accuracy: 1.0000 - val_loss: 0.5295 - val_accuracy: 0.8818\n",
            "Epoch 16/20\n",
            "30/30 [==============================] - 1s 29ms/step - loss: 0.0012 - accuracy: 1.0000 - val_loss: 0.6146 - val_accuracy: 0.8789\n",
            "Epoch 17/20\n",
            "30/30 [==============================] - 1s 28ms/step - loss: 6.9880e-04 - accuracy: 1.0000 - val_loss: 0.6531 - val_accuracy: 0.8829\n",
            "Epoch 18/20\n",
            "30/30 [==============================] - 1s 28ms/step - loss: 4.4909e-04 - accuracy: 1.0000 - val_loss: 0.6855 - val_accuracy: 0.8824\n",
            "Epoch 19/20\n",
            "30/30 [==============================] - 1s 29ms/step - loss: 3.1160e-04 - accuracy: 1.0000 - val_loss: 0.7225 - val_accuracy: 0.8801\n",
            "Epoch 20/20\n",
            "30/30 [==============================] - 1s 28ms/step - loss: 2.3845e-04 - accuracy: 1.0000 - val_loss: 0.7377 - val_accuracy: 0.8822\n"
          ]
        }
      ],
      "source": [
        "model = keras.Sequential([\n",
        "    layers.Dense(512, activation=\"relu\"),\n",
        "    layers.Dense(512, activation=\"relu\"),\n",
        "    layers.Dense(1, activation=\"sigmoid\")\n",
        "])\n",
        "model.compile(optimizer=\"rmsprop\",\n",
        "              loss=\"binary_crossentropy\",\n",
        "              metrics=[\"accuracy\"])\n",
        "history_larger_model = model.fit(\n",
        "    train_data, train_labels,\n",
        "    epochs=20, batch_size=512, validation_split=0.4)\n",
        "\n",
        "# IMDB 리뷰 데이터셋을 로드하고, 10,000개의 단어만 사용하도록 지정하여 훈련 데이터와 레이블을 가져옵니다. \n",
        "# 이어서 model을 구성합니다. 이 모델은 Sequential 모델로, 2개의 은닉층과 1개의 출력층으로 구성됩니다. \n",
        "# 은닉층은 각각 512개의 뉴런과 ReLU 활성화 함수를 사용합니다. 출력층은 1개의 뉴런과 Sigmoid 활성화 함수를 사용합니다.\n",
        "\n",
        "# model을 컴파일할 때는 \"rmsprop\" 옵티마이저, \"binary_crossentropy\" 손실 함수, \"accuracy\" 지표를 사용합니다.\n",
        "\n",
        "# model.fit()을 사용하여 모델을 학습시키는데, 20번의 epoch 동안 512개의 샘플을 사용하여 학습하고 40%의 검증 데이터를 사용하여 평가합니다. \n",
        "# 결과값은 history_larger_model에 저장됩니다."
      ]
    },
    {
      "cell_type": "markdown",
      "metadata": {
        "id": "Qc9xNzKuxc0A"
      },
      "source": [
        "#### Adding weight regularization"
      ]
    },
    {
      "cell_type": "markdown",
      "metadata": {
        "id": "ReHNbUSnxc0A"
      },
      "source": [
        "**Adding L2 weight regularization to the model**"
      ]
    },
    {
      "cell_type": "code",
      "execution_count": 15,
      "metadata": {
        "id": "yYCy5wZExc0A",
        "outputId": "1df7ec4a-e717-4378-833a-df6bec04220f",
        "colab": {
          "base_uri": "https://localhost:8080/"
        }
      },
      "outputs": [
        {
          "output_type": "stream",
          "name": "stdout",
          "text": [
            "Epoch 1/20\n",
            "30/30 [==============================] - 3s 57ms/step - loss: 0.6205 - accuracy: 0.7729 - val_loss: 0.4856 - val_accuracy: 0.8697\n",
            "Epoch 2/20\n",
            "30/30 [==============================] - 1s 22ms/step - loss: 0.4161 - accuracy: 0.8915 - val_loss: 0.3971 - val_accuracy: 0.8828\n",
            "Epoch 3/20\n",
            "30/30 [==============================] - 1s 25ms/step - loss: 0.3393 - accuracy: 0.9115 - val_loss: 0.3959 - val_accuracy: 0.8704\n",
            "Epoch 4/20\n",
            "30/30 [==============================] - 1s 22ms/step - loss: 0.2990 - accuracy: 0.9252 - val_loss: 0.3855 - val_accuracy: 0.8719\n",
            "Epoch 5/20\n",
            "30/30 [==============================] - 1s 22ms/step - loss: 0.2775 - accuracy: 0.9327 - val_loss: 0.3803 - val_accuracy: 0.8775\n",
            "Epoch 6/20\n",
            "30/30 [==============================] - 1s 24ms/step - loss: 0.2623 - accuracy: 0.9379 - val_loss: 0.3689 - val_accuracy: 0.8808\n",
            "Epoch 7/20\n",
            "30/30 [==============================] - 1s 22ms/step - loss: 0.2515 - accuracy: 0.9414 - val_loss: 0.3625 - val_accuracy: 0.8838\n",
            "Epoch 8/20\n",
            "30/30 [==============================] - 1s 22ms/step - loss: 0.2402 - accuracy: 0.9461 - val_loss: 0.3905 - val_accuracy: 0.8749\n",
            "Epoch 9/20\n",
            "30/30 [==============================] - 1s 22ms/step - loss: 0.2366 - accuracy: 0.9471 - val_loss: 0.3717 - val_accuracy: 0.8817\n",
            "Epoch 10/20\n",
            "30/30 [==============================] - 1s 25ms/step - loss: 0.2298 - accuracy: 0.9485 - val_loss: 0.3816 - val_accuracy: 0.8804\n",
            "Epoch 11/20\n",
            "30/30 [==============================] - 1s 40ms/step - loss: 0.2205 - accuracy: 0.9537 - val_loss: 0.3965 - val_accuracy: 0.8767\n",
            "Epoch 12/20\n",
            "30/30 [==============================] - 2s 53ms/step - loss: 0.2212 - accuracy: 0.9520 - val_loss: 0.3928 - val_accuracy: 0.8770\n",
            "Epoch 13/20\n",
            "30/30 [==============================] - 1s 27ms/step - loss: 0.2157 - accuracy: 0.9548 - val_loss: 0.4010 - val_accuracy: 0.8765\n",
            "Epoch 14/20\n",
            "30/30 [==============================] - 1s 25ms/step - loss: 0.2133 - accuracy: 0.9551 - val_loss: 0.4031 - val_accuracy: 0.8766\n",
            "Epoch 15/20\n",
            "30/30 [==============================] - 1s 22ms/step - loss: 0.2093 - accuracy: 0.9563 - val_loss: 0.4146 - val_accuracy: 0.8741\n",
            "Epoch 16/20\n",
            "30/30 [==============================] - 1s 23ms/step - loss: 0.2147 - accuracy: 0.9545 - val_loss: 0.4042 - val_accuracy: 0.8769\n",
            "Epoch 17/20\n",
            "30/30 [==============================] - 1s 22ms/step - loss: 0.2016 - accuracy: 0.9605 - val_loss: 0.4213 - val_accuracy: 0.8729\n",
            "Epoch 18/20\n",
            "30/30 [==============================] - 1s 22ms/step - loss: 0.2024 - accuracy: 0.9597 - val_loss: 0.4077 - val_accuracy: 0.8777\n",
            "Epoch 19/20\n",
            "30/30 [==============================] - 1s 22ms/step - loss: 0.1983 - accuracy: 0.9620 - val_loss: 0.4661 - val_accuracy: 0.8606\n",
            "Epoch 20/20\n",
            "30/30 [==============================] - 1s 22ms/step - loss: 0.1984 - accuracy: 0.9625 - val_loss: 0.4177 - val_accuracy: 0.8744\n"
          ]
        }
      ],
      "source": [
        "from tensorflow.keras import regularizers\n",
        "model = keras.Sequential([\n",
        "    layers.Dense(16,\n",
        "                 kernel_regularizer=regularizers.l2(0.002),\n",
        "                 activation=\"relu\"),\n",
        "    layers.Dense(16,\n",
        "                 kernel_regularizer=regularizers.l2(0.002),\n",
        "                 activation=\"relu\"),\n",
        "    layers.Dense(1, activation=\"sigmoid\")\n",
        "])\n",
        "model.compile(optimizer=\"rmsprop\",\n",
        "              loss=\"binary_crossentropy\",\n",
        "              metrics=[\"accuracy\"])\n",
        "history_l2_reg = model.fit(\n",
        "    train_data, train_labels,\n",
        "    epochs=20, batch_size=512, validation_split=0.4)\n",
        "\n",
        "# regularizers 모듈을 이용하여 L2 규제를 추가한 모델을 만듭니다. Sequential 모델에 2개의 은닉층과 1개의 출력층을 추가합니다. \n",
        "# 각 은닉층은 16개의 뉴런과 ReLU 활성화 함수를 사용합니다. 그리고 각 은닉층의 가중치에 L2 규제를 적용합니다. 출력층은 1개의 뉴런과 Sigmoid 활성화 함수를 사용합니다.\n",
        "\n",
        "# model을 컴파일할 때는 \"rmsprop\" 옵티마이저, \"binary_crossentropy\" 손실 함수, \"accuracy\" 지표를 사용합니다.\n",
        "\n",
        "# model.fit()을 사용하여 모델을 학습시키는데, 20번의 epoch 동안 512개의 샘플을 사용하여 학습하고 40%의 검증 데이터를 사용하여 평가합니다.\n",
        "# 결과값은 history_l2_reg에 저장됩니다."
      ]
    },
    {
      "cell_type": "markdown",
      "metadata": {
        "id": "EBdmWEf3xc0A"
      },
      "source": [
        "**Different weight regularizers available in Keras**"
      ]
    },
    {
      "cell_type": "code",
      "execution_count": 16,
      "metadata": {
        "id": "StFY8EGOxc0A",
        "outputId": "ea908260-2d0d-424e-d15b-6d9f4a3e0aeb",
        "colab": {
          "base_uri": "https://localhost:8080/"
        }
      },
      "outputs": [
        {
          "output_type": "execute_result",
          "data": {
            "text/plain": [
              "<keras.regularizers.L1L2 at 0x7f8a1a77dd30>"
            ]
          },
          "metadata": {},
          "execution_count": 16
        }
      ],
      "source": [
        "from tensorflow.keras import regularizers\n",
        "regularizers.l1(0.001)\n",
        "regularizers.l1_l2(l1=0.001, l2=0.001)\n",
        "\n",
        "# 위 코드는 keras의 regularizers 모듈을 사용하여 L1, L2, L1_L2 규제를 설정하는 예시입니다.\n",
        "\n",
        "# regularizers.l1(0.001)은 L1 규제를 설정하며, 규제 강도는 0.001로 지정됩니다. L1 규제는 가중치의 절댓값에 비례하는 값으로, 가중치가 0에 가까워지도록 합니다.\n",
        "\n",
        "# regularizers.l2(0.001)는 L2 규제를 설정하며, 규제 강도는 0.001로 지정됩니다. L2 규제는 가중치의 제곱에 비례하는 값으로, 가중치를 작게 유지하도록 합니다.\n",
        "\n",
        "# regularizers.l1_l2(l1=0.001, l2=0.001)은 L1_L2 규제를 설정하며, L1 규제와 L2 규제를 함께 사용합니다. l\n",
        "# 1과 l2 매개변수를 사용하여 규제 강도를 각각 지정할 수 있습니다. L1_L2 규제는 L1 규제와 L2 규제를 합한 값으로 가중치를 작게 유지하고 0에 가까워지도록 합니다."
      ]
    },
    {
      "cell_type": "markdown",
      "metadata": {
        "id": "YdUQsjsNxc0B"
      },
      "source": [
        "#### Adding dropout"
      ]
    },
    {
      "cell_type": "markdown",
      "metadata": {
        "id": "apUeJLWzxc0B"
      },
      "source": [
        "**Adding dropout to the IMDB model**"
      ]
    },
    {
      "cell_type": "code",
      "execution_count": 17,
      "metadata": {
        "id": "1dQGnIFPxc0B",
        "outputId": "a7af3ca3-71d3-4691-ae2b-76f1ecf7d823",
        "colab": {
          "base_uri": "https://localhost:8080/"
        }
      },
      "outputs": [
        {
          "output_type": "stream",
          "name": "stdout",
          "text": [
            "Epoch 1/20\n",
            "30/30 [==============================] - 4s 62ms/step - loss: 0.6403 - accuracy: 0.6343 - val_loss: 0.5335 - val_accuracy: 0.8088\n",
            "Epoch 2/20\n",
            "30/30 [==============================] - 1s 25ms/step - loss: 0.5346 - accuracy: 0.7675 - val_loss: 0.4474 - val_accuracy: 0.8675\n",
            "Epoch 3/20\n",
            "30/30 [==============================] - 1s 25ms/step - loss: 0.4470 - accuracy: 0.8207 - val_loss: 0.3726 - val_accuracy: 0.8648\n",
            "Epoch 4/20\n",
            "30/30 [==============================] - 1s 23ms/step - loss: 0.3862 - accuracy: 0.8497 - val_loss: 0.3180 - val_accuracy: 0.8842\n",
            "Epoch 5/20\n",
            "30/30 [==============================] - 1s 23ms/step - loss: 0.3341 - accuracy: 0.8739 - val_loss: 0.2871 - val_accuracy: 0.8913\n",
            "Epoch 6/20\n",
            "30/30 [==============================] - 1s 23ms/step - loss: 0.2968 - accuracy: 0.8920 - val_loss: 0.2778 - val_accuracy: 0.8905\n",
            "Epoch 7/20\n",
            "30/30 [==============================] - 1s 22ms/step - loss: 0.2619 - accuracy: 0.9044 - val_loss: 0.2745 - val_accuracy: 0.8910\n",
            "Epoch 8/20\n",
            "30/30 [==============================] - 1s 22ms/step - loss: 0.2298 - accuracy: 0.9189 - val_loss: 0.2767 - val_accuracy: 0.8908\n",
            "Epoch 9/20\n",
            "30/30 [==============================] - 1s 24ms/step - loss: 0.2076 - accuracy: 0.9279 - val_loss: 0.2894 - val_accuracy: 0.8915\n",
            "Epoch 10/20\n",
            "30/30 [==============================] - 1s 23ms/step - loss: 0.1899 - accuracy: 0.9352 - val_loss: 0.2999 - val_accuracy: 0.8925\n",
            "Epoch 11/20\n",
            "30/30 [==============================] - 1s 25ms/step - loss: 0.1657 - accuracy: 0.9431 - val_loss: 0.3109 - val_accuracy: 0.8920\n",
            "Epoch 12/20\n",
            "30/30 [==============================] - 1s 25ms/step - loss: 0.1539 - accuracy: 0.9477 - val_loss: 0.3242 - val_accuracy: 0.8903\n",
            "Epoch 13/20\n",
            "30/30 [==============================] - 1s 25ms/step - loss: 0.1334 - accuracy: 0.9531 - val_loss: 0.3509 - val_accuracy: 0.8900\n",
            "Epoch 14/20\n",
            "30/30 [==============================] - 1s 28ms/step - loss: 0.1276 - accuracy: 0.9556 - val_loss: 0.3951 - val_accuracy: 0.8856\n",
            "Epoch 15/20\n",
            "30/30 [==============================] - 1s 29ms/step - loss: 0.1137 - accuracy: 0.9587 - val_loss: 0.4217 - val_accuracy: 0.8878\n",
            "Epoch 16/20\n",
            "30/30 [==============================] - 1s 28ms/step - loss: 0.1012 - accuracy: 0.9649 - val_loss: 0.4212 - val_accuracy: 0.8862\n",
            "Epoch 17/20\n",
            "30/30 [==============================] - 1s 23ms/step - loss: 0.1020 - accuracy: 0.9612 - val_loss: 0.4687 - val_accuracy: 0.8852\n",
            "Epoch 18/20\n",
            "30/30 [==============================] - 1s 23ms/step - loss: 0.0909 - accuracy: 0.9660 - val_loss: 0.4739 - val_accuracy: 0.8847\n",
            "Epoch 19/20\n",
            "30/30 [==============================] - 1s 24ms/step - loss: 0.0877 - accuracy: 0.9708 - val_loss: 0.4943 - val_accuracy: 0.8866\n",
            "Epoch 20/20\n",
            "30/30 [==============================] - 1s 22ms/step - loss: 0.0832 - accuracy: 0.9733 - val_loss: 0.4963 - val_accuracy: 0.8816\n"
          ]
        }
      ],
      "source": [
        "model = keras.Sequential([\n",
        "    layers.Dense(16, activation=\"relu\"),\n",
        "    layers.Dropout(0.5),\n",
        "    layers.Dense(16, activation=\"relu\"),\n",
        "    layers.Dropout(0.5),\n",
        "    layers.Dense(1, activation=\"sigmoid\")\n",
        "])\n",
        "model.compile(optimizer=\"rmsprop\",\n",
        "              loss=\"binary_crossentropy\",\n",
        "              metrics=[\"accuracy\"])\n",
        "history_dropout = model.fit(\n",
        "    train_data, train_labels,\n",
        "    epochs=20, batch_size=512, validation_split=0.4)\n",
        "\n",
        "# 위 코드는 드롭아웃을 적용한 모델을 생성하고 컴파일한 후, 학습시키는 코드입니다.\n",
        "\n",
        "# 모델은 Sequential 모델로 구성되며, 첫번째와 두번째 은닉층은 각각 16개의 뉴런과 ReLU 활성화 함수를 사용합니다. \n",
        "# 드롭아웃은 0.5의 비율로 적용됩니다. 출력층은 1개의 뉴런과 Sigmoid 활성화 함수를 사용합니다.\n",
        "\n",
        "# 모델 컴파일 시에는 \"rmsprop\" 옵티마이저, \"binary_crossentropy\" 손실 함수, \"accuracy\" 지표를 사용합니다.\n",
        "\n",
        "# model.fit()을 사용하여 모델을 학습시키는데, 20번의 epoch 동안 512개의 샘플을 사용하여 학습하고 40%의 검증 데이터를 사용하여 평가합니다. \n",
        "# 결과값은 history_dropout에 저장됩니다."
      ]
    },
    {
      "cell_type": "markdown",
      "metadata": {
        "id": "KTfndv-Nxc0B"
      },
      "source": [
        "## Summary"
      ]
    }
  ],
  "metadata": {
    "colab": {
      "name": "chapter05_fundamentals-of-ml.i",
      "provenance": [],
      "toc_visible": true
    },
    "kernelspec": {
      "display_name": "Python 3",
      "language": "python",
      "name": "python3"
    },
    "language_info": {
      "codemirror_mode": {
        "name": "ipython",
        "version": 3
      },
      "file_extension": ".py",
      "mimetype": "text/x-python",
      "name": "python",
      "nbconvert_exporter": "python",
      "pygments_lexer": "ipython3",
      "version": "3.7.0"
    },
    "accelerator": "GPU",
    "gpuClass": "standard"
  },
  "nbformat": 4,
  "nbformat_minor": 0
}